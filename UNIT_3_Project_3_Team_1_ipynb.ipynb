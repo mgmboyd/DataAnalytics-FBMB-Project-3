{
  "nbformat": 4,
  "nbformat_minor": 0,
  "metadata": {
    "colab": {
      "name": "UNIT 3 Project 3-Team 1  ipynb",
      "provenance": [],
      "collapsed_sections": [],
      "include_colab_link": true
    },
    "kernelspec": {
      "name": "python3",
      "display_name": "Python 3"
    }
  },
  "cells": [
    {
      "cell_type": "markdown",
      "metadata": {
        "id": "view-in-github",
        "colab_type": "text"
      },
      "source": [
        "<a href=\"https://colab.research.google.com/github/mgmboyd/DataAnalytics-Project3/blob/master/UNIT_3_Project_3_Team_1_ipynb.ipynb\" target=\"_parent\"><img src=\"https://colab.research.google.com/assets/colab-badge.svg\" alt=\"Open In Colab\"/></a>"
      ]
    },
    {
      "cell_type": "code",
      "metadata": {
        "id": "Hh_4Tv68FoMp",
        "colab_type": "code",
        "colab": {
          "base_uri": "https://localhost:8080/",
          "height": 117
        },
        "outputId": "4287a088-4a8c-4ba2-bf37-5051ac1107eb"
      },
      "source": [
        "import pandas as pd\n",
        "import numpy as np\n",
        "import matplotlib.pyplot as plt\n",
        "%matplotlib inline\n",
        "from matplotlib import style\n",
        "import plotly.express as px\n",
        "import seaborn as sns\n",
        "sns.set()\n",
        "!pip install sodapy"
      ],
      "execution_count": null,
      "outputs": [
        {
          "output_type": "stream",
          "text": [
            "Requirement already satisfied: sodapy in /usr/local/lib/python3.6/dist-packages (2.1.0)\n",
            "Requirement already satisfied: requests>=2.20.0 in /usr/local/lib/python3.6/dist-packages (from sodapy) (2.23.0)\n",
            "Requirement already satisfied: idna<3,>=2.5 in /usr/local/lib/python3.6/dist-packages (from requests>=2.20.0->sodapy) (2.10)\n",
            "Requirement already satisfied: certifi>=2017.4.17 in /usr/local/lib/python3.6/dist-packages (from requests>=2.20.0->sodapy) (2020.6.20)\n",
            "Requirement already satisfied: chardet<4,>=3.0.2 in /usr/local/lib/python3.6/dist-packages (from requests>=2.20.0->sodapy) (3.0.4)\n",
            "Requirement already satisfied: urllib3!=1.25.0,!=1.25.1,<1.26,>=1.21.1 in /usr/local/lib/python3.6/dist-packages (from requests>=2.20.0->sodapy) (1.24.3)\n"
          ],
          "name": "stdout"
        }
      ]
    },
    {
      "cell_type": "code",
      "metadata": {
        "id": "cHP19ZIpF3Mh",
        "colab_type": "code",
        "colab": {}
      },
      "source": [
        "df = pd.read_csv('https://raw.githubusercontent.com/mgmboyd/DataAnalytics-Project3/master/Harlem_covid_cases_project%20-%20V.4.csv')"
      ],
      "execution_count": null,
      "outputs": []
    },
    {
      "cell_type": "code",
      "metadata": {
        "id": "q1SP-_kZG7wd",
        "colab_type": "code",
        "colab": {
          "base_uri": "https://localhost:8080/",
          "height": 341
        },
        "outputId": "bf870870-3504-4961-d464-34764bf5f34a"
      },
      "source": [
        "df.head(3)"
      ],
      "execution_count": null,
      "outputs": [
        {
          "output_type": "execute_result",
          "data": {
            "text/html": [
              "<div>\n",
              "<style scoped>\n",
              "    .dataframe tbody tr th:only-of-type {\n",
              "        vertical-align: middle;\n",
              "    }\n",
              "\n",
              "    .dataframe tbody tr th {\n",
              "        vertical-align: top;\n",
              "    }\n",
              "\n",
              "    .dataframe thead th {\n",
              "        text-align: right;\n",
              "    }\n",
              "</style>\n",
              "<table border=\"1\" class=\"dataframe\">\n",
              "  <thead>\n",
              "    <tr style=\"text-align: right;\">\n",
              "      <th></th>\n",
              "      <th>facility</th>\n",
              "      <th>admit_date</th>\n",
              "      <th>month</th>\n",
              "      <th>year</th>\n",
              "      <th>encounter_dept</th>\n",
              "      <th>dept_id</th>\n",
              "      <th>encounter_type</th>\n",
              "      <th>encounter_type_id</th>\n",
              "      <th>collection_dept</th>\n",
              "      <th>admit_status</th>\n",
              "      <th>admit_status_id</th>\n",
              "      <th>service</th>\n",
              "      <th>service_id</th>\n",
              "      <th>unit_room</th>\n",
              "      <th>mrn</th>\n",
              "      <th>age</th>\n",
              "      <th>mortality_status</th>\n",
              "      <th>abnormality</th>\n",
              "      <th>abnormal</th>\n",
              "      <th>component</th>\n",
              "      <th>procedure</th>\n",
              "      <th>lab_id</th>\n",
              "      <th>infection_status</th>\n",
              "      <th>value</th>\n",
              "      <th>specimen_type</th>\n",
              "      <th>collected_date</th>\n",
              "      <th>collected_time</th>\n",
              "      <th>isolation_status</th>\n",
              "      <th>lab_status</th>\n",
              "      <th>result_date</th>\n",
              "      <th>result_time</th>\n",
              "      <th>discharge_date</th>\n",
              "      <th>gender</th>\n",
              "      <th>zip_code</th>\n",
              "      <th>primary_problem</th>\n",
              "      <th>visit_count</th>\n",
              "    </tr>\n",
              "  </thead>\n",
              "  <tbody>\n",
              "    <tr>\n",
              "      <th>0</th>\n",
              "      <td>HARLEM HOSPITAL CENTER</td>\n",
              "      <td>12/22/2018</td>\n",
              "      <td>December</td>\n",
              "      <td>2018</td>\n",
              "      <td>HA IP 11SU</td>\n",
              "      <td>1012007020</td>\n",
              "      <td>Discharged</td>\n",
              "      <td>300</td>\n",
              "      <td>HA IP 11SU</td>\n",
              "      <td>No</td>\n",
              "      <td>0</td>\n",
              "      <td>Medicine</td>\n",
              "      <td>122</td>\n",
              "      <td>HA 11SU 11-111</td>\n",
              "      <td>1</td>\n",
              "      <td>83.0</td>\n",
              "      <td>Deceased</td>\n",
              "      <td>Abnormal</td>\n",
              "      <td>Abnormal</td>\n",
              "      <td>SCANNED REPORT\\r\\nCOVID-19 BIOREFERENCE LAB</td>\n",
              "      <td>BIOREFERENCE COVID-19 PCR(SO) [LABC1925]</td>\n",
              "      <td>LABC1925</td>\n",
              "      <td>COVID-19 (confirmed)</td>\n",
              "      <td>Positive</td>\n",
              "      <td>Nasopharyngeal</td>\n",
              "      <td>4/6/2020</td>\n",
              "      <td>1059</td>\n",
              "      <td>Not reported</td>\n",
              "      <td>Final result</td>\n",
              "      <td>4/15/2020</td>\n",
              "      <td>11:07:20 AM</td>\n",
              "      <td>4/10/2020</td>\n",
              "      <td>F</td>\n",
              "      <td>10026</td>\n",
              "      <td>Atrial flutter (HCC) (Additional Hospital Prob...</td>\n",
              "      <td>1</td>\n",
              "    </tr>\n",
              "    <tr>\n",
              "      <th>1</th>\n",
              "      <td>HARLEM HOSPITAL CENTER</td>\n",
              "      <td>11/13/2019</td>\n",
              "      <td>November</td>\n",
              "      <td>2019</td>\n",
              "      <td>HA IP 13MD</td>\n",
              "      <td>1012007040</td>\n",
              "      <td>Discharged</td>\n",
              "      <td>300</td>\n",
              "      <td>HA IP 13MD</td>\n",
              "      <td>No</td>\n",
              "      <td>0</td>\n",
              "      <td>Medicine</td>\n",
              "      <td>122</td>\n",
              "      <td>HA 14MD 14-121</td>\n",
              "      <td>2</td>\n",
              "      <td>81.0</td>\n",
              "      <td>Not Deceased</td>\n",
              "      <td>Abnormal</td>\n",
              "      <td>Abnormal</td>\n",
              "      <td>SCANNED REPORT\\r\\nCOVID-19 BIOREFERENCE LAB</td>\n",
              "      <td>BIOREFERENCE COVID-19 PCR(SO) [LABC1925]</td>\n",
              "      <td>LABC1925</td>\n",
              "      <td>COVID-19 (confirmed)</td>\n",
              "      <td>Positive</td>\n",
              "      <td>Nasopharyngeal</td>\n",
              "      <td>3/23/2020</td>\n",
              "      <td>1305</td>\n",
              "      <td>Not reported</td>\n",
              "      <td>Final result</td>\n",
              "      <td>3/30/2020</td>\n",
              "      <td>1:09:12 PM</td>\n",
              "      <td>4/25/2020</td>\n",
              "      <td>M</td>\n",
              "      <td>10031</td>\n",
              "      <td>COVID-19 virus detected (Principal Hospital Pr...</td>\n",
              "      <td>1</td>\n",
              "    </tr>\n",
              "    <tr>\n",
              "      <th>2</th>\n",
              "      <td>HARLEM HOSPITAL CENTER</td>\n",
              "      <td>1/21/2020</td>\n",
              "      <td>January</td>\n",
              "      <td>2020</td>\n",
              "      <td>HA IP 13MD</td>\n",
              "      <td>1012007040</td>\n",
              "      <td>Discharged</td>\n",
              "      <td>300</td>\n",
              "      <td>HA IP 13MD</td>\n",
              "      <td>No</td>\n",
              "      <td>0</td>\n",
              "      <td>Medicine</td>\n",
              "      <td>122</td>\n",
              "      <td>HA 14MD 14-111</td>\n",
              "      <td>3</td>\n",
              "      <td>84.0</td>\n",
              "      <td>Not Deceased</td>\n",
              "      <td>Panic</td>\n",
              "      <td>Abnormal</td>\n",
              "      <td>NOVEL CORONAVIRUS (COVID-19)</td>\n",
              "      <td>LABCORP COVID-19 TEST (SEND OUT) [LABC1923]</td>\n",
              "      <td>LABC1923</td>\n",
              "      <td>COVID-19 (confirmed)</td>\n",
              "      <td>Positive</td>\n",
              "      <td>NP/OP Swab</td>\n",
              "      <td>3/19/2020</td>\n",
              "      <td>1713</td>\n",
              "      <td>Not reported</td>\n",
              "      <td>Final result</td>\n",
              "      <td>3/26/2020</td>\n",
              "      <td>6:02:40 PM</td>\n",
              "      <td>4/11/2020</td>\n",
              "      <td>F</td>\n",
              "      <td>10037</td>\n",
              "      <td>COVID-19 virus detected (Principal Hospital Pr...</td>\n",
              "      <td>1</td>\n",
              "    </tr>\n",
              "  </tbody>\n",
              "</table>\n",
              "</div>"
            ],
            "text/plain": [
              "                 facility  ... visit_count\n",
              "0  HARLEM HOSPITAL CENTER  ...           1\n",
              "1  HARLEM HOSPITAL CENTER  ...           1\n",
              "2  HARLEM HOSPITAL CENTER  ...           1\n",
              "\n",
              "[3 rows x 36 columns]"
            ]
          },
          "metadata": {
            "tags": []
          },
          "execution_count": 53
        }
      ]
    },
    {
      "cell_type": "code",
      "metadata": {
        "id": "MV07AwIZNJ2V",
        "colab_type": "code",
        "colab": {
          "base_uri": "https://localhost:8080/",
          "height": 33
        },
        "outputId": "5fb042f2-33ca-4c73-e68a-c745097fff53"
      },
      "source": [
        "df.shape"
      ],
      "execution_count": null,
      "outputs": [
        {
          "output_type": "execute_result",
          "data": {
            "text/plain": [
              "(839, 36)"
            ]
          },
          "metadata": {
            "tags": []
          },
          "execution_count": 55
        }
      ]
    },
    {
      "cell_type": "code",
      "metadata": {
        "id": "_NVohMjgWSuU",
        "colab_type": "code",
        "colab": {
          "base_uri": "https://localhost:8080/",
          "height": 167
        },
        "outputId": "50729d0d-fe9b-41e7-807a-f19cd7f17854"
      },
      "source": [
        "df.columns"
      ],
      "execution_count": null,
      "outputs": [
        {
          "output_type": "execute_result",
          "data": {
            "text/plain": [
              "Index(['facility', 'admit_date', 'month', 'year', 'encounter_dept', 'dept_id',\n",
              "       'encounter_type', 'encounter_type_id', 'collection_dept',\n",
              "       'admit_status', 'admit_status_id', 'service', 'service_id', 'unit_room',\n",
              "       'mrn', 'age', 'mortality_status', 'abnormality', 'abnormal',\n",
              "       'component ', 'procedure', 'lab_id', 'infection_status', 'value',\n",
              "       'specimen_type', 'collected_date', 'collected_time', 'isolation_status',\n",
              "       'lab_status', 'result_date', 'result_time', 'discharge_date', 'gender',\n",
              "       'zip_code', 'primary_problem', 'visit_count'],\n",
              "      dtype='object')"
            ]
          },
          "metadata": {
            "tags": []
          },
          "execution_count": 56
        }
      ]
    },
    {
      "cell_type": "markdown",
      "metadata": {
        "id": "GSLa5sXGgFir",
        "colab_type": "text"
      },
      "source": [
        "### How many type of specimen were collected:"
      ]
    },
    {
      "cell_type": "code",
      "metadata": {
        "id": "_TlQHBw6dvNh",
        "colab_type": "code",
        "colab": {
          "base_uri": "https://localhost:8080/",
          "height": 50
        },
        "outputId": "dd3edac4-3122-4f16-e124-df21814d0c28"
      },
      "source": [
        "df.specimen_type.unique()"
      ],
      "execution_count": null,
      "outputs": [
        {
          "output_type": "execute_result",
          "data": {
            "text/plain": [
              "array(['Nasopharyngeal', 'NP/OP Swab', 'Nasopharyngeal Swab',\n",
              "       'Anterior Nares'], dtype=object)"
            ]
          },
          "metadata": {
            "tags": []
          },
          "execution_count": 57
        }
      ]
    },
    {
      "cell_type": "markdown",
      "metadata": {
        "id": "pNBH0mcPhieE",
        "colab_type": "text"
      },
      "source": [
        "### Infection Status :"
      ]
    },
    {
      "cell_type": "code",
      "metadata": {
        "id": "2gohrcWcgRxi",
        "colab_type": "code",
        "colab": {
          "base_uri": "https://localhost:8080/",
          "height": 33
        },
        "outputId": "4e98234a-7557-4331-9b7e-ee2bb3876e11"
      },
      "source": [
        "df.infection_status.unique()"
      ],
      "execution_count": null,
      "outputs": [
        {
          "output_type": "execute_result",
          "data": {
            "text/plain": [
              "array(['COVID-19 (confirmed)', 'Inconclusive'], dtype=object)"
            ]
          },
          "metadata": {
            "tags": []
          },
          "execution_count": 58
        }
      ]
    },
    {
      "cell_type": "markdown",
      "metadata": {
        "id": "MRy93GFUr0J-",
        "colab_type": "text"
      },
      "source": [
        "### Data set sorted by Admission date \n",
        "*It seems like we had few patient who acquired infection while being hospitalized*"
      ]
    },
    {
      "cell_type": "code",
      "metadata": {
        "id": "f9ro7WNFrnAs",
        "colab_type": "code",
        "colab": {
          "base_uri": "https://localhost:8080/",
          "height": 943
        },
        "outputId": "a650526e-c5a8-44db-b513-bad5dd5d2190"
      },
      "source": [
        "df.sort_values(['year','admit_date'], ascending=(True,True))"
      ],
      "execution_count": null,
      "outputs": [
        {
          "output_type": "execute_result",
          "data": {
            "text/html": [
              "<div>\n",
              "<style scoped>\n",
              "    .dataframe tbody tr th:only-of-type {\n",
              "        vertical-align: middle;\n",
              "    }\n",
              "\n",
              "    .dataframe tbody tr th {\n",
              "        vertical-align: top;\n",
              "    }\n",
              "\n",
              "    .dataframe thead th {\n",
              "        text-align: right;\n",
              "    }\n",
              "</style>\n",
              "<table border=\"1\" class=\"dataframe\">\n",
              "  <thead>\n",
              "    <tr style=\"text-align: right;\">\n",
              "      <th></th>\n",
              "      <th>facility</th>\n",
              "      <th>admit_date</th>\n",
              "      <th>month</th>\n",
              "      <th>year</th>\n",
              "      <th>encounter_dept</th>\n",
              "      <th>dept_id</th>\n",
              "      <th>encounter_type</th>\n",
              "      <th>encounter_type_id</th>\n",
              "      <th>collection_dept</th>\n",
              "      <th>admit_status</th>\n",
              "      <th>admit_status_id</th>\n",
              "      <th>service</th>\n",
              "      <th>service_id</th>\n",
              "      <th>unit_room</th>\n",
              "      <th>mrn</th>\n",
              "      <th>age</th>\n",
              "      <th>mortality_status</th>\n",
              "      <th>abnormality</th>\n",
              "      <th>abnormal</th>\n",
              "      <th>component</th>\n",
              "      <th>procedure</th>\n",
              "      <th>lab_id</th>\n",
              "      <th>infection_status</th>\n",
              "      <th>value</th>\n",
              "      <th>specimen_type</th>\n",
              "      <th>collected_date</th>\n",
              "      <th>collected_time</th>\n",
              "      <th>isolation_status</th>\n",
              "      <th>lab_status</th>\n",
              "      <th>result_date</th>\n",
              "      <th>result_time</th>\n",
              "      <th>discharge_date</th>\n",
              "      <th>gender</th>\n",
              "      <th>zip_code</th>\n",
              "      <th>primary_problem</th>\n",
              "      <th>visit_count</th>\n",
              "    </tr>\n",
              "  </thead>\n",
              "  <tbody>\n",
              "    <tr>\n",
              "      <th>0</th>\n",
              "      <td>HARLEM HOSPITAL CENTER</td>\n",
              "      <td>12/22/2018</td>\n",
              "      <td>December</td>\n",
              "      <td>2018</td>\n",
              "      <td>HA IP 11SU</td>\n",
              "      <td>1012007020</td>\n",
              "      <td>Discharged</td>\n",
              "      <td>300</td>\n",
              "      <td>HA IP 11SU</td>\n",
              "      <td>No</td>\n",
              "      <td>0</td>\n",
              "      <td>Medicine</td>\n",
              "      <td>122</td>\n",
              "      <td>HA 11SU 11-111</td>\n",
              "      <td>1</td>\n",
              "      <td>83.0</td>\n",
              "      <td>Deceased</td>\n",
              "      <td>Abnormal</td>\n",
              "      <td>Abnormal</td>\n",
              "      <td>SCANNED REPORT\\r\\nCOVID-19 BIOREFERENCE LAB</td>\n",
              "      <td>BIOREFERENCE COVID-19 PCR(SO) [LABC1925]</td>\n",
              "      <td>LABC1925</td>\n",
              "      <td>COVID-19 (confirmed)</td>\n",
              "      <td>Positive</td>\n",
              "      <td>Nasopharyngeal</td>\n",
              "      <td>4/6/2020</td>\n",
              "      <td>1059</td>\n",
              "      <td>Not reported</td>\n",
              "      <td>Final result</td>\n",
              "      <td>4/15/2020</td>\n",
              "      <td>11:07:20 AM</td>\n",
              "      <td>4/10/2020</td>\n",
              "      <td>F</td>\n",
              "      <td>10026</td>\n",
              "      <td>Atrial flutter (HCC) (Additional Hospital Prob...</td>\n",
              "      <td>1</td>\n",
              "    </tr>\n",
              "    <tr>\n",
              "      <th>1</th>\n",
              "      <td>HARLEM HOSPITAL CENTER</td>\n",
              "      <td>11/13/2019</td>\n",
              "      <td>November</td>\n",
              "      <td>2019</td>\n",
              "      <td>HA IP 13MD</td>\n",
              "      <td>1012007040</td>\n",
              "      <td>Discharged</td>\n",
              "      <td>300</td>\n",
              "      <td>HA IP 13MD</td>\n",
              "      <td>No</td>\n",
              "      <td>0</td>\n",
              "      <td>Medicine</td>\n",
              "      <td>122</td>\n",
              "      <td>HA 14MD 14-121</td>\n",
              "      <td>2</td>\n",
              "      <td>81.0</td>\n",
              "      <td>Not Deceased</td>\n",
              "      <td>Abnormal</td>\n",
              "      <td>Abnormal</td>\n",
              "      <td>SCANNED REPORT\\r\\nCOVID-19 BIOREFERENCE LAB</td>\n",
              "      <td>BIOREFERENCE COVID-19 PCR(SO) [LABC1925]</td>\n",
              "      <td>LABC1925</td>\n",
              "      <td>COVID-19 (confirmed)</td>\n",
              "      <td>Positive</td>\n",
              "      <td>Nasopharyngeal</td>\n",
              "      <td>3/23/2020</td>\n",
              "      <td>1305</td>\n",
              "      <td>Not reported</td>\n",
              "      <td>Final result</td>\n",
              "      <td>3/30/2020</td>\n",
              "      <td>1:09:12 PM</td>\n",
              "      <td>4/25/2020</td>\n",
              "      <td>M</td>\n",
              "      <td>10031</td>\n",
              "      <td>COVID-19 virus detected (Principal Hospital Pr...</td>\n",
              "      <td>1</td>\n",
              "    </tr>\n",
              "    <tr>\n",
              "      <th>2</th>\n",
              "      <td>HARLEM HOSPITAL CENTER</td>\n",
              "      <td>1/21/2020</td>\n",
              "      <td>January</td>\n",
              "      <td>2020</td>\n",
              "      <td>HA IP 13MD</td>\n",
              "      <td>1012007040</td>\n",
              "      <td>Discharged</td>\n",
              "      <td>300</td>\n",
              "      <td>HA IP 13MD</td>\n",
              "      <td>No</td>\n",
              "      <td>0</td>\n",
              "      <td>Medicine</td>\n",
              "      <td>122</td>\n",
              "      <td>HA 14MD 14-111</td>\n",
              "      <td>3</td>\n",
              "      <td>84.0</td>\n",
              "      <td>Not Deceased</td>\n",
              "      <td>Panic</td>\n",
              "      <td>Abnormal</td>\n",
              "      <td>NOVEL CORONAVIRUS (COVID-19)</td>\n",
              "      <td>LABCORP COVID-19 TEST (SEND OUT) [LABC1923]</td>\n",
              "      <td>LABC1923</td>\n",
              "      <td>COVID-19 (confirmed)</td>\n",
              "      <td>Positive</td>\n",
              "      <td>NP/OP Swab</td>\n",
              "      <td>3/19/2020</td>\n",
              "      <td>1713</td>\n",
              "      <td>Not reported</td>\n",
              "      <td>Final result</td>\n",
              "      <td>3/26/2020</td>\n",
              "      <td>6:02:40 PM</td>\n",
              "      <td>4/11/2020</td>\n",
              "      <td>F</td>\n",
              "      <td>10037</td>\n",
              "      <td>COVID-19 virus detected (Principal Hospital Pr...</td>\n",
              "      <td>1</td>\n",
              "    </tr>\n",
              "    <tr>\n",
              "      <th>3</th>\n",
              "      <td>HARLEM HOSPITAL CENTER</td>\n",
              "      <td>1/21/2020</td>\n",
              "      <td>January</td>\n",
              "      <td>2020</td>\n",
              "      <td>HA IP 14MD</td>\n",
              "      <td>1012007050</td>\n",
              "      <td>Discharged</td>\n",
              "      <td>300</td>\n",
              "      <td>HA IP 14MD</td>\n",
              "      <td>No</td>\n",
              "      <td>0</td>\n",
              "      <td>Medicine</td>\n",
              "      <td>122</td>\n",
              "      <td>HA 14MD 14-111</td>\n",
              "      <td>4</td>\n",
              "      <td>84.0</td>\n",
              "      <td>Not Deceased</td>\n",
              "      <td>Abnormal</td>\n",
              "      <td>Abnormal</td>\n",
              "      <td>SCANNED REPORT\\r\\nCOVID-19 BIOREFERENCE LAB</td>\n",
              "      <td>BIOREFERENCE COVID-19 PCR(SO) [LABC1925]</td>\n",
              "      <td>LABC1925</td>\n",
              "      <td>COVID-19 (confirmed)</td>\n",
              "      <td>Positive</td>\n",
              "      <td>Nasopharyngeal</td>\n",
              "      <td>3/25/2020</td>\n",
              "      <td>1653</td>\n",
              "      <td>Not reported</td>\n",
              "      <td>Final result</td>\n",
              "      <td>3/26/2020</td>\n",
              "      <td>2:33:16 PM</td>\n",
              "      <td>4/11/2020</td>\n",
              "      <td>F</td>\n",
              "      <td>10037</td>\n",
              "      <td>COVID-19 virus detected (Principal Hospital Pr...</td>\n",
              "      <td>1</td>\n",
              "    </tr>\n",
              "    <tr>\n",
              "      <th>4</th>\n",
              "      <td>HARLEM HOSPITAL CENTER</td>\n",
              "      <td>2/13/2020</td>\n",
              "      <td>February</td>\n",
              "      <td>2020</td>\n",
              "      <td>HA IP 13MD</td>\n",
              "      <td>1012007040</td>\n",
              "      <td>Discharged</td>\n",
              "      <td>300</td>\n",
              "      <td>HA IP 13MD</td>\n",
              "      <td>Yes</td>\n",
              "      <td>1</td>\n",
              "      <td>Surgery</td>\n",
              "      <td>124</td>\n",
              "      <td>HA 13MD 13-142</td>\n",
              "      <td>5</td>\n",
              "      <td>62.0</td>\n",
              "      <td>Not Deceased</td>\n",
              "      <td>Abnormal</td>\n",
              "      <td>Abnormal</td>\n",
              "      <td>SCANNED REPORT\\r\\nCOVID-19 BIOREFERENCE LAB</td>\n",
              "      <td>BIOREFERENCE COVID-19 PCR(SO) [LABC1925]</td>\n",
              "      <td>LABC1925</td>\n",
              "      <td>Inconclusive</td>\n",
              "      <td>Inconclusive</td>\n",
              "      <td>Nasopharyngeal</td>\n",
              "      <td>4/7/2020</td>\n",
              "      <td>1523</td>\n",
              "      <td>Not reported</td>\n",
              "      <td>Final result</td>\n",
              "      <td>4/10/2020</td>\n",
              "      <td>5:01:52 PM</td>\n",
              "      <td>4/28/2020</td>\n",
              "      <td>M</td>\n",
              "      <td>10037</td>\n",
              "      <td>C1-C4 level spinal cord injury (HCC) (Principa...</td>\n",
              "      <td>1</td>\n",
              "    </tr>\n",
              "    <tr>\n",
              "      <th>...</th>\n",
              "      <td>...</td>\n",
              "      <td>...</td>\n",
              "      <td>...</td>\n",
              "      <td>...</td>\n",
              "      <td>...</td>\n",
              "      <td>...</td>\n",
              "      <td>...</td>\n",
              "      <td>...</td>\n",
              "      <td>...</td>\n",
              "      <td>...</td>\n",
              "      <td>...</td>\n",
              "      <td>...</td>\n",
              "      <td>...</td>\n",
              "      <td>...</td>\n",
              "      <td>...</td>\n",
              "      <td>...</td>\n",
              "      <td>...</td>\n",
              "      <td>...</td>\n",
              "      <td>...</td>\n",
              "      <td>...</td>\n",
              "      <td>...</td>\n",
              "      <td>...</td>\n",
              "      <td>...</td>\n",
              "      <td>...</td>\n",
              "      <td>...</td>\n",
              "      <td>...</td>\n",
              "      <td>...</td>\n",
              "      <td>...</td>\n",
              "      <td>...</td>\n",
              "      <td>...</td>\n",
              "      <td>...</td>\n",
              "      <td>...</td>\n",
              "      <td>...</td>\n",
              "      <td>...</td>\n",
              "      <td>...</td>\n",
              "      <td>...</td>\n",
              "    </tr>\n",
              "    <tr>\n",
              "      <th>834</th>\n",
              "      <td>HARLEM HOSPITAL CENTER</td>\n",
              "      <td>7/29/2020</td>\n",
              "      <td>July</td>\n",
              "      <td>2020</td>\n",
              "      <td>HA ED PEDIATRIC</td>\n",
              "      <td>1012006020</td>\n",
              "      <td>ED Discharged</td>\n",
              "      <td>200</td>\n",
              "      <td>HA ED PEDIATRIC</td>\n",
              "      <td>No</td>\n",
              "      <td>0</td>\n",
              "      <td>Emergency</td>\n",
              "      <td>123</td>\n",
              "      <td>HA EDPED PED3</td>\n",
              "      <td>835</td>\n",
              "      <td>19.0</td>\n",
              "      <td>Not Deceased</td>\n",
              "      <td>Abnormal</td>\n",
              "      <td>Abnormal</td>\n",
              "      <td>COVID-19 BIOREFERENCE LAB</td>\n",
              "      <td>BIOREFERENCE COVID-19 PCR(SO) [LABC1925]</td>\n",
              "      <td>LABC1925</td>\n",
              "      <td>COVID-19 (confirmed)</td>\n",
              "      <td>Positive</td>\n",
              "      <td>Nasopharyngeal</td>\n",
              "      <td>7/29/2020</td>\n",
              "      <td>301</td>\n",
              "      <td>Not reported</td>\n",
              "      <td>Final result</td>\n",
              "      <td>8/2/2020</td>\n",
              "      <td>4:03:33 PM</td>\n",
              "      <td>7/29/2020</td>\n",
              "      <td>F</td>\n",
              "      <td>10027</td>\n",
              "      <td>None</td>\n",
              "      <td>1</td>\n",
              "    </tr>\n",
              "    <tr>\n",
              "      <th>823</th>\n",
              "      <td>HARLEM HOSPITAL CENTER</td>\n",
              "      <td>7/9/2020</td>\n",
              "      <td>July</td>\n",
              "      <td>2020</td>\n",
              "      <td>HA ED ADULT</td>\n",
              "      <td>1012006030</td>\n",
              "      <td>Discharged</td>\n",
              "      <td>300</td>\n",
              "      <td>HA ED ADULT</td>\n",
              "      <td>No</td>\n",
              "      <td>0</td>\n",
              "      <td>Medicine</td>\n",
              "      <td>122</td>\n",
              "      <td>HA 14MD 14-137</td>\n",
              "      <td>824</td>\n",
              "      <td>58.0</td>\n",
              "      <td>Deceased</td>\n",
              "      <td>Abnormal</td>\n",
              "      <td>Abnormal</td>\n",
              "      <td>SARS-COV 2 PCR</td>\n",
              "      <td>CEPHEID COVID-19 PCR [LABC1930]</td>\n",
              "      <td>LABC1930</td>\n",
              "      <td>COVID-19 (confirmed)</td>\n",
              "      <td>Positive</td>\n",
              "      <td>Nasopharyngeal Swab</td>\n",
              "      <td>7/9/2020</td>\n",
              "      <td>2337</td>\n",
              "      <td>Not reported</td>\n",
              "      <td>Final result</td>\n",
              "      <td>7/10/2020</td>\n",
              "      <td>12:40:03 AM</td>\n",
              "      <td>7/17/2020</td>\n",
              "      <td>M</td>\n",
              "      <td>10035</td>\n",
              "      <td>Opiate overdose (HCC) (Additional Hospital Pro...</td>\n",
              "      <td>1</td>\n",
              "    </tr>\n",
              "    <tr>\n",
              "      <th>835</th>\n",
              "      <td>HARLEM HOSPITAL CENTER</td>\n",
              "      <td>8/2/2020</td>\n",
              "      <td>August</td>\n",
              "      <td>2020</td>\n",
              "      <td>HA ED ADULT</td>\n",
              "      <td>1012006030</td>\n",
              "      <td>Admitted</td>\n",
              "      <td>100</td>\n",
              "      <td>HA ED ADULT</td>\n",
              "      <td>Yes</td>\n",
              "      <td>1</td>\n",
              "      <td>Medicine</td>\n",
              "      <td>122</td>\n",
              "      <td>HA 14MD 14-114</td>\n",
              "      <td>836</td>\n",
              "      <td>53.0</td>\n",
              "      <td>Not Deceased</td>\n",
              "      <td>Abnormal</td>\n",
              "      <td>Abnormal</td>\n",
              "      <td>SARS-COV 2 PCR</td>\n",
              "      <td>CEPHEID COVID-19 PCR [LABC1930]</td>\n",
              "      <td>LABC1930</td>\n",
              "      <td>COVID-19 (confirmed)</td>\n",
              "      <td>Positive</td>\n",
              "      <td>Nasopharyngeal Swab</td>\n",
              "      <td>8/2/2020</td>\n",
              "      <td>1846</td>\n",
              "      <td>Contact and Droplet</td>\n",
              "      <td>Final result</td>\n",
              "      <td>8/2/2020</td>\n",
              "      <td>8:04:59 PM</td>\n",
              "      <td>NaN</td>\n",
              "      <td>F</td>\n",
              "      <td>10027</td>\n",
              "      <td>Pneumonia of both lower lobes due to infectiou...</td>\n",
              "      <td>1</td>\n",
              "    </tr>\n",
              "    <tr>\n",
              "      <th>836</th>\n",
              "      <td>HARLEM HOSPITAL CENTER</td>\n",
              "      <td>8/3/2020</td>\n",
              "      <td>August</td>\n",
              "      <td>2020</td>\n",
              "      <td>HA ED ADULT</td>\n",
              "      <td>1012006030</td>\n",
              "      <td>Discharged</td>\n",
              "      <td>300</td>\n",
              "      <td>HA ED ADULT</td>\n",
              "      <td>No</td>\n",
              "      <td>0</td>\n",
              "      <td>Medicine</td>\n",
              "      <td>122</td>\n",
              "      <td>HA 13MD 13-122</td>\n",
              "      <td>837</td>\n",
              "      <td>55.0</td>\n",
              "      <td>Not Deceased</td>\n",
              "      <td>Abnormal</td>\n",
              "      <td>Abnormal</td>\n",
              "      <td>SARS-COV 2 PCR</td>\n",
              "      <td>CEPHEID COVID-19 PCR [LABC1930]</td>\n",
              "      <td>LABC1930</td>\n",
              "      <td>COVID-19 (confirmed)</td>\n",
              "      <td>Positive</td>\n",
              "      <td>Nasopharyngeal Swab</td>\n",
              "      <td>8/3/2020</td>\n",
              "      <td>1938</td>\n",
              "      <td>Contact and Droplet</td>\n",
              "      <td>Final result</td>\n",
              "      <td>8/3/2020</td>\n",
              "      <td>9:28:50 PM</td>\n",
              "      <td>8/4/2020</td>\n",
              "      <td>F</td>\n",
              "      <td>10030</td>\n",
              "      <td>Lactic acidosis (Additional Hospital Problems)</td>\n",
              "      <td>1</td>\n",
              "    </tr>\n",
              "    <tr>\n",
              "      <th>837</th>\n",
              "      <td>HARLEM HOSPITAL CENTER</td>\n",
              "      <td>8/7/2020</td>\n",
              "      <td>August</td>\n",
              "      <td>2020</td>\n",
              "      <td>HA ED ADULT</td>\n",
              "      <td>1012006030</td>\n",
              "      <td>Admitted</td>\n",
              "      <td>100</td>\n",
              "      <td>HA ED ADULT</td>\n",
              "      <td>Yes</td>\n",
              "      <td>1</td>\n",
              "      <td>Medicine</td>\n",
              "      <td>122</td>\n",
              "      <td>HA 14MD 14-143</td>\n",
              "      <td>838</td>\n",
              "      <td>30.0</td>\n",
              "      <td>Not Deceased</td>\n",
              "      <td>Abnormal</td>\n",
              "      <td>Abnormal</td>\n",
              "      <td>SARS-COV 2 PCR</td>\n",
              "      <td>CEPHEID COVID-19 PCR [LABC1930]</td>\n",
              "      <td>LABC1930</td>\n",
              "      <td>COVID-19 (confirmed)</td>\n",
              "      <td>Positive</td>\n",
              "      <td>Nasopharyngeal Swab</td>\n",
              "      <td>8/7/2020</td>\n",
              "      <td>444</td>\n",
              "      <td>Contact and Airborne</td>\n",
              "      <td>Final result</td>\n",
              "      <td>8/7/2020</td>\n",
              "      <td>6:07:13 AM</td>\n",
              "      <td>NaN</td>\n",
              "      <td>M</td>\n",
              "      <td>10029</td>\n",
              "      <td>Lung abnormality</td>\n",
              "      <td>1</td>\n",
              "    </tr>\n",
              "  </tbody>\n",
              "</table>\n",
              "<p>839 rows × 36 columns</p>\n",
              "</div>"
            ],
            "text/plain": [
              "                   facility  ... visit_count\n",
              "0    HARLEM HOSPITAL CENTER  ...           1\n",
              "1    HARLEM HOSPITAL CENTER  ...           1\n",
              "2    HARLEM HOSPITAL CENTER  ...           1\n",
              "3    HARLEM HOSPITAL CENTER  ...           1\n",
              "4    HARLEM HOSPITAL CENTER  ...           1\n",
              "..                      ...  ...         ...\n",
              "834  HARLEM HOSPITAL CENTER  ...           1\n",
              "823  HARLEM HOSPITAL CENTER  ...           1\n",
              "835  HARLEM HOSPITAL CENTER  ...           1\n",
              "836  HARLEM HOSPITAL CENTER  ...           1\n",
              "837  HARLEM HOSPITAL CENTER  ...           1\n",
              "\n",
              "[839 rows x 36 columns]"
            ]
          },
          "metadata": {
            "tags": []
          },
          "execution_count": 59
        }
      ]
    },
    {
      "cell_type": "markdown",
      "metadata": {
        "id": "WvxN1lGIwoYJ",
        "colab_type": "text"
      },
      "source": [
        "### Total Covid Encounters:"
      ]
    },
    {
      "cell_type": "code",
      "metadata": {
        "id": "V-ZPFzXmwCYK",
        "colab_type": "code",
        "colab": {
          "base_uri": "https://localhost:8080/",
          "height": 33
        },
        "outputId": "0884be5a-763f-4461-a1a4-b1a2f2ab5fe5"
      },
      "source": [
        "df['visit_count'].sum()"
      ],
      "execution_count": null,
      "outputs": [
        {
          "output_type": "execute_result",
          "data": {
            "text/plain": [
              "839"
            ]
          },
          "metadata": {
            "tags": []
          },
          "execution_count": 61
        }
      ]
    },
    {
      "cell_type": "markdown",
      "metadata": {
        "id": "4dlJXGZex2iC",
        "colab_type": "text"
      },
      "source": [
        "*Data is sortred by Gender to analyze how many patients were male or female*"
      ]
    },
    {
      "cell_type": "code",
      "metadata": {
        "id": "_johb841xsU-",
        "colab_type": "code",
        "colab": {
          "base_uri": "https://localhost:8080/",
          "height": 137
        },
        "outputId": "a8a51c53-010b-49ca-fe38-60b53c90121d"
      },
      "source": [
        "df.pivot_table(index='gender',values='visit_count',aggfunc='count')"
      ],
      "execution_count": null,
      "outputs": [
        {
          "output_type": "execute_result",
          "data": {
            "text/html": [
              "<div>\n",
              "<style scoped>\n",
              "    .dataframe tbody tr th:only-of-type {\n",
              "        vertical-align: middle;\n",
              "    }\n",
              "\n",
              "    .dataframe tbody tr th {\n",
              "        vertical-align: top;\n",
              "    }\n",
              "\n",
              "    .dataframe thead th {\n",
              "        text-align: right;\n",
              "    }\n",
              "</style>\n",
              "<table border=\"1\" class=\"dataframe\">\n",
              "  <thead>\n",
              "    <tr style=\"text-align: right;\">\n",
              "      <th></th>\n",
              "      <th>visit_count</th>\n",
              "    </tr>\n",
              "    <tr>\n",
              "      <th>gender</th>\n",
              "      <th></th>\n",
              "    </tr>\n",
              "  </thead>\n",
              "  <tbody>\n",
              "    <tr>\n",
              "      <th>F</th>\n",
              "      <td>360</td>\n",
              "    </tr>\n",
              "    <tr>\n",
              "      <th>M</th>\n",
              "      <td>479</td>\n",
              "    </tr>\n",
              "  </tbody>\n",
              "</table>\n",
              "</div>"
            ],
            "text/plain": [
              "        visit_count\n",
              "gender             \n",
              "F               360\n",
              "M               479"
            ]
          },
          "metadata": {
            "tags": []
          },
          "execution_count": 62
        }
      ]
    },
    {
      "cell_type": "markdown",
      "metadata": {
        "id": "ipxcSK7wyqWj",
        "colab_type": "text"
      },
      "source": [
        "*Data is sortred by Specimen type taken from each patient*"
      ]
    },
    {
      "cell_type": "code",
      "metadata": {
        "id": "gN98s4b6yfzC",
        "colab_type": "code",
        "colab": {
          "base_uri": "https://localhost:8080/",
          "height": 196
        },
        "outputId": "20fcbc41-ed5e-4311-fbeb-94679416bdb3"
      },
      "source": [
        "df.pivot_table(index='specimen_type',values='visit_count',aggfunc='count')"
      ],
      "execution_count": null,
      "outputs": [
        {
          "output_type": "execute_result",
          "data": {
            "text/html": [
              "<div>\n",
              "<style scoped>\n",
              "    .dataframe tbody tr th:only-of-type {\n",
              "        vertical-align: middle;\n",
              "    }\n",
              "\n",
              "    .dataframe tbody tr th {\n",
              "        vertical-align: top;\n",
              "    }\n",
              "\n",
              "    .dataframe thead th {\n",
              "        text-align: right;\n",
              "    }\n",
              "</style>\n",
              "<table border=\"1\" class=\"dataframe\">\n",
              "  <thead>\n",
              "    <tr style=\"text-align: right;\">\n",
              "      <th></th>\n",
              "      <th>visit_count</th>\n",
              "    </tr>\n",
              "    <tr>\n",
              "      <th>specimen_type</th>\n",
              "      <th></th>\n",
              "    </tr>\n",
              "  </thead>\n",
              "  <tbody>\n",
              "    <tr>\n",
              "      <th>Anterior Nares</th>\n",
              "      <td>1</td>\n",
              "    </tr>\n",
              "    <tr>\n",
              "      <th>NP/OP Swab</th>\n",
              "      <td>36</td>\n",
              "    </tr>\n",
              "    <tr>\n",
              "      <th>Nasopharyngeal</th>\n",
              "      <td>655</td>\n",
              "    </tr>\n",
              "    <tr>\n",
              "      <th>Nasopharyngeal Swab</th>\n",
              "      <td>147</td>\n",
              "    </tr>\n",
              "  </tbody>\n",
              "</table>\n",
              "</div>"
            ],
            "text/plain": [
              "                     visit_count\n",
              "specimen_type                   \n",
              "Anterior Nares                 1\n",
              "NP/OP Swab                    36\n",
              "Nasopharyngeal               655\n",
              "Nasopharyngeal Swab          147"
            ]
          },
          "metadata": {
            "tags": []
          },
          "execution_count": 63
        }
      ]
    },
    {
      "cell_type": "code",
      "metadata": {
        "id": "5Dc62tDP0yYB",
        "colab_type": "code",
        "colab": {}
      },
      "source": [
        "df.pivot_table(index='encounter_type',values='visit_count',aggfunc='count')"
      ],
      "execution_count": null,
      "outputs": []
    }
  ]
}