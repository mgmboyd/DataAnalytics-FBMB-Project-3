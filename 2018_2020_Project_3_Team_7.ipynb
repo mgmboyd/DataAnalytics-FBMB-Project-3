{
  "nbformat": 4,
  "nbformat_minor": 0,
  "metadata": {
    "colab": {
      "name": "2018-2020 Project 3 - Team 7",
      "provenance": [],
      "collapsed_sections": [
        "q8N7r9dMiDM0",
        "uaMbQ2n2SrY5"
      ],
      "include_colab_link": true
    },
    "kernelspec": {
      "name": "python3",
      "display_name": "Python 3"
    }
  },
  "cells": [
    {
      "cell_type": "markdown",
      "metadata": {
        "id": "view-in-github",
        "colab_type": "text"
      },
      "source": [
        "<a href=\"https://colab.research.google.com/github/mgmboyd/DataAnalytics-Project3/blob/master/2018_2020_Project_3_Team_7.ipynb\" target=\"_parent\"><img src=\"https://colab.research.google.com/assets/colab-badge.svg\" alt=\"Open In Colab\"/></a>"
      ]
    },
    {
      "cell_type": "markdown",
      "metadata": {
        "id": "r_V1K9H30ckc",
        "colab_type": "text"
      },
      "source": [
        "# **Data Analytics - Project 3 Team 7**"
      ]
    },
    {
      "cell_type": "code",
      "metadata": {
        "id": "5-WyJzQOMmPs",
        "colab_type": "code",
        "colab": {
          "base_uri": "https://localhost:8080/",
          "height": 119
        },
        "outputId": "ca440bc1-628d-4373-9f5a-a5d145aa6a99"
      },
      "source": [
        "# LIBRARIES\n",
        "import pandas as pd\n",
        "import numpy as np\n",
        "import matplotlib.pyplot as plt\n",
        "%matplotlib inline\n",
        "from matplotlib import style\n",
        "import plotly.express as px\n",
        "import seaborn as sns\n",
        "sns.set()\n",
        "!pip install sodapy"
      ],
      "execution_count": 258,
      "outputs": [
        {
          "output_type": "stream",
          "text": [
            "Requirement already satisfied: sodapy in /usr/local/lib/python3.6/dist-packages (2.1.0)\n",
            "Requirement already satisfied: requests>=2.20.0 in /usr/local/lib/python3.6/dist-packages (from sodapy) (2.23.0)\n",
            "Requirement already satisfied: chardet<4,>=3.0.2 in /usr/local/lib/python3.6/dist-packages (from requests>=2.20.0->sodapy) (3.0.4)\n",
            "Requirement already satisfied: certifi>=2017.4.17 in /usr/local/lib/python3.6/dist-packages (from requests>=2.20.0->sodapy) (2020.6.20)\n",
            "Requirement already satisfied: idna<3,>=2.5 in /usr/local/lib/python3.6/dist-packages (from requests>=2.20.0->sodapy) (2.10)\n",
            "Requirement already satisfied: urllib3!=1.25.0,!=1.25.1,<1.26,>=1.21.1 in /usr/local/lib/python3.6/dist-packages (from requests>=2.20.0->sodapy) (1.24.3)\n"
          ],
          "name": "stdout"
        }
      ]
    },
    {
      "cell_type": "markdown",
      "metadata": {
        "id": "345Mf_JvNT7s",
        "colab_type": "text"
      },
      "source": [
        "# **DATA GATHERING**"
      ]
    },
    {
      "cell_type": "code",
      "metadata": {
        "id": "7EnigTa4Ms44",
        "colab_type": "code",
        "colab": {}
      },
      "source": [
        "df = pd.read_csv('https://raw.githubusercontent.com/mgmboyd/DataAnalytics-Project3/master/Harlem_covid_cases_project%20-%20V.4.csv')"
      ],
      "execution_count": 259,
      "outputs": []
    },
    {
      "cell_type": "code",
      "metadata": {
        "id": "TAsO0ibENmX3",
        "colab_type": "code",
        "colab": {
          "base_uri": "https://localhost:8080/",
          "height": 34
        },
        "outputId": "cf48c8cb-0eab-42cf-9c21-b714e8dfee48"
      },
      "source": [
        "df.shape"
      ],
      "execution_count": 260,
      "outputs": [
        {
          "output_type": "execute_result",
          "data": {
            "text/plain": [
              "(839, 36)"
            ]
          },
          "metadata": {
            "tags": []
          },
          "execution_count": 260
        }
      ]
    },
    {
      "cell_type": "code",
      "metadata": {
        "id": "-rcX6di7NuLI",
        "colab_type": "code",
        "colab": {
          "base_uri": "https://localhost:8080/",
          "height": 479
        },
        "outputId": "1a9cbf82-e655-4316-aaee-aacc2029a324"
      },
      "source": [
        "df.head()"
      ],
      "execution_count": 261,
      "outputs": [
        {
          "output_type": "execute_result",
          "data": {
            "text/html": [
              "<div>\n",
              "<style scoped>\n",
              "    .dataframe tbody tr th:only-of-type {\n",
              "        vertical-align: middle;\n",
              "    }\n",
              "\n",
              "    .dataframe tbody tr th {\n",
              "        vertical-align: top;\n",
              "    }\n",
              "\n",
              "    .dataframe thead th {\n",
              "        text-align: right;\n",
              "    }\n",
              "</style>\n",
              "<table border=\"1\" class=\"dataframe\">\n",
              "  <thead>\n",
              "    <tr style=\"text-align: right;\">\n",
              "      <th></th>\n",
              "      <th>facility</th>\n",
              "      <th>admit_date</th>\n",
              "      <th>month</th>\n",
              "      <th>year</th>\n",
              "      <th>encounter_dept</th>\n",
              "      <th>dept_id</th>\n",
              "      <th>encounter_type</th>\n",
              "      <th>encounter_type_id</th>\n",
              "      <th>collection_dept</th>\n",
              "      <th>admit_status</th>\n",
              "      <th>admit_status_id</th>\n",
              "      <th>service</th>\n",
              "      <th>service_id</th>\n",
              "      <th>unit_room</th>\n",
              "      <th>mrn</th>\n",
              "      <th>age</th>\n",
              "      <th>mortality_status</th>\n",
              "      <th>abnormality</th>\n",
              "      <th>abnormal</th>\n",
              "      <th>component</th>\n",
              "      <th>procedure</th>\n",
              "      <th>lab_id</th>\n",
              "      <th>infection_status</th>\n",
              "      <th>value</th>\n",
              "      <th>specimen_type</th>\n",
              "      <th>collected_date</th>\n",
              "      <th>collected_time</th>\n",
              "      <th>isolation_status</th>\n",
              "      <th>lab_status</th>\n",
              "      <th>result_date</th>\n",
              "      <th>result_time</th>\n",
              "      <th>discharge_date</th>\n",
              "      <th>gender</th>\n",
              "      <th>zip_code</th>\n",
              "      <th>primary_problem</th>\n",
              "      <th>visit_count</th>\n",
              "    </tr>\n",
              "  </thead>\n",
              "  <tbody>\n",
              "    <tr>\n",
              "      <th>0</th>\n",
              "      <td>HARLEM HOSPITAL CENTER</td>\n",
              "      <td>12/22/2018</td>\n",
              "      <td>December</td>\n",
              "      <td>2018</td>\n",
              "      <td>HA IP 11SU</td>\n",
              "      <td>1012007020</td>\n",
              "      <td>Discharged</td>\n",
              "      <td>300</td>\n",
              "      <td>HA IP 11SU</td>\n",
              "      <td>No</td>\n",
              "      <td>0</td>\n",
              "      <td>Medicine</td>\n",
              "      <td>122</td>\n",
              "      <td>HA 11SU 11-111</td>\n",
              "      <td>1</td>\n",
              "      <td>83.0</td>\n",
              "      <td>Deceased</td>\n",
              "      <td>Abnormal</td>\n",
              "      <td>Abnormal</td>\n",
              "      <td>SCANNED REPORT\\r\\nCOVID-19 BIOREFERENCE LAB</td>\n",
              "      <td>BIOREFERENCE COVID-19 PCR(SO) [LABC1925]</td>\n",
              "      <td>LABC1925</td>\n",
              "      <td>COVID-19 (confirmed)</td>\n",
              "      <td>Positive</td>\n",
              "      <td>Nasopharyngeal</td>\n",
              "      <td>4/6/2020</td>\n",
              "      <td>1059</td>\n",
              "      <td>Not reported</td>\n",
              "      <td>Final result</td>\n",
              "      <td>4/15/2020</td>\n",
              "      <td>11:07:20 AM</td>\n",
              "      <td>4/10/2020</td>\n",
              "      <td>F</td>\n",
              "      <td>10026</td>\n",
              "      <td>Atrial flutter (HCC) (Additional Hospital Prob...</td>\n",
              "      <td>1</td>\n",
              "    </tr>\n",
              "    <tr>\n",
              "      <th>1</th>\n",
              "      <td>HARLEM HOSPITAL CENTER</td>\n",
              "      <td>11/13/2019</td>\n",
              "      <td>November</td>\n",
              "      <td>2019</td>\n",
              "      <td>HA IP 13MD</td>\n",
              "      <td>1012007040</td>\n",
              "      <td>Discharged</td>\n",
              "      <td>300</td>\n",
              "      <td>HA IP 13MD</td>\n",
              "      <td>No</td>\n",
              "      <td>0</td>\n",
              "      <td>Medicine</td>\n",
              "      <td>122</td>\n",
              "      <td>HA 14MD 14-121</td>\n",
              "      <td>2</td>\n",
              "      <td>81.0</td>\n",
              "      <td>Not Deceased</td>\n",
              "      <td>Abnormal</td>\n",
              "      <td>Abnormal</td>\n",
              "      <td>SCANNED REPORT\\r\\nCOVID-19 BIOREFERENCE LAB</td>\n",
              "      <td>BIOREFERENCE COVID-19 PCR(SO) [LABC1925]</td>\n",
              "      <td>LABC1925</td>\n",
              "      <td>COVID-19 (confirmed)</td>\n",
              "      <td>Positive</td>\n",
              "      <td>Nasopharyngeal</td>\n",
              "      <td>3/23/2020</td>\n",
              "      <td>1305</td>\n",
              "      <td>Not reported</td>\n",
              "      <td>Final result</td>\n",
              "      <td>3/30/2020</td>\n",
              "      <td>1:09:12 PM</td>\n",
              "      <td>4/25/2020</td>\n",
              "      <td>M</td>\n",
              "      <td>10031</td>\n",
              "      <td>COVID-19 virus detected (Principal Hospital Pr...</td>\n",
              "      <td>1</td>\n",
              "    </tr>\n",
              "    <tr>\n",
              "      <th>2</th>\n",
              "      <td>HARLEM HOSPITAL CENTER</td>\n",
              "      <td>1/21/2020</td>\n",
              "      <td>January</td>\n",
              "      <td>2020</td>\n",
              "      <td>HA IP 13MD</td>\n",
              "      <td>1012007040</td>\n",
              "      <td>Discharged</td>\n",
              "      <td>300</td>\n",
              "      <td>HA IP 13MD</td>\n",
              "      <td>No</td>\n",
              "      <td>0</td>\n",
              "      <td>Medicine</td>\n",
              "      <td>122</td>\n",
              "      <td>HA 14MD 14-111</td>\n",
              "      <td>3</td>\n",
              "      <td>84.0</td>\n",
              "      <td>Not Deceased</td>\n",
              "      <td>Panic</td>\n",
              "      <td>Abnormal</td>\n",
              "      <td>NOVEL CORONAVIRUS (COVID-19)</td>\n",
              "      <td>LABCORP COVID-19 TEST (SEND OUT) [LABC1923]</td>\n",
              "      <td>LABC1923</td>\n",
              "      <td>COVID-19 (confirmed)</td>\n",
              "      <td>Positive</td>\n",
              "      <td>NP/OP Swab</td>\n",
              "      <td>3/19/2020</td>\n",
              "      <td>1713</td>\n",
              "      <td>Not reported</td>\n",
              "      <td>Final result</td>\n",
              "      <td>3/26/2020</td>\n",
              "      <td>6:02:40 PM</td>\n",
              "      <td>4/11/2020</td>\n",
              "      <td>F</td>\n",
              "      <td>10037</td>\n",
              "      <td>COVID-19 virus detected (Principal Hospital Pr...</td>\n",
              "      <td>1</td>\n",
              "    </tr>\n",
              "    <tr>\n",
              "      <th>3</th>\n",
              "      <td>HARLEM HOSPITAL CENTER</td>\n",
              "      <td>1/21/2020</td>\n",
              "      <td>January</td>\n",
              "      <td>2020</td>\n",
              "      <td>HA IP 14MD</td>\n",
              "      <td>1012007050</td>\n",
              "      <td>Discharged</td>\n",
              "      <td>300</td>\n",
              "      <td>HA IP 14MD</td>\n",
              "      <td>No</td>\n",
              "      <td>0</td>\n",
              "      <td>Medicine</td>\n",
              "      <td>122</td>\n",
              "      <td>HA 14MD 14-111</td>\n",
              "      <td>4</td>\n",
              "      <td>84.0</td>\n",
              "      <td>Not Deceased</td>\n",
              "      <td>Abnormal</td>\n",
              "      <td>Abnormal</td>\n",
              "      <td>SCANNED REPORT\\r\\nCOVID-19 BIOREFERENCE LAB</td>\n",
              "      <td>BIOREFERENCE COVID-19 PCR(SO) [LABC1925]</td>\n",
              "      <td>LABC1925</td>\n",
              "      <td>COVID-19 (confirmed)</td>\n",
              "      <td>Positive</td>\n",
              "      <td>Nasopharyngeal</td>\n",
              "      <td>3/25/2020</td>\n",
              "      <td>1653</td>\n",
              "      <td>Not reported</td>\n",
              "      <td>Final result</td>\n",
              "      <td>3/26/2020</td>\n",
              "      <td>2:33:16 PM</td>\n",
              "      <td>4/11/2020</td>\n",
              "      <td>F</td>\n",
              "      <td>10037</td>\n",
              "      <td>COVID-19 virus detected (Principal Hospital Pr...</td>\n",
              "      <td>1</td>\n",
              "    </tr>\n",
              "    <tr>\n",
              "      <th>4</th>\n",
              "      <td>HARLEM HOSPITAL CENTER</td>\n",
              "      <td>2/13/2020</td>\n",
              "      <td>February</td>\n",
              "      <td>2020</td>\n",
              "      <td>HA IP 13MD</td>\n",
              "      <td>1012007040</td>\n",
              "      <td>Discharged</td>\n",
              "      <td>300</td>\n",
              "      <td>HA IP 13MD</td>\n",
              "      <td>Yes</td>\n",
              "      <td>1</td>\n",
              "      <td>Surgery</td>\n",
              "      <td>124</td>\n",
              "      <td>HA 13MD 13-142</td>\n",
              "      <td>5</td>\n",
              "      <td>62.0</td>\n",
              "      <td>Not Deceased</td>\n",
              "      <td>Abnormal</td>\n",
              "      <td>Abnormal</td>\n",
              "      <td>SCANNED REPORT\\r\\nCOVID-19 BIOREFERENCE LAB</td>\n",
              "      <td>BIOREFERENCE COVID-19 PCR(SO) [LABC1925]</td>\n",
              "      <td>LABC1925</td>\n",
              "      <td>Inconclusive</td>\n",
              "      <td>Inconclusive</td>\n",
              "      <td>Nasopharyngeal</td>\n",
              "      <td>4/7/2020</td>\n",
              "      <td>1523</td>\n",
              "      <td>Not reported</td>\n",
              "      <td>Final result</td>\n",
              "      <td>4/10/2020</td>\n",
              "      <td>5:01:52 PM</td>\n",
              "      <td>4/28/2020</td>\n",
              "      <td>M</td>\n",
              "      <td>10037</td>\n",
              "      <td>C1-C4 level spinal cord injury (HCC) (Principa...</td>\n",
              "      <td>1</td>\n",
              "    </tr>\n",
              "  </tbody>\n",
              "</table>\n",
              "</div>"
            ],
            "text/plain": [
              "                 facility  ... visit_count\n",
              "0  HARLEM HOSPITAL CENTER  ...           1\n",
              "1  HARLEM HOSPITAL CENTER  ...           1\n",
              "2  HARLEM HOSPITAL CENTER  ...           1\n",
              "3  HARLEM HOSPITAL CENTER  ...           1\n",
              "4  HARLEM HOSPITAL CENTER  ...           1\n",
              "\n",
              "[5 rows x 36 columns]"
            ]
          },
          "metadata": {
            "tags": []
          },
          "execution_count": 261
        }
      ]
    },
    {
      "cell_type": "code",
      "metadata": {
        "id": "hH_KrgICAlgi",
        "colab_type": "code",
        "colab": {
          "base_uri": "https://localhost:8080/",
          "height": 445
        },
        "outputId": "7c1db807-f20d-41f4-b99d-56bfea64d29c"
      },
      "source": [
        "df.tail()"
      ],
      "execution_count": 262,
      "outputs": [
        {
          "output_type": "execute_result",
          "data": {
            "text/html": [
              "<div>\n",
              "<style scoped>\n",
              "    .dataframe tbody tr th:only-of-type {\n",
              "        vertical-align: middle;\n",
              "    }\n",
              "\n",
              "    .dataframe tbody tr th {\n",
              "        vertical-align: top;\n",
              "    }\n",
              "\n",
              "    .dataframe thead th {\n",
              "        text-align: right;\n",
              "    }\n",
              "</style>\n",
              "<table border=\"1\" class=\"dataframe\">\n",
              "  <thead>\n",
              "    <tr style=\"text-align: right;\">\n",
              "      <th></th>\n",
              "      <th>facility</th>\n",
              "      <th>admit_date</th>\n",
              "      <th>month</th>\n",
              "      <th>year</th>\n",
              "      <th>encounter_dept</th>\n",
              "      <th>dept_id</th>\n",
              "      <th>encounter_type</th>\n",
              "      <th>encounter_type_id</th>\n",
              "      <th>collection_dept</th>\n",
              "      <th>admit_status</th>\n",
              "      <th>admit_status_id</th>\n",
              "      <th>service</th>\n",
              "      <th>service_id</th>\n",
              "      <th>unit_room</th>\n",
              "      <th>mrn</th>\n",
              "      <th>age</th>\n",
              "      <th>mortality_status</th>\n",
              "      <th>abnormality</th>\n",
              "      <th>abnormal</th>\n",
              "      <th>component</th>\n",
              "      <th>procedure</th>\n",
              "      <th>lab_id</th>\n",
              "      <th>infection_status</th>\n",
              "      <th>value</th>\n",
              "      <th>specimen_type</th>\n",
              "      <th>collected_date</th>\n",
              "      <th>collected_time</th>\n",
              "      <th>isolation_status</th>\n",
              "      <th>lab_status</th>\n",
              "      <th>result_date</th>\n",
              "      <th>result_time</th>\n",
              "      <th>discharge_date</th>\n",
              "      <th>gender</th>\n",
              "      <th>zip_code</th>\n",
              "      <th>primary_problem</th>\n",
              "      <th>visit_count</th>\n",
              "    </tr>\n",
              "  </thead>\n",
              "  <tbody>\n",
              "    <tr>\n",
              "      <th>834</th>\n",
              "      <td>HARLEM HOSPITAL CENTER</td>\n",
              "      <td>7/29/2020</td>\n",
              "      <td>July</td>\n",
              "      <td>2020</td>\n",
              "      <td>HA ED PEDIATRIC</td>\n",
              "      <td>1012006020</td>\n",
              "      <td>ED Discharged</td>\n",
              "      <td>200</td>\n",
              "      <td>HA ED PEDIATRIC</td>\n",
              "      <td>No</td>\n",
              "      <td>0</td>\n",
              "      <td>Emergency</td>\n",
              "      <td>123</td>\n",
              "      <td>HA EDPED PED3</td>\n",
              "      <td>835</td>\n",
              "      <td>19.0</td>\n",
              "      <td>Not Deceased</td>\n",
              "      <td>Abnormal</td>\n",
              "      <td>Abnormal</td>\n",
              "      <td>COVID-19 BIOREFERENCE LAB</td>\n",
              "      <td>BIOREFERENCE COVID-19 PCR(SO) [LABC1925]</td>\n",
              "      <td>LABC1925</td>\n",
              "      <td>COVID-19 (confirmed)</td>\n",
              "      <td>Positive</td>\n",
              "      <td>Nasopharyngeal</td>\n",
              "      <td>7/29/2020</td>\n",
              "      <td>301</td>\n",
              "      <td>Not reported</td>\n",
              "      <td>Final result</td>\n",
              "      <td>8/2/2020</td>\n",
              "      <td>4:03:33 PM</td>\n",
              "      <td>7/29/2020</td>\n",
              "      <td>F</td>\n",
              "      <td>10027</td>\n",
              "      <td>None</td>\n",
              "      <td>1</td>\n",
              "    </tr>\n",
              "    <tr>\n",
              "      <th>835</th>\n",
              "      <td>HARLEM HOSPITAL CENTER</td>\n",
              "      <td>8/2/2020</td>\n",
              "      <td>August</td>\n",
              "      <td>2020</td>\n",
              "      <td>HA ED ADULT</td>\n",
              "      <td>1012006030</td>\n",
              "      <td>Admitted</td>\n",
              "      <td>100</td>\n",
              "      <td>HA ED ADULT</td>\n",
              "      <td>Yes</td>\n",
              "      <td>1</td>\n",
              "      <td>Medicine</td>\n",
              "      <td>122</td>\n",
              "      <td>HA 14MD 14-114</td>\n",
              "      <td>836</td>\n",
              "      <td>53.0</td>\n",
              "      <td>Not Deceased</td>\n",
              "      <td>Abnormal</td>\n",
              "      <td>Abnormal</td>\n",
              "      <td>SARS-COV 2 PCR</td>\n",
              "      <td>CEPHEID COVID-19 PCR [LABC1930]</td>\n",
              "      <td>LABC1930</td>\n",
              "      <td>COVID-19 (confirmed)</td>\n",
              "      <td>Positive</td>\n",
              "      <td>Nasopharyngeal Swab</td>\n",
              "      <td>8/2/2020</td>\n",
              "      <td>1846</td>\n",
              "      <td>Contact and Droplet</td>\n",
              "      <td>Final result</td>\n",
              "      <td>8/2/2020</td>\n",
              "      <td>8:04:59 PM</td>\n",
              "      <td>NaN</td>\n",
              "      <td>F</td>\n",
              "      <td>10027</td>\n",
              "      <td>Pneumonia of both lower lobes due to infectiou...</td>\n",
              "      <td>1</td>\n",
              "    </tr>\n",
              "    <tr>\n",
              "      <th>836</th>\n",
              "      <td>HARLEM HOSPITAL CENTER</td>\n",
              "      <td>8/3/2020</td>\n",
              "      <td>August</td>\n",
              "      <td>2020</td>\n",
              "      <td>HA ED ADULT</td>\n",
              "      <td>1012006030</td>\n",
              "      <td>Discharged</td>\n",
              "      <td>300</td>\n",
              "      <td>HA ED ADULT</td>\n",
              "      <td>No</td>\n",
              "      <td>0</td>\n",
              "      <td>Medicine</td>\n",
              "      <td>122</td>\n",
              "      <td>HA 13MD 13-122</td>\n",
              "      <td>837</td>\n",
              "      <td>55.0</td>\n",
              "      <td>Not Deceased</td>\n",
              "      <td>Abnormal</td>\n",
              "      <td>Abnormal</td>\n",
              "      <td>SARS-COV 2 PCR</td>\n",
              "      <td>CEPHEID COVID-19 PCR [LABC1930]</td>\n",
              "      <td>LABC1930</td>\n",
              "      <td>COVID-19 (confirmed)</td>\n",
              "      <td>Positive</td>\n",
              "      <td>Nasopharyngeal Swab</td>\n",
              "      <td>8/3/2020</td>\n",
              "      <td>1938</td>\n",
              "      <td>Contact and Droplet</td>\n",
              "      <td>Final result</td>\n",
              "      <td>8/3/2020</td>\n",
              "      <td>9:28:50 PM</td>\n",
              "      <td>8/4/2020</td>\n",
              "      <td>F</td>\n",
              "      <td>10030</td>\n",
              "      <td>Lactic acidosis (Additional Hospital Problems)</td>\n",
              "      <td>1</td>\n",
              "    </tr>\n",
              "    <tr>\n",
              "      <th>837</th>\n",
              "      <td>HARLEM HOSPITAL CENTER</td>\n",
              "      <td>8/7/2020</td>\n",
              "      <td>August</td>\n",
              "      <td>2020</td>\n",
              "      <td>HA ED ADULT</td>\n",
              "      <td>1012006030</td>\n",
              "      <td>Admitted</td>\n",
              "      <td>100</td>\n",
              "      <td>HA ED ADULT</td>\n",
              "      <td>Yes</td>\n",
              "      <td>1</td>\n",
              "      <td>Medicine</td>\n",
              "      <td>122</td>\n",
              "      <td>HA 14MD 14-143</td>\n",
              "      <td>838</td>\n",
              "      <td>30.0</td>\n",
              "      <td>Not Deceased</td>\n",
              "      <td>Abnormal</td>\n",
              "      <td>Abnormal</td>\n",
              "      <td>SARS-COV 2 PCR</td>\n",
              "      <td>CEPHEID COVID-19 PCR [LABC1930]</td>\n",
              "      <td>LABC1930</td>\n",
              "      <td>COVID-19 (confirmed)</td>\n",
              "      <td>Positive</td>\n",
              "      <td>Nasopharyngeal Swab</td>\n",
              "      <td>8/7/2020</td>\n",
              "      <td>444</td>\n",
              "      <td>Contact and Airborne</td>\n",
              "      <td>Final result</td>\n",
              "      <td>8/7/2020</td>\n",
              "      <td>6:07:13 AM</td>\n",
              "      <td>NaN</td>\n",
              "      <td>M</td>\n",
              "      <td>10029</td>\n",
              "      <td>Lung abnormality</td>\n",
              "      <td>1</td>\n",
              "    </tr>\n",
              "    <tr>\n",
              "      <th>838</th>\n",
              "      <td>HARLEM HOSPITAL CENTER</td>\n",
              "      <td>3/15/2020</td>\n",
              "      <td>March</td>\n",
              "      <td>2020</td>\n",
              "      <td>HA ED ADULT</td>\n",
              "      <td>1012006030</td>\n",
              "      <td>ED Dismissed</td>\n",
              "      <td>800</td>\n",
              "      <td>HA ED ADULT</td>\n",
              "      <td>No</td>\n",
              "      <td>0</td>\n",
              "      <td>Emergency</td>\n",
              "      <td>123</td>\n",
              "      <td>HA EDADL</td>\n",
              "      <td>839</td>\n",
              "      <td>35.0</td>\n",
              "      <td>Not Deceased</td>\n",
              "      <td>Panic</td>\n",
              "      <td>Abnormal</td>\n",
              "      <td>NOVEL CORONAVIRUS (COVID-19)</td>\n",
              "      <td>LABCORP COVID-19 TEST (SEND OUT) [LABC1923]</td>\n",
              "      <td>LABC1923</td>\n",
              "      <td>COVID-19 (confirmed)</td>\n",
              "      <td>Positive</td>\n",
              "      <td>NP/OP Swab</td>\n",
              "      <td>3/15/2020</td>\n",
              "      <td>1334</td>\n",
              "      <td>Not reported</td>\n",
              "      <td>Final result</td>\n",
              "      <td>3/18/2020</td>\n",
              "      <td>1:16:21 PM</td>\n",
              "      <td>3/15/2020</td>\n",
              "      <td>M</td>\n",
              "      <td>10031</td>\n",
              "      <td>None</td>\n",
              "      <td>1</td>\n",
              "    </tr>\n",
              "  </tbody>\n",
              "</table>\n",
              "</div>"
            ],
            "text/plain": [
              "                   facility  ... visit_count\n",
              "834  HARLEM HOSPITAL CENTER  ...           1\n",
              "835  HARLEM HOSPITAL CENTER  ...           1\n",
              "836  HARLEM HOSPITAL CENTER  ...           1\n",
              "837  HARLEM HOSPITAL CENTER  ...           1\n",
              "838  HARLEM HOSPITAL CENTER  ...           1\n",
              "\n",
              "[5 rows x 36 columns]"
            ]
          },
          "metadata": {
            "tags": []
          },
          "execution_count": 262
        }
      ]
    },
    {
      "cell_type": "code",
      "metadata": {
        "id": "qIXkNqR8Nxd3",
        "colab_type": "code",
        "colab": {
          "base_uri": "https://localhost:8080/",
          "height": 170
        },
        "outputId": "00db764e-bc45-4125-ba2b-fd22da6ef662"
      },
      "source": [
        "df.columns"
      ],
      "execution_count": 263,
      "outputs": [
        {
          "output_type": "execute_result",
          "data": {
            "text/plain": [
              "Index(['facility', 'admit_date', 'month', 'year', 'encounter_dept', 'dept_id',\n",
              "       'encounter_type', 'encounter_type_id', 'collection_dept',\n",
              "       'admit_status', 'admit_status_id', 'service', 'service_id', 'unit_room',\n",
              "       'mrn', 'age', 'mortality_status', 'abnormality', 'abnormal',\n",
              "       'component ', 'procedure', 'lab_id', 'infection_status', 'value',\n",
              "       'specimen_type', 'collected_date', 'collected_time', 'isolation_status',\n",
              "       'lab_status', 'result_date', 'result_time', 'discharge_date', 'gender',\n",
              "       'zip_code', 'primary_problem', 'visit_count'],\n",
              "      dtype='object')"
            ]
          },
          "metadata": {
            "tags": []
          },
          "execution_count": 263
        }
      ]
    },
    {
      "cell_type": "code",
      "metadata": {
        "id": "3UXR-Ax6Nz1k",
        "colab_type": "code",
        "colab": {
          "base_uri": "https://localhost:8080/",
          "height": 646
        },
        "outputId": "b35b0a96-5f1e-4cc8-874b-f389847c31d3"
      },
      "source": [
        "df.dtypes"
      ],
      "execution_count": 264,
      "outputs": [
        {
          "output_type": "execute_result",
          "data": {
            "text/plain": [
              "facility              object\n",
              "admit_date            object\n",
              "month                 object\n",
              "year                   int64\n",
              "encounter_dept        object\n",
              "dept_id                int64\n",
              "encounter_type        object\n",
              "encounter_type_id      int64\n",
              "collection_dept       object\n",
              "admit_status          object\n",
              "admit_status_id        int64\n",
              "service               object\n",
              "service_id             int64\n",
              "unit_room             object\n",
              "mrn                    int64\n",
              "age                  float64\n",
              "mortality_status      object\n",
              "abnormality           object\n",
              "abnormal              object\n",
              "component             object\n",
              "procedure             object\n",
              "lab_id                object\n",
              "infection_status      object\n",
              "value                 object\n",
              "specimen_type         object\n",
              "collected_date        object\n",
              "collected_time         int64\n",
              "isolation_status      object\n",
              "lab_status            object\n",
              "result_date           object\n",
              "result_time           object\n",
              "discharge_date        object\n",
              "gender                object\n",
              "zip_code               int64\n",
              "primary_problem       object\n",
              "visit_count            int64\n",
              "dtype: object"
            ]
          },
          "metadata": {
            "tags": []
          },
          "execution_count": 264
        }
      ]
    },
    {
      "cell_type": "markdown",
      "metadata": {
        "id": "XfjjgtG_N6FB",
        "colab_type": "text"
      },
      "source": [
        "# **DATA WRANGLING**"
      ]
    },
    {
      "cell_type": "code",
      "metadata": {
        "id": "YUfML6RSOeZP",
        "colab_type": "code",
        "colab": {
          "base_uri": "https://localhost:8080/",
          "height": 315
        },
        "outputId": "f1b9a7ef-a892-4a5e-d481-7ac93eef856b"
      },
      "source": [
        "# Drop columns\n",
        "ha_df = df.drop(columns=['unit_room', 'mortality_status', 'abnormality', 'abnormal', \n",
        "                         'collection_dept','collected_time','result_time', 'lab_status'])\n",
        "ha_df.head(3)"
      ],
      "execution_count": 265,
      "outputs": [
        {
          "output_type": "execute_result",
          "data": {
            "text/html": [
              "<div>\n",
              "<style scoped>\n",
              "    .dataframe tbody tr th:only-of-type {\n",
              "        vertical-align: middle;\n",
              "    }\n",
              "\n",
              "    .dataframe tbody tr th {\n",
              "        vertical-align: top;\n",
              "    }\n",
              "\n",
              "    .dataframe thead th {\n",
              "        text-align: right;\n",
              "    }\n",
              "</style>\n",
              "<table border=\"1\" class=\"dataframe\">\n",
              "  <thead>\n",
              "    <tr style=\"text-align: right;\">\n",
              "      <th></th>\n",
              "      <th>facility</th>\n",
              "      <th>admit_date</th>\n",
              "      <th>month</th>\n",
              "      <th>year</th>\n",
              "      <th>encounter_dept</th>\n",
              "      <th>dept_id</th>\n",
              "      <th>encounter_type</th>\n",
              "      <th>encounter_type_id</th>\n",
              "      <th>admit_status</th>\n",
              "      <th>admit_status_id</th>\n",
              "      <th>service</th>\n",
              "      <th>service_id</th>\n",
              "      <th>mrn</th>\n",
              "      <th>age</th>\n",
              "      <th>component</th>\n",
              "      <th>procedure</th>\n",
              "      <th>lab_id</th>\n",
              "      <th>infection_status</th>\n",
              "      <th>value</th>\n",
              "      <th>specimen_type</th>\n",
              "      <th>collected_date</th>\n",
              "      <th>isolation_status</th>\n",
              "      <th>result_date</th>\n",
              "      <th>discharge_date</th>\n",
              "      <th>gender</th>\n",
              "      <th>zip_code</th>\n",
              "      <th>primary_problem</th>\n",
              "      <th>visit_count</th>\n",
              "    </tr>\n",
              "  </thead>\n",
              "  <tbody>\n",
              "    <tr>\n",
              "      <th>0</th>\n",
              "      <td>HARLEM HOSPITAL CENTER</td>\n",
              "      <td>12/22/2018</td>\n",
              "      <td>December</td>\n",
              "      <td>2018</td>\n",
              "      <td>HA IP 11SU</td>\n",
              "      <td>1012007020</td>\n",
              "      <td>Discharged</td>\n",
              "      <td>300</td>\n",
              "      <td>No</td>\n",
              "      <td>0</td>\n",
              "      <td>Medicine</td>\n",
              "      <td>122</td>\n",
              "      <td>1</td>\n",
              "      <td>83.0</td>\n",
              "      <td>SCANNED REPORT\\r\\nCOVID-19 BIOREFERENCE LAB</td>\n",
              "      <td>BIOREFERENCE COVID-19 PCR(SO) [LABC1925]</td>\n",
              "      <td>LABC1925</td>\n",
              "      <td>COVID-19 (confirmed)</td>\n",
              "      <td>Positive</td>\n",
              "      <td>Nasopharyngeal</td>\n",
              "      <td>4/6/2020</td>\n",
              "      <td>Not reported</td>\n",
              "      <td>4/15/2020</td>\n",
              "      <td>4/10/2020</td>\n",
              "      <td>F</td>\n",
              "      <td>10026</td>\n",
              "      <td>Atrial flutter (HCC) (Additional Hospital Prob...</td>\n",
              "      <td>1</td>\n",
              "    </tr>\n",
              "    <tr>\n",
              "      <th>1</th>\n",
              "      <td>HARLEM HOSPITAL CENTER</td>\n",
              "      <td>11/13/2019</td>\n",
              "      <td>November</td>\n",
              "      <td>2019</td>\n",
              "      <td>HA IP 13MD</td>\n",
              "      <td>1012007040</td>\n",
              "      <td>Discharged</td>\n",
              "      <td>300</td>\n",
              "      <td>No</td>\n",
              "      <td>0</td>\n",
              "      <td>Medicine</td>\n",
              "      <td>122</td>\n",
              "      <td>2</td>\n",
              "      <td>81.0</td>\n",
              "      <td>SCANNED REPORT\\r\\nCOVID-19 BIOREFERENCE LAB</td>\n",
              "      <td>BIOREFERENCE COVID-19 PCR(SO) [LABC1925]</td>\n",
              "      <td>LABC1925</td>\n",
              "      <td>COVID-19 (confirmed)</td>\n",
              "      <td>Positive</td>\n",
              "      <td>Nasopharyngeal</td>\n",
              "      <td>3/23/2020</td>\n",
              "      <td>Not reported</td>\n",
              "      <td>3/30/2020</td>\n",
              "      <td>4/25/2020</td>\n",
              "      <td>M</td>\n",
              "      <td>10031</td>\n",
              "      <td>COVID-19 virus detected (Principal Hospital Pr...</td>\n",
              "      <td>1</td>\n",
              "    </tr>\n",
              "    <tr>\n",
              "      <th>2</th>\n",
              "      <td>HARLEM HOSPITAL CENTER</td>\n",
              "      <td>1/21/2020</td>\n",
              "      <td>January</td>\n",
              "      <td>2020</td>\n",
              "      <td>HA IP 13MD</td>\n",
              "      <td>1012007040</td>\n",
              "      <td>Discharged</td>\n",
              "      <td>300</td>\n",
              "      <td>No</td>\n",
              "      <td>0</td>\n",
              "      <td>Medicine</td>\n",
              "      <td>122</td>\n",
              "      <td>3</td>\n",
              "      <td>84.0</td>\n",
              "      <td>NOVEL CORONAVIRUS (COVID-19)</td>\n",
              "      <td>LABCORP COVID-19 TEST (SEND OUT) [LABC1923]</td>\n",
              "      <td>LABC1923</td>\n",
              "      <td>COVID-19 (confirmed)</td>\n",
              "      <td>Positive</td>\n",
              "      <td>NP/OP Swab</td>\n",
              "      <td>3/19/2020</td>\n",
              "      <td>Not reported</td>\n",
              "      <td>3/26/2020</td>\n",
              "      <td>4/11/2020</td>\n",
              "      <td>F</td>\n",
              "      <td>10037</td>\n",
              "      <td>COVID-19 virus detected (Principal Hospital Pr...</td>\n",
              "      <td>1</td>\n",
              "    </tr>\n",
              "  </tbody>\n",
              "</table>\n",
              "</div>"
            ],
            "text/plain": [
              "                 facility  ... visit_count\n",
              "0  HARLEM HOSPITAL CENTER  ...           1\n",
              "1  HARLEM HOSPITAL CENTER  ...           1\n",
              "2  HARLEM HOSPITAL CENTER  ...           1\n",
              "\n",
              "[3 rows x 28 columns]"
            ]
          },
          "metadata": {
            "tags": []
          },
          "execution_count": 265
        }
      ]
    },
    {
      "cell_type": "code",
      "metadata": {
        "id": "7efxOUUa37NB",
        "colab_type": "code",
        "colab": {
          "base_uri": "https://localhost:8080/",
          "height": 315
        },
        "outputId": "268e2b06-0cea-4749-b6a8-d0b84d590f7a"
      },
      "source": [
        "# Adding column with total cases by admit date\n",
        "ha_df['sum_cases'] = df.groupby('admit_date')['visit_count'].transform(np.sum)\n",
        "ha_df.head(3)"
      ],
      "execution_count": 266,
      "outputs": [
        {
          "output_type": "execute_result",
          "data": {
            "text/html": [
              "<div>\n",
              "<style scoped>\n",
              "    .dataframe tbody tr th:only-of-type {\n",
              "        vertical-align: middle;\n",
              "    }\n",
              "\n",
              "    .dataframe tbody tr th {\n",
              "        vertical-align: top;\n",
              "    }\n",
              "\n",
              "    .dataframe thead th {\n",
              "        text-align: right;\n",
              "    }\n",
              "</style>\n",
              "<table border=\"1\" class=\"dataframe\">\n",
              "  <thead>\n",
              "    <tr style=\"text-align: right;\">\n",
              "      <th></th>\n",
              "      <th>facility</th>\n",
              "      <th>admit_date</th>\n",
              "      <th>month</th>\n",
              "      <th>year</th>\n",
              "      <th>encounter_dept</th>\n",
              "      <th>dept_id</th>\n",
              "      <th>encounter_type</th>\n",
              "      <th>encounter_type_id</th>\n",
              "      <th>admit_status</th>\n",
              "      <th>admit_status_id</th>\n",
              "      <th>service</th>\n",
              "      <th>service_id</th>\n",
              "      <th>mrn</th>\n",
              "      <th>age</th>\n",
              "      <th>component</th>\n",
              "      <th>procedure</th>\n",
              "      <th>lab_id</th>\n",
              "      <th>infection_status</th>\n",
              "      <th>value</th>\n",
              "      <th>specimen_type</th>\n",
              "      <th>collected_date</th>\n",
              "      <th>isolation_status</th>\n",
              "      <th>result_date</th>\n",
              "      <th>discharge_date</th>\n",
              "      <th>gender</th>\n",
              "      <th>zip_code</th>\n",
              "      <th>primary_problem</th>\n",
              "      <th>visit_count</th>\n",
              "      <th>sum_cases</th>\n",
              "    </tr>\n",
              "  </thead>\n",
              "  <tbody>\n",
              "    <tr>\n",
              "      <th>0</th>\n",
              "      <td>HARLEM HOSPITAL CENTER</td>\n",
              "      <td>12/22/2018</td>\n",
              "      <td>December</td>\n",
              "      <td>2018</td>\n",
              "      <td>HA IP 11SU</td>\n",
              "      <td>1012007020</td>\n",
              "      <td>Discharged</td>\n",
              "      <td>300</td>\n",
              "      <td>No</td>\n",
              "      <td>0</td>\n",
              "      <td>Medicine</td>\n",
              "      <td>122</td>\n",
              "      <td>1</td>\n",
              "      <td>83.0</td>\n",
              "      <td>SCANNED REPORT\\r\\nCOVID-19 BIOREFERENCE LAB</td>\n",
              "      <td>BIOREFERENCE COVID-19 PCR(SO) [LABC1925]</td>\n",
              "      <td>LABC1925</td>\n",
              "      <td>COVID-19 (confirmed)</td>\n",
              "      <td>Positive</td>\n",
              "      <td>Nasopharyngeal</td>\n",
              "      <td>4/6/2020</td>\n",
              "      <td>Not reported</td>\n",
              "      <td>4/15/2020</td>\n",
              "      <td>4/10/2020</td>\n",
              "      <td>F</td>\n",
              "      <td>10026</td>\n",
              "      <td>Atrial flutter (HCC) (Additional Hospital Prob...</td>\n",
              "      <td>1</td>\n",
              "      <td>1</td>\n",
              "    </tr>\n",
              "    <tr>\n",
              "      <th>1</th>\n",
              "      <td>HARLEM HOSPITAL CENTER</td>\n",
              "      <td>11/13/2019</td>\n",
              "      <td>November</td>\n",
              "      <td>2019</td>\n",
              "      <td>HA IP 13MD</td>\n",
              "      <td>1012007040</td>\n",
              "      <td>Discharged</td>\n",
              "      <td>300</td>\n",
              "      <td>No</td>\n",
              "      <td>0</td>\n",
              "      <td>Medicine</td>\n",
              "      <td>122</td>\n",
              "      <td>2</td>\n",
              "      <td>81.0</td>\n",
              "      <td>SCANNED REPORT\\r\\nCOVID-19 BIOREFERENCE LAB</td>\n",
              "      <td>BIOREFERENCE COVID-19 PCR(SO) [LABC1925]</td>\n",
              "      <td>LABC1925</td>\n",
              "      <td>COVID-19 (confirmed)</td>\n",
              "      <td>Positive</td>\n",
              "      <td>Nasopharyngeal</td>\n",
              "      <td>3/23/2020</td>\n",
              "      <td>Not reported</td>\n",
              "      <td>3/30/2020</td>\n",
              "      <td>4/25/2020</td>\n",
              "      <td>M</td>\n",
              "      <td>10031</td>\n",
              "      <td>COVID-19 virus detected (Principal Hospital Pr...</td>\n",
              "      <td>1</td>\n",
              "      <td>1</td>\n",
              "    </tr>\n",
              "    <tr>\n",
              "      <th>2</th>\n",
              "      <td>HARLEM HOSPITAL CENTER</td>\n",
              "      <td>1/21/2020</td>\n",
              "      <td>January</td>\n",
              "      <td>2020</td>\n",
              "      <td>HA IP 13MD</td>\n",
              "      <td>1012007040</td>\n",
              "      <td>Discharged</td>\n",
              "      <td>300</td>\n",
              "      <td>No</td>\n",
              "      <td>0</td>\n",
              "      <td>Medicine</td>\n",
              "      <td>122</td>\n",
              "      <td>3</td>\n",
              "      <td>84.0</td>\n",
              "      <td>NOVEL CORONAVIRUS (COVID-19)</td>\n",
              "      <td>LABCORP COVID-19 TEST (SEND OUT) [LABC1923]</td>\n",
              "      <td>LABC1923</td>\n",
              "      <td>COVID-19 (confirmed)</td>\n",
              "      <td>Positive</td>\n",
              "      <td>NP/OP Swab</td>\n",
              "      <td>3/19/2020</td>\n",
              "      <td>Not reported</td>\n",
              "      <td>3/26/2020</td>\n",
              "      <td>4/11/2020</td>\n",
              "      <td>F</td>\n",
              "      <td>10037</td>\n",
              "      <td>COVID-19 virus detected (Principal Hospital Pr...</td>\n",
              "      <td>1</td>\n",
              "      <td>2</td>\n",
              "    </tr>\n",
              "  </tbody>\n",
              "</table>\n",
              "</div>"
            ],
            "text/plain": [
              "                 facility  admit_date  ... visit_count  sum_cases\n",
              "0  HARLEM HOSPITAL CENTER  12/22/2018  ...           1          1\n",
              "1  HARLEM HOSPITAL CENTER  11/13/2019  ...           1          1\n",
              "2  HARLEM HOSPITAL CENTER   1/21/2020  ...           1          2\n",
              "\n",
              "[3 rows x 29 columns]"
            ]
          },
          "metadata": {
            "tags": []
          },
          "execution_count": 266
        }
      ]
    },
    {
      "cell_type": "code",
      "metadata": {
        "id": "__WfmZpsideu",
        "colab_type": "code",
        "colab": {
          "base_uri": "https://localhost:8080/",
          "height": 315
        },
        "outputId": "ef2fd714-81ef-4bd0-d0b1-d6de0ec78ffb"
      },
      "source": [
        "# Create column (month_id) with numerical value for months\n",
        "ha_df['month_id'] = pd.DatetimeIndex(ha_df['admit_date']).month\n",
        "ha_df.head(3)"
      ],
      "execution_count": 267,
      "outputs": [
        {
          "output_type": "execute_result",
          "data": {
            "text/html": [
              "<div>\n",
              "<style scoped>\n",
              "    .dataframe tbody tr th:only-of-type {\n",
              "        vertical-align: middle;\n",
              "    }\n",
              "\n",
              "    .dataframe tbody tr th {\n",
              "        vertical-align: top;\n",
              "    }\n",
              "\n",
              "    .dataframe thead th {\n",
              "        text-align: right;\n",
              "    }\n",
              "</style>\n",
              "<table border=\"1\" class=\"dataframe\">\n",
              "  <thead>\n",
              "    <tr style=\"text-align: right;\">\n",
              "      <th></th>\n",
              "      <th>facility</th>\n",
              "      <th>admit_date</th>\n",
              "      <th>month</th>\n",
              "      <th>year</th>\n",
              "      <th>encounter_dept</th>\n",
              "      <th>dept_id</th>\n",
              "      <th>encounter_type</th>\n",
              "      <th>encounter_type_id</th>\n",
              "      <th>admit_status</th>\n",
              "      <th>admit_status_id</th>\n",
              "      <th>service</th>\n",
              "      <th>service_id</th>\n",
              "      <th>mrn</th>\n",
              "      <th>age</th>\n",
              "      <th>component</th>\n",
              "      <th>procedure</th>\n",
              "      <th>lab_id</th>\n",
              "      <th>infection_status</th>\n",
              "      <th>value</th>\n",
              "      <th>specimen_type</th>\n",
              "      <th>collected_date</th>\n",
              "      <th>isolation_status</th>\n",
              "      <th>result_date</th>\n",
              "      <th>discharge_date</th>\n",
              "      <th>gender</th>\n",
              "      <th>zip_code</th>\n",
              "      <th>primary_problem</th>\n",
              "      <th>visit_count</th>\n",
              "      <th>sum_cases</th>\n",
              "      <th>month_id</th>\n",
              "    </tr>\n",
              "  </thead>\n",
              "  <tbody>\n",
              "    <tr>\n",
              "      <th>0</th>\n",
              "      <td>HARLEM HOSPITAL CENTER</td>\n",
              "      <td>12/22/2018</td>\n",
              "      <td>December</td>\n",
              "      <td>2018</td>\n",
              "      <td>HA IP 11SU</td>\n",
              "      <td>1012007020</td>\n",
              "      <td>Discharged</td>\n",
              "      <td>300</td>\n",
              "      <td>No</td>\n",
              "      <td>0</td>\n",
              "      <td>Medicine</td>\n",
              "      <td>122</td>\n",
              "      <td>1</td>\n",
              "      <td>83.0</td>\n",
              "      <td>SCANNED REPORT\\r\\nCOVID-19 BIOREFERENCE LAB</td>\n",
              "      <td>BIOREFERENCE COVID-19 PCR(SO) [LABC1925]</td>\n",
              "      <td>LABC1925</td>\n",
              "      <td>COVID-19 (confirmed)</td>\n",
              "      <td>Positive</td>\n",
              "      <td>Nasopharyngeal</td>\n",
              "      <td>4/6/2020</td>\n",
              "      <td>Not reported</td>\n",
              "      <td>4/15/2020</td>\n",
              "      <td>4/10/2020</td>\n",
              "      <td>F</td>\n",
              "      <td>10026</td>\n",
              "      <td>Atrial flutter (HCC) (Additional Hospital Prob...</td>\n",
              "      <td>1</td>\n",
              "      <td>1</td>\n",
              "      <td>12</td>\n",
              "    </tr>\n",
              "    <tr>\n",
              "      <th>1</th>\n",
              "      <td>HARLEM HOSPITAL CENTER</td>\n",
              "      <td>11/13/2019</td>\n",
              "      <td>November</td>\n",
              "      <td>2019</td>\n",
              "      <td>HA IP 13MD</td>\n",
              "      <td>1012007040</td>\n",
              "      <td>Discharged</td>\n",
              "      <td>300</td>\n",
              "      <td>No</td>\n",
              "      <td>0</td>\n",
              "      <td>Medicine</td>\n",
              "      <td>122</td>\n",
              "      <td>2</td>\n",
              "      <td>81.0</td>\n",
              "      <td>SCANNED REPORT\\r\\nCOVID-19 BIOREFERENCE LAB</td>\n",
              "      <td>BIOREFERENCE COVID-19 PCR(SO) [LABC1925]</td>\n",
              "      <td>LABC1925</td>\n",
              "      <td>COVID-19 (confirmed)</td>\n",
              "      <td>Positive</td>\n",
              "      <td>Nasopharyngeal</td>\n",
              "      <td>3/23/2020</td>\n",
              "      <td>Not reported</td>\n",
              "      <td>3/30/2020</td>\n",
              "      <td>4/25/2020</td>\n",
              "      <td>M</td>\n",
              "      <td>10031</td>\n",
              "      <td>COVID-19 virus detected (Principal Hospital Pr...</td>\n",
              "      <td>1</td>\n",
              "      <td>1</td>\n",
              "      <td>11</td>\n",
              "    </tr>\n",
              "    <tr>\n",
              "      <th>2</th>\n",
              "      <td>HARLEM HOSPITAL CENTER</td>\n",
              "      <td>1/21/2020</td>\n",
              "      <td>January</td>\n",
              "      <td>2020</td>\n",
              "      <td>HA IP 13MD</td>\n",
              "      <td>1012007040</td>\n",
              "      <td>Discharged</td>\n",
              "      <td>300</td>\n",
              "      <td>No</td>\n",
              "      <td>0</td>\n",
              "      <td>Medicine</td>\n",
              "      <td>122</td>\n",
              "      <td>3</td>\n",
              "      <td>84.0</td>\n",
              "      <td>NOVEL CORONAVIRUS (COVID-19)</td>\n",
              "      <td>LABCORP COVID-19 TEST (SEND OUT) [LABC1923]</td>\n",
              "      <td>LABC1923</td>\n",
              "      <td>COVID-19 (confirmed)</td>\n",
              "      <td>Positive</td>\n",
              "      <td>NP/OP Swab</td>\n",
              "      <td>3/19/2020</td>\n",
              "      <td>Not reported</td>\n",
              "      <td>3/26/2020</td>\n",
              "      <td>4/11/2020</td>\n",
              "      <td>F</td>\n",
              "      <td>10037</td>\n",
              "      <td>COVID-19 virus detected (Principal Hospital Pr...</td>\n",
              "      <td>1</td>\n",
              "      <td>2</td>\n",
              "      <td>1</td>\n",
              "    </tr>\n",
              "  </tbody>\n",
              "</table>\n",
              "</div>"
            ],
            "text/plain": [
              "                 facility  admit_date  ... sum_cases  month_id\n",
              "0  HARLEM HOSPITAL CENTER  12/22/2018  ...         1        12\n",
              "1  HARLEM HOSPITAL CENTER  11/13/2019  ...         1        11\n",
              "2  HARLEM HOSPITAL CENTER   1/21/2020  ...         2         1\n",
              "\n",
              "[3 rows x 30 columns]"
            ]
          },
          "metadata": {
            "tags": []
          },
          "execution_count": 267
        }
      ]
    },
    {
      "cell_type": "code",
      "metadata": {
        "id": "A8B9ij2rXqKa",
        "colab_type": "code",
        "colab": {}
      },
      "source": [
        "# Copying 'value' column\n",
        "ha_df['value_id'] = ha_df['value']"
      ],
      "execution_count": 268,
      "outputs": []
    },
    {
      "cell_type": "code",
      "metadata": {
        "id": "S7xeOq1sYGTh",
        "colab_type": "code",
        "colab": {
          "base_uri": "https://localhost:8080/",
          "height": 315
        },
        "outputId": "f3f7231b-1eaa-4fe4-d38c-dd845df2c90c"
      },
      "source": [
        "# Changing string values to integers for plotting purposes\n",
        "ha_df['value_id'].replace('Positive', 1, inplace=True)\n",
        "ha_df['value_id'].replace('Inconclusive', 0, inplace=True)\n",
        "ha_df.head(3)"
      ],
      "execution_count": 269,
      "outputs": [
        {
          "output_type": "execute_result",
          "data": {
            "text/html": [
              "<div>\n",
              "<style scoped>\n",
              "    .dataframe tbody tr th:only-of-type {\n",
              "        vertical-align: middle;\n",
              "    }\n",
              "\n",
              "    .dataframe tbody tr th {\n",
              "        vertical-align: top;\n",
              "    }\n",
              "\n",
              "    .dataframe thead th {\n",
              "        text-align: right;\n",
              "    }\n",
              "</style>\n",
              "<table border=\"1\" class=\"dataframe\">\n",
              "  <thead>\n",
              "    <tr style=\"text-align: right;\">\n",
              "      <th></th>\n",
              "      <th>facility</th>\n",
              "      <th>admit_date</th>\n",
              "      <th>month</th>\n",
              "      <th>year</th>\n",
              "      <th>encounter_dept</th>\n",
              "      <th>dept_id</th>\n",
              "      <th>encounter_type</th>\n",
              "      <th>encounter_type_id</th>\n",
              "      <th>admit_status</th>\n",
              "      <th>admit_status_id</th>\n",
              "      <th>service</th>\n",
              "      <th>service_id</th>\n",
              "      <th>mrn</th>\n",
              "      <th>age</th>\n",
              "      <th>component</th>\n",
              "      <th>procedure</th>\n",
              "      <th>lab_id</th>\n",
              "      <th>infection_status</th>\n",
              "      <th>value</th>\n",
              "      <th>specimen_type</th>\n",
              "      <th>collected_date</th>\n",
              "      <th>isolation_status</th>\n",
              "      <th>result_date</th>\n",
              "      <th>discharge_date</th>\n",
              "      <th>gender</th>\n",
              "      <th>zip_code</th>\n",
              "      <th>primary_problem</th>\n",
              "      <th>visit_count</th>\n",
              "      <th>sum_cases</th>\n",
              "      <th>month_id</th>\n",
              "      <th>value_id</th>\n",
              "    </tr>\n",
              "  </thead>\n",
              "  <tbody>\n",
              "    <tr>\n",
              "      <th>0</th>\n",
              "      <td>HARLEM HOSPITAL CENTER</td>\n",
              "      <td>12/22/2018</td>\n",
              "      <td>December</td>\n",
              "      <td>2018</td>\n",
              "      <td>HA IP 11SU</td>\n",
              "      <td>1012007020</td>\n",
              "      <td>Discharged</td>\n",
              "      <td>300</td>\n",
              "      <td>No</td>\n",
              "      <td>0</td>\n",
              "      <td>Medicine</td>\n",
              "      <td>122</td>\n",
              "      <td>1</td>\n",
              "      <td>83.0</td>\n",
              "      <td>SCANNED REPORT\\r\\nCOVID-19 BIOREFERENCE LAB</td>\n",
              "      <td>BIOREFERENCE COVID-19 PCR(SO) [LABC1925]</td>\n",
              "      <td>LABC1925</td>\n",
              "      <td>COVID-19 (confirmed)</td>\n",
              "      <td>Positive</td>\n",
              "      <td>Nasopharyngeal</td>\n",
              "      <td>4/6/2020</td>\n",
              "      <td>Not reported</td>\n",
              "      <td>4/15/2020</td>\n",
              "      <td>4/10/2020</td>\n",
              "      <td>F</td>\n",
              "      <td>10026</td>\n",
              "      <td>Atrial flutter (HCC) (Additional Hospital Prob...</td>\n",
              "      <td>1</td>\n",
              "      <td>1</td>\n",
              "      <td>12</td>\n",
              "      <td>1</td>\n",
              "    </tr>\n",
              "    <tr>\n",
              "      <th>1</th>\n",
              "      <td>HARLEM HOSPITAL CENTER</td>\n",
              "      <td>11/13/2019</td>\n",
              "      <td>November</td>\n",
              "      <td>2019</td>\n",
              "      <td>HA IP 13MD</td>\n",
              "      <td>1012007040</td>\n",
              "      <td>Discharged</td>\n",
              "      <td>300</td>\n",
              "      <td>No</td>\n",
              "      <td>0</td>\n",
              "      <td>Medicine</td>\n",
              "      <td>122</td>\n",
              "      <td>2</td>\n",
              "      <td>81.0</td>\n",
              "      <td>SCANNED REPORT\\r\\nCOVID-19 BIOREFERENCE LAB</td>\n",
              "      <td>BIOREFERENCE COVID-19 PCR(SO) [LABC1925]</td>\n",
              "      <td>LABC1925</td>\n",
              "      <td>COVID-19 (confirmed)</td>\n",
              "      <td>Positive</td>\n",
              "      <td>Nasopharyngeal</td>\n",
              "      <td>3/23/2020</td>\n",
              "      <td>Not reported</td>\n",
              "      <td>3/30/2020</td>\n",
              "      <td>4/25/2020</td>\n",
              "      <td>M</td>\n",
              "      <td>10031</td>\n",
              "      <td>COVID-19 virus detected (Principal Hospital Pr...</td>\n",
              "      <td>1</td>\n",
              "      <td>1</td>\n",
              "      <td>11</td>\n",
              "      <td>1</td>\n",
              "    </tr>\n",
              "    <tr>\n",
              "      <th>2</th>\n",
              "      <td>HARLEM HOSPITAL CENTER</td>\n",
              "      <td>1/21/2020</td>\n",
              "      <td>January</td>\n",
              "      <td>2020</td>\n",
              "      <td>HA IP 13MD</td>\n",
              "      <td>1012007040</td>\n",
              "      <td>Discharged</td>\n",
              "      <td>300</td>\n",
              "      <td>No</td>\n",
              "      <td>0</td>\n",
              "      <td>Medicine</td>\n",
              "      <td>122</td>\n",
              "      <td>3</td>\n",
              "      <td>84.0</td>\n",
              "      <td>NOVEL CORONAVIRUS (COVID-19)</td>\n",
              "      <td>LABCORP COVID-19 TEST (SEND OUT) [LABC1923]</td>\n",
              "      <td>LABC1923</td>\n",
              "      <td>COVID-19 (confirmed)</td>\n",
              "      <td>Positive</td>\n",
              "      <td>NP/OP Swab</td>\n",
              "      <td>3/19/2020</td>\n",
              "      <td>Not reported</td>\n",
              "      <td>3/26/2020</td>\n",
              "      <td>4/11/2020</td>\n",
              "      <td>F</td>\n",
              "      <td>10037</td>\n",
              "      <td>COVID-19 virus detected (Principal Hospital Pr...</td>\n",
              "      <td>1</td>\n",
              "      <td>2</td>\n",
              "      <td>1</td>\n",
              "      <td>1</td>\n",
              "    </tr>\n",
              "  </tbody>\n",
              "</table>\n",
              "</div>"
            ],
            "text/plain": [
              "                 facility  admit_date     month  ...  sum_cases month_id  value_id\n",
              "0  HARLEM HOSPITAL CENTER  12/22/2018  December  ...          1       12         1\n",
              "1  HARLEM HOSPITAL CENTER  11/13/2019  November  ...          1       11         1\n",
              "2  HARLEM HOSPITAL CENTER   1/21/2020   January  ...          2        1         1\n",
              "\n",
              "[3 rows x 31 columns]"
            ]
          },
          "metadata": {
            "tags": []
          },
          "execution_count": 269
        }
      ]
    },
    {
      "cell_type": "code",
      "metadata": {
        "id": "hQX3lrBageXz",
        "colab_type": "code",
        "colab": {}
      },
      "source": [
        "# Copying \"gender\" column\n",
        "ha_df['gender_id'] = ha_df['gender']"
      ],
      "execution_count": 270,
      "outputs": []
    },
    {
      "cell_type": "code",
      "metadata": {
        "id": "_L3SCyHtgkFd",
        "colab_type": "code",
        "colab": {
          "base_uri": "https://localhost:8080/",
          "height": 315
        },
        "outputId": "49a62d8b-11fc-4043-cb71-cbc79c91a49c"
      },
      "source": [
        "# # Changing string values to integers for plotting purposes\n",
        "ha_df['gender_id'].replace('F', 1, inplace=True)\n",
        "ha_df['gender_id'].replace('M', 2, inplace=True)\n",
        "ha_df.head(3)"
      ],
      "execution_count": 271,
      "outputs": [
        {
          "output_type": "execute_result",
          "data": {
            "text/html": [
              "<div>\n",
              "<style scoped>\n",
              "    .dataframe tbody tr th:only-of-type {\n",
              "        vertical-align: middle;\n",
              "    }\n",
              "\n",
              "    .dataframe tbody tr th {\n",
              "        vertical-align: top;\n",
              "    }\n",
              "\n",
              "    .dataframe thead th {\n",
              "        text-align: right;\n",
              "    }\n",
              "</style>\n",
              "<table border=\"1\" class=\"dataframe\">\n",
              "  <thead>\n",
              "    <tr style=\"text-align: right;\">\n",
              "      <th></th>\n",
              "      <th>facility</th>\n",
              "      <th>admit_date</th>\n",
              "      <th>month</th>\n",
              "      <th>year</th>\n",
              "      <th>encounter_dept</th>\n",
              "      <th>dept_id</th>\n",
              "      <th>encounter_type</th>\n",
              "      <th>encounter_type_id</th>\n",
              "      <th>admit_status</th>\n",
              "      <th>admit_status_id</th>\n",
              "      <th>service</th>\n",
              "      <th>service_id</th>\n",
              "      <th>mrn</th>\n",
              "      <th>age</th>\n",
              "      <th>component</th>\n",
              "      <th>procedure</th>\n",
              "      <th>lab_id</th>\n",
              "      <th>infection_status</th>\n",
              "      <th>value</th>\n",
              "      <th>specimen_type</th>\n",
              "      <th>collected_date</th>\n",
              "      <th>isolation_status</th>\n",
              "      <th>result_date</th>\n",
              "      <th>discharge_date</th>\n",
              "      <th>gender</th>\n",
              "      <th>zip_code</th>\n",
              "      <th>primary_problem</th>\n",
              "      <th>visit_count</th>\n",
              "      <th>sum_cases</th>\n",
              "      <th>month_id</th>\n",
              "      <th>value_id</th>\n",
              "      <th>gender_id</th>\n",
              "    </tr>\n",
              "  </thead>\n",
              "  <tbody>\n",
              "    <tr>\n",
              "      <th>0</th>\n",
              "      <td>HARLEM HOSPITAL CENTER</td>\n",
              "      <td>12/22/2018</td>\n",
              "      <td>December</td>\n",
              "      <td>2018</td>\n",
              "      <td>HA IP 11SU</td>\n",
              "      <td>1012007020</td>\n",
              "      <td>Discharged</td>\n",
              "      <td>300</td>\n",
              "      <td>No</td>\n",
              "      <td>0</td>\n",
              "      <td>Medicine</td>\n",
              "      <td>122</td>\n",
              "      <td>1</td>\n",
              "      <td>83.0</td>\n",
              "      <td>SCANNED REPORT\\r\\nCOVID-19 BIOREFERENCE LAB</td>\n",
              "      <td>BIOREFERENCE COVID-19 PCR(SO) [LABC1925]</td>\n",
              "      <td>LABC1925</td>\n",
              "      <td>COVID-19 (confirmed)</td>\n",
              "      <td>Positive</td>\n",
              "      <td>Nasopharyngeal</td>\n",
              "      <td>4/6/2020</td>\n",
              "      <td>Not reported</td>\n",
              "      <td>4/15/2020</td>\n",
              "      <td>4/10/2020</td>\n",
              "      <td>F</td>\n",
              "      <td>10026</td>\n",
              "      <td>Atrial flutter (HCC) (Additional Hospital Prob...</td>\n",
              "      <td>1</td>\n",
              "      <td>1</td>\n",
              "      <td>12</td>\n",
              "      <td>1</td>\n",
              "      <td>1</td>\n",
              "    </tr>\n",
              "    <tr>\n",
              "      <th>1</th>\n",
              "      <td>HARLEM HOSPITAL CENTER</td>\n",
              "      <td>11/13/2019</td>\n",
              "      <td>November</td>\n",
              "      <td>2019</td>\n",
              "      <td>HA IP 13MD</td>\n",
              "      <td>1012007040</td>\n",
              "      <td>Discharged</td>\n",
              "      <td>300</td>\n",
              "      <td>No</td>\n",
              "      <td>0</td>\n",
              "      <td>Medicine</td>\n",
              "      <td>122</td>\n",
              "      <td>2</td>\n",
              "      <td>81.0</td>\n",
              "      <td>SCANNED REPORT\\r\\nCOVID-19 BIOREFERENCE LAB</td>\n",
              "      <td>BIOREFERENCE COVID-19 PCR(SO) [LABC1925]</td>\n",
              "      <td>LABC1925</td>\n",
              "      <td>COVID-19 (confirmed)</td>\n",
              "      <td>Positive</td>\n",
              "      <td>Nasopharyngeal</td>\n",
              "      <td>3/23/2020</td>\n",
              "      <td>Not reported</td>\n",
              "      <td>3/30/2020</td>\n",
              "      <td>4/25/2020</td>\n",
              "      <td>M</td>\n",
              "      <td>10031</td>\n",
              "      <td>COVID-19 virus detected (Principal Hospital Pr...</td>\n",
              "      <td>1</td>\n",
              "      <td>1</td>\n",
              "      <td>11</td>\n",
              "      <td>1</td>\n",
              "      <td>2</td>\n",
              "    </tr>\n",
              "    <tr>\n",
              "      <th>2</th>\n",
              "      <td>HARLEM HOSPITAL CENTER</td>\n",
              "      <td>1/21/2020</td>\n",
              "      <td>January</td>\n",
              "      <td>2020</td>\n",
              "      <td>HA IP 13MD</td>\n",
              "      <td>1012007040</td>\n",
              "      <td>Discharged</td>\n",
              "      <td>300</td>\n",
              "      <td>No</td>\n",
              "      <td>0</td>\n",
              "      <td>Medicine</td>\n",
              "      <td>122</td>\n",
              "      <td>3</td>\n",
              "      <td>84.0</td>\n",
              "      <td>NOVEL CORONAVIRUS (COVID-19)</td>\n",
              "      <td>LABCORP COVID-19 TEST (SEND OUT) [LABC1923]</td>\n",
              "      <td>LABC1923</td>\n",
              "      <td>COVID-19 (confirmed)</td>\n",
              "      <td>Positive</td>\n",
              "      <td>NP/OP Swab</td>\n",
              "      <td>3/19/2020</td>\n",
              "      <td>Not reported</td>\n",
              "      <td>3/26/2020</td>\n",
              "      <td>4/11/2020</td>\n",
              "      <td>F</td>\n",
              "      <td>10037</td>\n",
              "      <td>COVID-19 virus detected (Principal Hospital Pr...</td>\n",
              "      <td>1</td>\n",
              "      <td>2</td>\n",
              "      <td>1</td>\n",
              "      <td>1</td>\n",
              "      <td>1</td>\n",
              "    </tr>\n",
              "  </tbody>\n",
              "</table>\n",
              "</div>"
            ],
            "text/plain": [
              "                 facility  admit_date     month  ...  month_id value_id  gender_id\n",
              "0  HARLEM HOSPITAL CENTER  12/22/2018  December  ...        12        1          1\n",
              "1  HARLEM HOSPITAL CENTER  11/13/2019  November  ...        11        1          2\n",
              "2  HARLEM HOSPITAL CENTER   1/21/2020   January  ...         1        1          1\n",
              "\n",
              "[3 rows x 32 columns]"
            ]
          },
          "metadata": {
            "tags": []
          },
          "execution_count": 271
        }
      ]
    },
    {
      "cell_type": "code",
      "metadata": {
        "id": "ZVgIwzgwbS7c",
        "colab_type": "code",
        "colab": {}
      },
      "source": [
        "# Change data type to date/time\n",
        "ha_df['admit_date'] = pd.to_datetime(ha_df['admit_date'])"
      ],
      "execution_count": 272,
      "outputs": []
    },
    {
      "cell_type": "code",
      "metadata": {
        "id": "vsL8-aPrbeZG",
        "colab_type": "code",
        "colab": {}
      },
      "source": [
        "# Change data type to date/time\n",
        "ha_df['discharge_date'] = pd.to_datetime(ha_df['discharge_date'])"
      ],
      "execution_count": 273,
      "outputs": []
    },
    {
      "cell_type": "code",
      "metadata": {
        "id": "BEJAADiUbegr",
        "colab_type": "code",
        "colab": {}
      },
      "source": [
        "# Change data type to date/time\n",
        "ha_df['collected_date'] = pd.to_datetime(ha_df['collected_date'])"
      ],
      "execution_count": 274,
      "outputs": []
    },
    {
      "cell_type": "code",
      "metadata": {
        "id": "kC7ifh6lbeLa",
        "colab_type": "code",
        "colab": {}
      },
      "source": [
        "# Change data type to date/time\n",
        "ha_df['result_date'] = pd.to_datetime(ha_df['result_date'])"
      ],
      "execution_count": 275,
      "outputs": []
    },
    {
      "cell_type": "code",
      "metadata": {
        "id": "D5TJEgKtcnO7",
        "colab_type": "code",
        "colab": {
          "base_uri": "https://localhost:8080/",
          "height": 85
        },
        "outputId": "46b78de4-6c4e-4765-9bb5-fc90733e564e"
      },
      "source": [
        "pd.DatetimeIndex(ha_df['admit_date']).month"
      ],
      "execution_count": 276,
      "outputs": [
        {
          "output_type": "execute_result",
          "data": {
            "text/plain": [
              "Int64Index([12, 11,  1,  1,  2,  2,  2,  3,  3,  3,\n",
              "            ...\n",
              "             7,  7,  7,  7,  7,  7,  8,  8,  8,  3],\n",
              "           dtype='int64', name='admit_date', length=839)"
            ]
          },
          "metadata": {
            "tags": []
          },
          "execution_count": 276
        }
      ]
    },
    {
      "cell_type": "code",
      "metadata": {
        "id": "IMq4vOGFdAOC",
        "colab_type": "code",
        "colab": {
          "base_uri": "https://localhost:8080/",
          "height": 578
        },
        "outputId": "db0b0052-db48-4d10-cfec-fd62d841b441"
      },
      "source": [
        "# Check changes made\n",
        "ha_df.dtypes"
      ],
      "execution_count": 277,
      "outputs": [
        {
          "output_type": "execute_result",
          "data": {
            "text/plain": [
              "facility                     object\n",
              "admit_date           datetime64[ns]\n",
              "month                        object\n",
              "year                          int64\n",
              "encounter_dept               object\n",
              "dept_id                       int64\n",
              "encounter_type               object\n",
              "encounter_type_id             int64\n",
              "admit_status                 object\n",
              "admit_status_id               int64\n",
              "service                      object\n",
              "service_id                    int64\n",
              "mrn                           int64\n",
              "age                         float64\n",
              "component                    object\n",
              "procedure                    object\n",
              "lab_id                       object\n",
              "infection_status             object\n",
              "value                        object\n",
              "specimen_type                object\n",
              "collected_date       datetime64[ns]\n",
              "isolation_status             object\n",
              "result_date          datetime64[ns]\n",
              "discharge_date       datetime64[ns]\n",
              "gender                       object\n",
              "zip_code                      int64\n",
              "primary_problem              object\n",
              "visit_count                   int64\n",
              "sum_cases                     int64\n",
              "month_id                      int64\n",
              "value_id                      int64\n",
              "gender_id                     int64\n",
              "dtype: object"
            ]
          },
          "metadata": {
            "tags": []
          },
          "execution_count": 277
        }
      ]
    },
    {
      "cell_type": "code",
      "metadata": {
        "id": "WvZaoW1va9Y4",
        "colab_type": "code",
        "colab": {}
      },
      "source": [
        "# Sort columns in desired order\n",
        "ha_df = ha_df[['facility', 'sum_cases', 'visit_count', 'mrn', 'age', 'gender', 'gender_id','zip_code', 'primary_problem', \n",
        "               'isolation_status', 'admit_status','admit_status_id', 'service', \n",
        "              'service_id', 'admit_date', 'month', 'month_id', 'year', 'discharge_date', \n",
        "               'encounter_dept', 'dept_id', 'encounter_type', \n",
        "              'encounter_type_id', 'component ', 'procedure', 'lab_id', 'infection_status', 'value', 'value_id', \n",
        "              'specimen_type', 'collected_date', 'result_date']]"
      ],
      "execution_count": 278,
      "outputs": []
    },
    {
      "cell_type": "code",
      "metadata": {
        "id": "7JqaemUAgQKt",
        "colab_type": "code",
        "colab": {}
      },
      "source": [
        "cols = list(ha_df.columns.values)"
      ],
      "execution_count": 279,
      "outputs": []
    },
    {
      "cell_type": "code",
      "metadata": {
        "id": "wSNOr9sw60Hf",
        "colab_type": "code",
        "colab": {
          "base_uri": "https://localhost:8080/",
          "height": 233
        },
        "outputId": "3992143a-2ac3-4b8c-d0c9-057fb53bf1d9"
      },
      "source": [
        "# Checked sorted columns\n",
        "ha_df.head(2)"
      ],
      "execution_count": 280,
      "outputs": [
        {
          "output_type": "execute_result",
          "data": {
            "text/html": [
              "<div>\n",
              "<style scoped>\n",
              "    .dataframe tbody tr th:only-of-type {\n",
              "        vertical-align: middle;\n",
              "    }\n",
              "\n",
              "    .dataframe tbody tr th {\n",
              "        vertical-align: top;\n",
              "    }\n",
              "\n",
              "    .dataframe thead th {\n",
              "        text-align: right;\n",
              "    }\n",
              "</style>\n",
              "<table border=\"1\" class=\"dataframe\">\n",
              "  <thead>\n",
              "    <tr style=\"text-align: right;\">\n",
              "      <th></th>\n",
              "      <th>facility</th>\n",
              "      <th>sum_cases</th>\n",
              "      <th>visit_count</th>\n",
              "      <th>mrn</th>\n",
              "      <th>age</th>\n",
              "      <th>gender</th>\n",
              "      <th>gender_id</th>\n",
              "      <th>zip_code</th>\n",
              "      <th>primary_problem</th>\n",
              "      <th>isolation_status</th>\n",
              "      <th>admit_status</th>\n",
              "      <th>admit_status_id</th>\n",
              "      <th>service</th>\n",
              "      <th>service_id</th>\n",
              "      <th>admit_date</th>\n",
              "      <th>month</th>\n",
              "      <th>month_id</th>\n",
              "      <th>year</th>\n",
              "      <th>discharge_date</th>\n",
              "      <th>encounter_dept</th>\n",
              "      <th>dept_id</th>\n",
              "      <th>encounter_type</th>\n",
              "      <th>encounter_type_id</th>\n",
              "      <th>component</th>\n",
              "      <th>procedure</th>\n",
              "      <th>lab_id</th>\n",
              "      <th>infection_status</th>\n",
              "      <th>value</th>\n",
              "      <th>value_id</th>\n",
              "      <th>specimen_type</th>\n",
              "      <th>collected_date</th>\n",
              "      <th>result_date</th>\n",
              "    </tr>\n",
              "  </thead>\n",
              "  <tbody>\n",
              "    <tr>\n",
              "      <th>0</th>\n",
              "      <td>HARLEM HOSPITAL CENTER</td>\n",
              "      <td>1</td>\n",
              "      <td>1</td>\n",
              "      <td>1</td>\n",
              "      <td>83.0</td>\n",
              "      <td>F</td>\n",
              "      <td>1</td>\n",
              "      <td>10026</td>\n",
              "      <td>Atrial flutter (HCC) (Additional Hospital Prob...</td>\n",
              "      <td>Not reported</td>\n",
              "      <td>No</td>\n",
              "      <td>0</td>\n",
              "      <td>Medicine</td>\n",
              "      <td>122</td>\n",
              "      <td>2018-12-22</td>\n",
              "      <td>December</td>\n",
              "      <td>12</td>\n",
              "      <td>2018</td>\n",
              "      <td>2020-04-10</td>\n",
              "      <td>HA IP 11SU</td>\n",
              "      <td>1012007020</td>\n",
              "      <td>Discharged</td>\n",
              "      <td>300</td>\n",
              "      <td>SCANNED REPORT\\r\\nCOVID-19 BIOREFERENCE LAB</td>\n",
              "      <td>BIOREFERENCE COVID-19 PCR(SO) [LABC1925]</td>\n",
              "      <td>LABC1925</td>\n",
              "      <td>COVID-19 (confirmed)</td>\n",
              "      <td>Positive</td>\n",
              "      <td>1</td>\n",
              "      <td>Nasopharyngeal</td>\n",
              "      <td>2020-04-06</td>\n",
              "      <td>2020-04-15</td>\n",
              "    </tr>\n",
              "    <tr>\n",
              "      <th>1</th>\n",
              "      <td>HARLEM HOSPITAL CENTER</td>\n",
              "      <td>1</td>\n",
              "      <td>1</td>\n",
              "      <td>2</td>\n",
              "      <td>81.0</td>\n",
              "      <td>M</td>\n",
              "      <td>2</td>\n",
              "      <td>10031</td>\n",
              "      <td>COVID-19 virus detected (Principal Hospital Pr...</td>\n",
              "      <td>Not reported</td>\n",
              "      <td>No</td>\n",
              "      <td>0</td>\n",
              "      <td>Medicine</td>\n",
              "      <td>122</td>\n",
              "      <td>2019-11-13</td>\n",
              "      <td>November</td>\n",
              "      <td>11</td>\n",
              "      <td>2019</td>\n",
              "      <td>2020-04-25</td>\n",
              "      <td>HA IP 13MD</td>\n",
              "      <td>1012007040</td>\n",
              "      <td>Discharged</td>\n",
              "      <td>300</td>\n",
              "      <td>SCANNED REPORT\\r\\nCOVID-19 BIOREFERENCE LAB</td>\n",
              "      <td>BIOREFERENCE COVID-19 PCR(SO) [LABC1925]</td>\n",
              "      <td>LABC1925</td>\n",
              "      <td>COVID-19 (confirmed)</td>\n",
              "      <td>Positive</td>\n",
              "      <td>1</td>\n",
              "      <td>Nasopharyngeal</td>\n",
              "      <td>2020-03-23</td>\n",
              "      <td>2020-03-30</td>\n",
              "    </tr>\n",
              "  </tbody>\n",
              "</table>\n",
              "</div>"
            ],
            "text/plain": [
              "                 facility  sum_cases  ...  collected_date  result_date\n",
              "0  HARLEM HOSPITAL CENTER          1  ...      2020-04-06   2020-04-15\n",
              "1  HARLEM HOSPITAL CENTER          1  ...      2020-03-23   2020-03-30\n",
              "\n",
              "[2 rows x 32 columns]"
            ]
          },
          "metadata": {
            "tags": []
          },
          "execution_count": 280
        }
      ]
    },
    {
      "cell_type": "code",
      "metadata": {
        "id": "MHs8Ee4M-juB",
        "colab_type": "code",
        "colab": {
          "base_uri": "https://localhost:8080/",
          "height": 315
        },
        "outputId": "f69e96cf-19b8-43cf-ae58-b7dbbdbaaa81"
      },
      "source": [
        "# Data sorted by column \"admit date\"\n",
        "ha_df.sort_values(['year','admit_date'], ascending=(True,True))\n",
        "ha_df.head(3)"
      ],
      "execution_count": 281,
      "outputs": [
        {
          "output_type": "execute_result",
          "data": {
            "text/html": [
              "<div>\n",
              "<style scoped>\n",
              "    .dataframe tbody tr th:only-of-type {\n",
              "        vertical-align: middle;\n",
              "    }\n",
              "\n",
              "    .dataframe tbody tr th {\n",
              "        vertical-align: top;\n",
              "    }\n",
              "\n",
              "    .dataframe thead th {\n",
              "        text-align: right;\n",
              "    }\n",
              "</style>\n",
              "<table border=\"1\" class=\"dataframe\">\n",
              "  <thead>\n",
              "    <tr style=\"text-align: right;\">\n",
              "      <th></th>\n",
              "      <th>facility</th>\n",
              "      <th>sum_cases</th>\n",
              "      <th>visit_count</th>\n",
              "      <th>mrn</th>\n",
              "      <th>age</th>\n",
              "      <th>gender</th>\n",
              "      <th>gender_id</th>\n",
              "      <th>zip_code</th>\n",
              "      <th>primary_problem</th>\n",
              "      <th>isolation_status</th>\n",
              "      <th>admit_status</th>\n",
              "      <th>admit_status_id</th>\n",
              "      <th>service</th>\n",
              "      <th>service_id</th>\n",
              "      <th>admit_date</th>\n",
              "      <th>month</th>\n",
              "      <th>month_id</th>\n",
              "      <th>year</th>\n",
              "      <th>discharge_date</th>\n",
              "      <th>encounter_dept</th>\n",
              "      <th>dept_id</th>\n",
              "      <th>encounter_type</th>\n",
              "      <th>encounter_type_id</th>\n",
              "      <th>component</th>\n",
              "      <th>procedure</th>\n",
              "      <th>lab_id</th>\n",
              "      <th>infection_status</th>\n",
              "      <th>value</th>\n",
              "      <th>value_id</th>\n",
              "      <th>specimen_type</th>\n",
              "      <th>collected_date</th>\n",
              "      <th>result_date</th>\n",
              "    </tr>\n",
              "  </thead>\n",
              "  <tbody>\n",
              "    <tr>\n",
              "      <th>0</th>\n",
              "      <td>HARLEM HOSPITAL CENTER</td>\n",
              "      <td>1</td>\n",
              "      <td>1</td>\n",
              "      <td>1</td>\n",
              "      <td>83.0</td>\n",
              "      <td>F</td>\n",
              "      <td>1</td>\n",
              "      <td>10026</td>\n",
              "      <td>Atrial flutter (HCC) (Additional Hospital Prob...</td>\n",
              "      <td>Not reported</td>\n",
              "      <td>No</td>\n",
              "      <td>0</td>\n",
              "      <td>Medicine</td>\n",
              "      <td>122</td>\n",
              "      <td>2018-12-22</td>\n",
              "      <td>December</td>\n",
              "      <td>12</td>\n",
              "      <td>2018</td>\n",
              "      <td>2020-04-10</td>\n",
              "      <td>HA IP 11SU</td>\n",
              "      <td>1012007020</td>\n",
              "      <td>Discharged</td>\n",
              "      <td>300</td>\n",
              "      <td>SCANNED REPORT\\r\\nCOVID-19 BIOREFERENCE LAB</td>\n",
              "      <td>BIOREFERENCE COVID-19 PCR(SO) [LABC1925]</td>\n",
              "      <td>LABC1925</td>\n",
              "      <td>COVID-19 (confirmed)</td>\n",
              "      <td>Positive</td>\n",
              "      <td>1</td>\n",
              "      <td>Nasopharyngeal</td>\n",
              "      <td>2020-04-06</td>\n",
              "      <td>2020-04-15</td>\n",
              "    </tr>\n",
              "    <tr>\n",
              "      <th>1</th>\n",
              "      <td>HARLEM HOSPITAL CENTER</td>\n",
              "      <td>1</td>\n",
              "      <td>1</td>\n",
              "      <td>2</td>\n",
              "      <td>81.0</td>\n",
              "      <td>M</td>\n",
              "      <td>2</td>\n",
              "      <td>10031</td>\n",
              "      <td>COVID-19 virus detected (Principal Hospital Pr...</td>\n",
              "      <td>Not reported</td>\n",
              "      <td>No</td>\n",
              "      <td>0</td>\n",
              "      <td>Medicine</td>\n",
              "      <td>122</td>\n",
              "      <td>2019-11-13</td>\n",
              "      <td>November</td>\n",
              "      <td>11</td>\n",
              "      <td>2019</td>\n",
              "      <td>2020-04-25</td>\n",
              "      <td>HA IP 13MD</td>\n",
              "      <td>1012007040</td>\n",
              "      <td>Discharged</td>\n",
              "      <td>300</td>\n",
              "      <td>SCANNED REPORT\\r\\nCOVID-19 BIOREFERENCE LAB</td>\n",
              "      <td>BIOREFERENCE COVID-19 PCR(SO) [LABC1925]</td>\n",
              "      <td>LABC1925</td>\n",
              "      <td>COVID-19 (confirmed)</td>\n",
              "      <td>Positive</td>\n",
              "      <td>1</td>\n",
              "      <td>Nasopharyngeal</td>\n",
              "      <td>2020-03-23</td>\n",
              "      <td>2020-03-30</td>\n",
              "    </tr>\n",
              "    <tr>\n",
              "      <th>2</th>\n",
              "      <td>HARLEM HOSPITAL CENTER</td>\n",
              "      <td>2</td>\n",
              "      <td>1</td>\n",
              "      <td>3</td>\n",
              "      <td>84.0</td>\n",
              "      <td>F</td>\n",
              "      <td>1</td>\n",
              "      <td>10037</td>\n",
              "      <td>COVID-19 virus detected (Principal Hospital Pr...</td>\n",
              "      <td>Not reported</td>\n",
              "      <td>No</td>\n",
              "      <td>0</td>\n",
              "      <td>Medicine</td>\n",
              "      <td>122</td>\n",
              "      <td>2020-01-21</td>\n",
              "      <td>January</td>\n",
              "      <td>1</td>\n",
              "      <td>2020</td>\n",
              "      <td>2020-04-11</td>\n",
              "      <td>HA IP 13MD</td>\n",
              "      <td>1012007040</td>\n",
              "      <td>Discharged</td>\n",
              "      <td>300</td>\n",
              "      <td>NOVEL CORONAVIRUS (COVID-19)</td>\n",
              "      <td>LABCORP COVID-19 TEST (SEND OUT) [LABC1923]</td>\n",
              "      <td>LABC1923</td>\n",
              "      <td>COVID-19 (confirmed)</td>\n",
              "      <td>Positive</td>\n",
              "      <td>1</td>\n",
              "      <td>NP/OP Swab</td>\n",
              "      <td>2020-03-19</td>\n",
              "      <td>2020-03-26</td>\n",
              "    </tr>\n",
              "  </tbody>\n",
              "</table>\n",
              "</div>"
            ],
            "text/plain": [
              "                 facility  sum_cases  ...  collected_date  result_date\n",
              "0  HARLEM HOSPITAL CENTER          1  ...      2020-04-06   2020-04-15\n",
              "1  HARLEM HOSPITAL CENTER          1  ...      2020-03-23   2020-03-30\n",
              "2  HARLEM HOSPITAL CENTER          2  ...      2020-03-19   2020-03-26\n",
              "\n",
              "[3 rows x 32 columns]"
            ]
          },
          "metadata": {
            "tags": []
          },
          "execution_count": 281
        }
      ]
    },
    {
      "cell_type": "code",
      "metadata": {
        "id": "qh7-jn_Tbcu0",
        "colab_type": "code",
        "colab": {
          "base_uri": "https://localhost:8080/",
          "height": 34
        },
        "outputId": "74ad9f26-a020-49e0-d9b9-a0e1fc3e428b"
      },
      "source": [
        "# Determining unique value for column \"value\"\n",
        "ha_df['value'].unique()"
      ],
      "execution_count": 282,
      "outputs": [
        {
          "output_type": "execute_result",
          "data": {
            "text/plain": [
              "array(['Positive', 'Inconclusive'], dtype=object)"
            ]
          },
          "metadata": {
            "tags": []
          },
          "execution_count": 282
        }
      ]
    },
    {
      "cell_type": "code",
      "metadata": {
        "id": "p_hlmgJE-5w_",
        "colab_type": "code",
        "colab": {
          "base_uri": "https://localhost:8080/",
          "height": 51
        },
        "outputId": "9b69b037-7400-4bdf-bec1-3f6dabd0145e"
      },
      "source": [
        "# Determining unique values for column \"specimen_type\"\n",
        "ha_df.specimen_type.unique()"
      ],
      "execution_count": 283,
      "outputs": [
        {
          "output_type": "execute_result",
          "data": {
            "text/plain": [
              "array(['Nasopharyngeal', 'NP/OP Swab', 'Nasopharyngeal Swab',\n",
              "       'Anterior Nares'], dtype=object)"
            ]
          },
          "metadata": {
            "tags": []
          },
          "execution_count": 283
        }
      ]
    },
    {
      "cell_type": "code",
      "metadata": {
        "id": "8hFtTval_W3p",
        "colab_type": "code",
        "colab": {}
      },
      "source": [
        "# Determining unique value for column \"primary_problem\"\n",
        "ha_df.primary_problem.unique()"
      ],
      "execution_count": null,
      "outputs": []
    },
    {
      "cell_type": "code",
      "metadata": {
        "id": "T1z-2hGc_m5b",
        "colab_type": "code",
        "colab": {
          "base_uri": "https://localhost:8080/",
          "height": 34
        },
        "outputId": "6229b9b8-0bb9-4c82-a541-57e8a035a963"
      },
      "source": [
        "# Determining unique value for column \"primary_problem\"\n",
        "ha_df.infection_status.unique()"
      ],
      "execution_count": 285,
      "outputs": [
        {
          "output_type": "execute_result",
          "data": {
            "text/plain": [
              "array(['COVID-19 (confirmed)', 'Inconclusive'], dtype=object)"
            ]
          },
          "metadata": {
            "tags": []
          },
          "execution_count": 285
        }
      ]
    },
    {
      "cell_type": "markdown",
      "metadata": {
        "id": "q8N7r9dMiDM0",
        "colab_type": "text"
      },
      "source": [
        "# **DATA ANALYSIS - Part 1**"
      ]
    },
    {
      "cell_type": "code",
      "metadata": {
        "id": "PD36MOsFD0Kj",
        "colab_type": "code",
        "colab": {
          "base_uri": "https://localhost:8080/",
          "height": 315
        },
        "outputId": "cd658bd6-4df5-4d99-da15-c0273a45e423"
      },
      "source": [
        "# Determining length of stay (LOS) for positive patients in Harlem\n",
        "ha_df['los'] = ha_df['discharge_date'] - ha_df['admit_date']\n",
        "ha_df.head(3)"
      ],
      "execution_count": 286,
      "outputs": [
        {
          "output_type": "execute_result",
          "data": {
            "text/html": [
              "<div>\n",
              "<style scoped>\n",
              "    .dataframe tbody tr th:only-of-type {\n",
              "        vertical-align: middle;\n",
              "    }\n",
              "\n",
              "    .dataframe tbody tr th {\n",
              "        vertical-align: top;\n",
              "    }\n",
              "\n",
              "    .dataframe thead th {\n",
              "        text-align: right;\n",
              "    }\n",
              "</style>\n",
              "<table border=\"1\" class=\"dataframe\">\n",
              "  <thead>\n",
              "    <tr style=\"text-align: right;\">\n",
              "      <th></th>\n",
              "      <th>facility</th>\n",
              "      <th>sum_cases</th>\n",
              "      <th>visit_count</th>\n",
              "      <th>mrn</th>\n",
              "      <th>age</th>\n",
              "      <th>gender</th>\n",
              "      <th>gender_id</th>\n",
              "      <th>zip_code</th>\n",
              "      <th>primary_problem</th>\n",
              "      <th>isolation_status</th>\n",
              "      <th>admit_status</th>\n",
              "      <th>admit_status_id</th>\n",
              "      <th>service</th>\n",
              "      <th>service_id</th>\n",
              "      <th>admit_date</th>\n",
              "      <th>month</th>\n",
              "      <th>month_id</th>\n",
              "      <th>year</th>\n",
              "      <th>discharge_date</th>\n",
              "      <th>encounter_dept</th>\n",
              "      <th>dept_id</th>\n",
              "      <th>encounter_type</th>\n",
              "      <th>encounter_type_id</th>\n",
              "      <th>component</th>\n",
              "      <th>procedure</th>\n",
              "      <th>lab_id</th>\n",
              "      <th>infection_status</th>\n",
              "      <th>value</th>\n",
              "      <th>value_id</th>\n",
              "      <th>specimen_type</th>\n",
              "      <th>collected_date</th>\n",
              "      <th>result_date</th>\n",
              "      <th>los</th>\n",
              "    </tr>\n",
              "  </thead>\n",
              "  <tbody>\n",
              "    <tr>\n",
              "      <th>0</th>\n",
              "      <td>HARLEM HOSPITAL CENTER</td>\n",
              "      <td>1</td>\n",
              "      <td>1</td>\n",
              "      <td>1</td>\n",
              "      <td>83.0</td>\n",
              "      <td>F</td>\n",
              "      <td>1</td>\n",
              "      <td>10026</td>\n",
              "      <td>Atrial flutter (HCC) (Additional Hospital Prob...</td>\n",
              "      <td>Not reported</td>\n",
              "      <td>No</td>\n",
              "      <td>0</td>\n",
              "      <td>Medicine</td>\n",
              "      <td>122</td>\n",
              "      <td>2018-12-22</td>\n",
              "      <td>December</td>\n",
              "      <td>12</td>\n",
              "      <td>2018</td>\n",
              "      <td>2020-04-10</td>\n",
              "      <td>HA IP 11SU</td>\n",
              "      <td>1012007020</td>\n",
              "      <td>Discharged</td>\n",
              "      <td>300</td>\n",
              "      <td>SCANNED REPORT\\r\\nCOVID-19 BIOREFERENCE LAB</td>\n",
              "      <td>BIOREFERENCE COVID-19 PCR(SO) [LABC1925]</td>\n",
              "      <td>LABC1925</td>\n",
              "      <td>COVID-19 (confirmed)</td>\n",
              "      <td>Positive</td>\n",
              "      <td>1</td>\n",
              "      <td>Nasopharyngeal</td>\n",
              "      <td>2020-04-06</td>\n",
              "      <td>2020-04-15</td>\n",
              "      <td>475 days</td>\n",
              "    </tr>\n",
              "    <tr>\n",
              "      <th>1</th>\n",
              "      <td>HARLEM HOSPITAL CENTER</td>\n",
              "      <td>1</td>\n",
              "      <td>1</td>\n",
              "      <td>2</td>\n",
              "      <td>81.0</td>\n",
              "      <td>M</td>\n",
              "      <td>2</td>\n",
              "      <td>10031</td>\n",
              "      <td>COVID-19 virus detected (Principal Hospital Pr...</td>\n",
              "      <td>Not reported</td>\n",
              "      <td>No</td>\n",
              "      <td>0</td>\n",
              "      <td>Medicine</td>\n",
              "      <td>122</td>\n",
              "      <td>2019-11-13</td>\n",
              "      <td>November</td>\n",
              "      <td>11</td>\n",
              "      <td>2019</td>\n",
              "      <td>2020-04-25</td>\n",
              "      <td>HA IP 13MD</td>\n",
              "      <td>1012007040</td>\n",
              "      <td>Discharged</td>\n",
              "      <td>300</td>\n",
              "      <td>SCANNED REPORT\\r\\nCOVID-19 BIOREFERENCE LAB</td>\n",
              "      <td>BIOREFERENCE COVID-19 PCR(SO) [LABC1925]</td>\n",
              "      <td>LABC1925</td>\n",
              "      <td>COVID-19 (confirmed)</td>\n",
              "      <td>Positive</td>\n",
              "      <td>1</td>\n",
              "      <td>Nasopharyngeal</td>\n",
              "      <td>2020-03-23</td>\n",
              "      <td>2020-03-30</td>\n",
              "      <td>164 days</td>\n",
              "    </tr>\n",
              "    <tr>\n",
              "      <th>2</th>\n",
              "      <td>HARLEM HOSPITAL CENTER</td>\n",
              "      <td>2</td>\n",
              "      <td>1</td>\n",
              "      <td>3</td>\n",
              "      <td>84.0</td>\n",
              "      <td>F</td>\n",
              "      <td>1</td>\n",
              "      <td>10037</td>\n",
              "      <td>COVID-19 virus detected (Principal Hospital Pr...</td>\n",
              "      <td>Not reported</td>\n",
              "      <td>No</td>\n",
              "      <td>0</td>\n",
              "      <td>Medicine</td>\n",
              "      <td>122</td>\n",
              "      <td>2020-01-21</td>\n",
              "      <td>January</td>\n",
              "      <td>1</td>\n",
              "      <td>2020</td>\n",
              "      <td>2020-04-11</td>\n",
              "      <td>HA IP 13MD</td>\n",
              "      <td>1012007040</td>\n",
              "      <td>Discharged</td>\n",
              "      <td>300</td>\n",
              "      <td>NOVEL CORONAVIRUS (COVID-19)</td>\n",
              "      <td>LABCORP COVID-19 TEST (SEND OUT) [LABC1923]</td>\n",
              "      <td>LABC1923</td>\n",
              "      <td>COVID-19 (confirmed)</td>\n",
              "      <td>Positive</td>\n",
              "      <td>1</td>\n",
              "      <td>NP/OP Swab</td>\n",
              "      <td>2020-03-19</td>\n",
              "      <td>2020-03-26</td>\n",
              "      <td>81 days</td>\n",
              "    </tr>\n",
              "  </tbody>\n",
              "</table>\n",
              "</div>"
            ],
            "text/plain": [
              "                 facility  sum_cases  ...  result_date      los\n",
              "0  HARLEM HOSPITAL CENTER          1  ...   2020-04-15 475 days\n",
              "1  HARLEM HOSPITAL CENTER          1  ...   2020-03-30 164 days\n",
              "2  HARLEM HOSPITAL CENTER          2  ...   2020-03-26  81 days\n",
              "\n",
              "[3 rows x 33 columns]"
            ]
          },
          "metadata": {
            "tags": []
          },
          "execution_count": 286
        }
      ]
    },
    {
      "cell_type": "code",
      "metadata": {
        "id": "qcSE4btSPoJv",
        "colab_type": "code",
        "colab": {
          "base_uri": "https://localhost:8080/",
          "height": 315
        },
        "outputId": "9852f1c7-3e2c-4185-812d-72170b536889"
      },
      "source": [
        "ha_df['los_num'] = ha_df.los.apply(lambda x: x.days)\n",
        "ha_df.head(3)"
      ],
      "execution_count": 287,
      "outputs": [
        {
          "output_type": "execute_result",
          "data": {
            "text/html": [
              "<div>\n",
              "<style scoped>\n",
              "    .dataframe tbody tr th:only-of-type {\n",
              "        vertical-align: middle;\n",
              "    }\n",
              "\n",
              "    .dataframe tbody tr th {\n",
              "        vertical-align: top;\n",
              "    }\n",
              "\n",
              "    .dataframe thead th {\n",
              "        text-align: right;\n",
              "    }\n",
              "</style>\n",
              "<table border=\"1\" class=\"dataframe\">\n",
              "  <thead>\n",
              "    <tr style=\"text-align: right;\">\n",
              "      <th></th>\n",
              "      <th>facility</th>\n",
              "      <th>sum_cases</th>\n",
              "      <th>visit_count</th>\n",
              "      <th>mrn</th>\n",
              "      <th>age</th>\n",
              "      <th>gender</th>\n",
              "      <th>gender_id</th>\n",
              "      <th>zip_code</th>\n",
              "      <th>primary_problem</th>\n",
              "      <th>isolation_status</th>\n",
              "      <th>admit_status</th>\n",
              "      <th>admit_status_id</th>\n",
              "      <th>service</th>\n",
              "      <th>service_id</th>\n",
              "      <th>admit_date</th>\n",
              "      <th>month</th>\n",
              "      <th>month_id</th>\n",
              "      <th>year</th>\n",
              "      <th>discharge_date</th>\n",
              "      <th>encounter_dept</th>\n",
              "      <th>dept_id</th>\n",
              "      <th>encounter_type</th>\n",
              "      <th>encounter_type_id</th>\n",
              "      <th>component</th>\n",
              "      <th>procedure</th>\n",
              "      <th>lab_id</th>\n",
              "      <th>infection_status</th>\n",
              "      <th>value</th>\n",
              "      <th>value_id</th>\n",
              "      <th>specimen_type</th>\n",
              "      <th>collected_date</th>\n",
              "      <th>result_date</th>\n",
              "      <th>los</th>\n",
              "      <th>los_num</th>\n",
              "    </tr>\n",
              "  </thead>\n",
              "  <tbody>\n",
              "    <tr>\n",
              "      <th>0</th>\n",
              "      <td>HARLEM HOSPITAL CENTER</td>\n",
              "      <td>1</td>\n",
              "      <td>1</td>\n",
              "      <td>1</td>\n",
              "      <td>83.0</td>\n",
              "      <td>F</td>\n",
              "      <td>1</td>\n",
              "      <td>10026</td>\n",
              "      <td>Atrial flutter (HCC) (Additional Hospital Prob...</td>\n",
              "      <td>Not reported</td>\n",
              "      <td>No</td>\n",
              "      <td>0</td>\n",
              "      <td>Medicine</td>\n",
              "      <td>122</td>\n",
              "      <td>2018-12-22</td>\n",
              "      <td>December</td>\n",
              "      <td>12</td>\n",
              "      <td>2018</td>\n",
              "      <td>2020-04-10</td>\n",
              "      <td>HA IP 11SU</td>\n",
              "      <td>1012007020</td>\n",
              "      <td>Discharged</td>\n",
              "      <td>300</td>\n",
              "      <td>SCANNED REPORT\\r\\nCOVID-19 BIOREFERENCE LAB</td>\n",
              "      <td>BIOREFERENCE COVID-19 PCR(SO) [LABC1925]</td>\n",
              "      <td>LABC1925</td>\n",
              "      <td>COVID-19 (confirmed)</td>\n",
              "      <td>Positive</td>\n",
              "      <td>1</td>\n",
              "      <td>Nasopharyngeal</td>\n",
              "      <td>2020-04-06</td>\n",
              "      <td>2020-04-15</td>\n",
              "      <td>475 days</td>\n",
              "      <td>475.0</td>\n",
              "    </tr>\n",
              "    <tr>\n",
              "      <th>1</th>\n",
              "      <td>HARLEM HOSPITAL CENTER</td>\n",
              "      <td>1</td>\n",
              "      <td>1</td>\n",
              "      <td>2</td>\n",
              "      <td>81.0</td>\n",
              "      <td>M</td>\n",
              "      <td>2</td>\n",
              "      <td>10031</td>\n",
              "      <td>COVID-19 virus detected (Principal Hospital Pr...</td>\n",
              "      <td>Not reported</td>\n",
              "      <td>No</td>\n",
              "      <td>0</td>\n",
              "      <td>Medicine</td>\n",
              "      <td>122</td>\n",
              "      <td>2019-11-13</td>\n",
              "      <td>November</td>\n",
              "      <td>11</td>\n",
              "      <td>2019</td>\n",
              "      <td>2020-04-25</td>\n",
              "      <td>HA IP 13MD</td>\n",
              "      <td>1012007040</td>\n",
              "      <td>Discharged</td>\n",
              "      <td>300</td>\n",
              "      <td>SCANNED REPORT\\r\\nCOVID-19 BIOREFERENCE LAB</td>\n",
              "      <td>BIOREFERENCE COVID-19 PCR(SO) [LABC1925]</td>\n",
              "      <td>LABC1925</td>\n",
              "      <td>COVID-19 (confirmed)</td>\n",
              "      <td>Positive</td>\n",
              "      <td>1</td>\n",
              "      <td>Nasopharyngeal</td>\n",
              "      <td>2020-03-23</td>\n",
              "      <td>2020-03-30</td>\n",
              "      <td>164 days</td>\n",
              "      <td>164.0</td>\n",
              "    </tr>\n",
              "    <tr>\n",
              "      <th>2</th>\n",
              "      <td>HARLEM HOSPITAL CENTER</td>\n",
              "      <td>2</td>\n",
              "      <td>1</td>\n",
              "      <td>3</td>\n",
              "      <td>84.0</td>\n",
              "      <td>F</td>\n",
              "      <td>1</td>\n",
              "      <td>10037</td>\n",
              "      <td>COVID-19 virus detected (Principal Hospital Pr...</td>\n",
              "      <td>Not reported</td>\n",
              "      <td>No</td>\n",
              "      <td>0</td>\n",
              "      <td>Medicine</td>\n",
              "      <td>122</td>\n",
              "      <td>2020-01-21</td>\n",
              "      <td>January</td>\n",
              "      <td>1</td>\n",
              "      <td>2020</td>\n",
              "      <td>2020-04-11</td>\n",
              "      <td>HA IP 13MD</td>\n",
              "      <td>1012007040</td>\n",
              "      <td>Discharged</td>\n",
              "      <td>300</td>\n",
              "      <td>NOVEL CORONAVIRUS (COVID-19)</td>\n",
              "      <td>LABCORP COVID-19 TEST (SEND OUT) [LABC1923]</td>\n",
              "      <td>LABC1923</td>\n",
              "      <td>COVID-19 (confirmed)</td>\n",
              "      <td>Positive</td>\n",
              "      <td>1</td>\n",
              "      <td>NP/OP Swab</td>\n",
              "      <td>2020-03-19</td>\n",
              "      <td>2020-03-26</td>\n",
              "      <td>81 days</td>\n",
              "      <td>81.0</td>\n",
              "    </tr>\n",
              "  </tbody>\n",
              "</table>\n",
              "</div>"
            ],
            "text/plain": [
              "                 facility  sum_cases  visit_count  ...  result_date      los los_num\n",
              "0  HARLEM HOSPITAL CENTER          1            1  ...   2020-04-15 475 days   475.0\n",
              "1  HARLEM HOSPITAL CENTER          1            1  ...   2020-03-30 164 days   164.0\n",
              "2  HARLEM HOSPITAL CENTER          2            1  ...   2020-03-26  81 days    81.0\n",
              "\n",
              "[3 rows x 34 columns]"
            ]
          },
          "metadata": {
            "tags": []
          },
          "execution_count": 287
        }
      ]
    },
    {
      "cell_type": "code",
      "metadata": {
        "id": "7EEUfr17QAgU",
        "colab_type": "code",
        "colab": {
          "base_uri": "https://localhost:8080/",
          "height": 315
        },
        "outputId": "eed933d9-e578-4065-c13b-23e6b92eaca2"
      },
      "source": [
        "ha_df_dis_df = ha_df[ha_df['los_num'].isnull()==False]\n",
        "ha_df_dis_df.head(3)"
      ],
      "execution_count": 288,
      "outputs": [
        {
          "output_type": "execute_result",
          "data": {
            "text/html": [
              "<div>\n",
              "<style scoped>\n",
              "    .dataframe tbody tr th:only-of-type {\n",
              "        vertical-align: middle;\n",
              "    }\n",
              "\n",
              "    .dataframe tbody tr th {\n",
              "        vertical-align: top;\n",
              "    }\n",
              "\n",
              "    .dataframe thead th {\n",
              "        text-align: right;\n",
              "    }\n",
              "</style>\n",
              "<table border=\"1\" class=\"dataframe\">\n",
              "  <thead>\n",
              "    <tr style=\"text-align: right;\">\n",
              "      <th></th>\n",
              "      <th>facility</th>\n",
              "      <th>sum_cases</th>\n",
              "      <th>visit_count</th>\n",
              "      <th>mrn</th>\n",
              "      <th>age</th>\n",
              "      <th>gender</th>\n",
              "      <th>gender_id</th>\n",
              "      <th>zip_code</th>\n",
              "      <th>primary_problem</th>\n",
              "      <th>isolation_status</th>\n",
              "      <th>admit_status</th>\n",
              "      <th>admit_status_id</th>\n",
              "      <th>service</th>\n",
              "      <th>service_id</th>\n",
              "      <th>admit_date</th>\n",
              "      <th>month</th>\n",
              "      <th>month_id</th>\n",
              "      <th>year</th>\n",
              "      <th>discharge_date</th>\n",
              "      <th>encounter_dept</th>\n",
              "      <th>dept_id</th>\n",
              "      <th>encounter_type</th>\n",
              "      <th>encounter_type_id</th>\n",
              "      <th>component</th>\n",
              "      <th>procedure</th>\n",
              "      <th>lab_id</th>\n",
              "      <th>infection_status</th>\n",
              "      <th>value</th>\n",
              "      <th>value_id</th>\n",
              "      <th>specimen_type</th>\n",
              "      <th>collected_date</th>\n",
              "      <th>result_date</th>\n",
              "      <th>los</th>\n",
              "      <th>los_num</th>\n",
              "    </tr>\n",
              "  </thead>\n",
              "  <tbody>\n",
              "    <tr>\n",
              "      <th>0</th>\n",
              "      <td>HARLEM HOSPITAL CENTER</td>\n",
              "      <td>1</td>\n",
              "      <td>1</td>\n",
              "      <td>1</td>\n",
              "      <td>83.0</td>\n",
              "      <td>F</td>\n",
              "      <td>1</td>\n",
              "      <td>10026</td>\n",
              "      <td>Atrial flutter (HCC) (Additional Hospital Prob...</td>\n",
              "      <td>Not reported</td>\n",
              "      <td>No</td>\n",
              "      <td>0</td>\n",
              "      <td>Medicine</td>\n",
              "      <td>122</td>\n",
              "      <td>2018-12-22</td>\n",
              "      <td>December</td>\n",
              "      <td>12</td>\n",
              "      <td>2018</td>\n",
              "      <td>2020-04-10</td>\n",
              "      <td>HA IP 11SU</td>\n",
              "      <td>1012007020</td>\n",
              "      <td>Discharged</td>\n",
              "      <td>300</td>\n",
              "      <td>SCANNED REPORT\\r\\nCOVID-19 BIOREFERENCE LAB</td>\n",
              "      <td>BIOREFERENCE COVID-19 PCR(SO) [LABC1925]</td>\n",
              "      <td>LABC1925</td>\n",
              "      <td>COVID-19 (confirmed)</td>\n",
              "      <td>Positive</td>\n",
              "      <td>1</td>\n",
              "      <td>Nasopharyngeal</td>\n",
              "      <td>2020-04-06</td>\n",
              "      <td>2020-04-15</td>\n",
              "      <td>475 days</td>\n",
              "      <td>475.0</td>\n",
              "    </tr>\n",
              "    <tr>\n",
              "      <th>1</th>\n",
              "      <td>HARLEM HOSPITAL CENTER</td>\n",
              "      <td>1</td>\n",
              "      <td>1</td>\n",
              "      <td>2</td>\n",
              "      <td>81.0</td>\n",
              "      <td>M</td>\n",
              "      <td>2</td>\n",
              "      <td>10031</td>\n",
              "      <td>COVID-19 virus detected (Principal Hospital Pr...</td>\n",
              "      <td>Not reported</td>\n",
              "      <td>No</td>\n",
              "      <td>0</td>\n",
              "      <td>Medicine</td>\n",
              "      <td>122</td>\n",
              "      <td>2019-11-13</td>\n",
              "      <td>November</td>\n",
              "      <td>11</td>\n",
              "      <td>2019</td>\n",
              "      <td>2020-04-25</td>\n",
              "      <td>HA IP 13MD</td>\n",
              "      <td>1012007040</td>\n",
              "      <td>Discharged</td>\n",
              "      <td>300</td>\n",
              "      <td>SCANNED REPORT\\r\\nCOVID-19 BIOREFERENCE LAB</td>\n",
              "      <td>BIOREFERENCE COVID-19 PCR(SO) [LABC1925]</td>\n",
              "      <td>LABC1925</td>\n",
              "      <td>COVID-19 (confirmed)</td>\n",
              "      <td>Positive</td>\n",
              "      <td>1</td>\n",
              "      <td>Nasopharyngeal</td>\n",
              "      <td>2020-03-23</td>\n",
              "      <td>2020-03-30</td>\n",
              "      <td>164 days</td>\n",
              "      <td>164.0</td>\n",
              "    </tr>\n",
              "    <tr>\n",
              "      <th>2</th>\n",
              "      <td>HARLEM HOSPITAL CENTER</td>\n",
              "      <td>2</td>\n",
              "      <td>1</td>\n",
              "      <td>3</td>\n",
              "      <td>84.0</td>\n",
              "      <td>F</td>\n",
              "      <td>1</td>\n",
              "      <td>10037</td>\n",
              "      <td>COVID-19 virus detected (Principal Hospital Pr...</td>\n",
              "      <td>Not reported</td>\n",
              "      <td>No</td>\n",
              "      <td>0</td>\n",
              "      <td>Medicine</td>\n",
              "      <td>122</td>\n",
              "      <td>2020-01-21</td>\n",
              "      <td>January</td>\n",
              "      <td>1</td>\n",
              "      <td>2020</td>\n",
              "      <td>2020-04-11</td>\n",
              "      <td>HA IP 13MD</td>\n",
              "      <td>1012007040</td>\n",
              "      <td>Discharged</td>\n",
              "      <td>300</td>\n",
              "      <td>NOVEL CORONAVIRUS (COVID-19)</td>\n",
              "      <td>LABCORP COVID-19 TEST (SEND OUT) [LABC1923]</td>\n",
              "      <td>LABC1923</td>\n",
              "      <td>COVID-19 (confirmed)</td>\n",
              "      <td>Positive</td>\n",
              "      <td>1</td>\n",
              "      <td>NP/OP Swab</td>\n",
              "      <td>2020-03-19</td>\n",
              "      <td>2020-03-26</td>\n",
              "      <td>81 days</td>\n",
              "      <td>81.0</td>\n",
              "    </tr>\n",
              "  </tbody>\n",
              "</table>\n",
              "</div>"
            ],
            "text/plain": [
              "                 facility  sum_cases  visit_count  ...  result_date      los los_num\n",
              "0  HARLEM HOSPITAL CENTER          1            1  ...   2020-04-15 475 days   475.0\n",
              "1  HARLEM HOSPITAL CENTER          1            1  ...   2020-03-30 164 days   164.0\n",
              "2  HARLEM HOSPITAL CENTER          2            1  ...   2020-03-26  81 days    81.0\n",
              "\n",
              "[3 rows x 34 columns]"
            ]
          },
          "metadata": {
            "tags": []
          },
          "execution_count": 288
        }
      ]
    },
    {
      "cell_type": "code",
      "metadata": {
        "id": "bgTGDC_DQRgR",
        "colab_type": "code",
        "colab": {
          "base_uri": "https://localhost:8080/",
          "height": 34
        },
        "outputId": "e2b44de6-70e9-41fd-f111-64c435a9b28e"
      },
      "source": [
        "ha_df_dis_df.los_num.dtype"
      ],
      "execution_count": 289,
      "outputs": [
        {
          "output_type": "execute_result",
          "data": {
            "text/plain": [
              "dtype('float64')"
            ]
          },
          "metadata": {
            "tags": []
          },
          "execution_count": 289
        }
      ]
    },
    {
      "cell_type": "code",
      "metadata": {
        "id": "F_Xm83TXRJrb",
        "colab_type": "code",
        "colab": {
          "base_uri": "https://localhost:8080/",
          "height": 153
        },
        "outputId": "94197bb6-e86b-4d75-f3f9-a420d704d0c4"
      },
      "source": [
        "ha_df_dis_df['los_num'] = ha_df_dis_df['los_num'].astype(int)"
      ],
      "execution_count": 290,
      "outputs": [
        {
          "output_type": "stream",
          "text": [
            "/usr/local/lib/python3.6/dist-packages/ipykernel_launcher.py:1: SettingWithCopyWarning:\n",
            "\n",
            "\n",
            "A value is trying to be set on a copy of a slice from a DataFrame.\n",
            "Try using .loc[row_indexer,col_indexer] = value instead\n",
            "\n",
            "See the caveats in the documentation: https://pandas.pydata.org/pandas-docs/stable/user_guide/indexing.html#returning-a-view-versus-a-copy\n",
            "\n"
          ],
          "name": "stderr"
        }
      ]
    },
    {
      "cell_type": "code",
      "metadata": {
        "id": "_5BqQo2nQake",
        "colab_type": "code",
        "colab": {
          "base_uri": "https://localhost:8080/",
          "height": 153
        },
        "outputId": "ab0f1ac3-e14b-4720-8608-8f20a30c6d50"
      },
      "source": [
        "ha_df_dis_df['los_num'] = ha_df_dis_df.los_num.apply(lambda x: x+1)"
      ],
      "execution_count": 291,
      "outputs": [
        {
          "output_type": "stream",
          "text": [
            "/usr/local/lib/python3.6/dist-packages/ipykernel_launcher.py:1: SettingWithCopyWarning:\n",
            "\n",
            "\n",
            "A value is trying to be set on a copy of a slice from a DataFrame.\n",
            "Try using .loc[row_indexer,col_indexer] = value instead\n",
            "\n",
            "See the caveats in the documentation: https://pandas.pydata.org/pandas-docs/stable/user_guide/indexing.html#returning-a-view-versus-a-copy\n",
            "\n"
          ],
          "name": "stderr"
        }
      ]
    },
    {
      "cell_type": "code",
      "metadata": {
        "id": "VE1FgTQjQkk2",
        "colab_type": "code",
        "colab": {
          "base_uri": "https://localhost:8080/",
          "height": 34
        },
        "outputId": "cbcb9a04-be09-4270-de6f-7032a10ec406"
      },
      "source": [
        "ha_df_dis_df.los_num.dtype"
      ],
      "execution_count": 292,
      "outputs": [
        {
          "output_type": "execute_result",
          "data": {
            "text/plain": [
              "dtype('int64')"
            ]
          },
          "metadata": {
            "tags": []
          },
          "execution_count": 292
        }
      ]
    },
    {
      "cell_type": "code",
      "metadata": {
        "id": "C2wDFxMlRZtc",
        "colab_type": "code",
        "colab": {
          "base_uri": "https://localhost:8080/",
          "height": 315
        },
        "outputId": "cb36d2a5-9fbb-4d89-ec2f-fd3c97e3d2a9"
      },
      "source": [
        "ha_df_dis_df.tail(3)"
      ],
      "execution_count": 293,
      "outputs": [
        {
          "output_type": "execute_result",
          "data": {
            "text/html": [
              "<div>\n",
              "<style scoped>\n",
              "    .dataframe tbody tr th:only-of-type {\n",
              "        vertical-align: middle;\n",
              "    }\n",
              "\n",
              "    .dataframe tbody tr th {\n",
              "        vertical-align: top;\n",
              "    }\n",
              "\n",
              "    .dataframe thead th {\n",
              "        text-align: right;\n",
              "    }\n",
              "</style>\n",
              "<table border=\"1\" class=\"dataframe\">\n",
              "  <thead>\n",
              "    <tr style=\"text-align: right;\">\n",
              "      <th></th>\n",
              "      <th>facility</th>\n",
              "      <th>sum_cases</th>\n",
              "      <th>visit_count</th>\n",
              "      <th>mrn</th>\n",
              "      <th>age</th>\n",
              "      <th>gender</th>\n",
              "      <th>gender_id</th>\n",
              "      <th>zip_code</th>\n",
              "      <th>primary_problem</th>\n",
              "      <th>isolation_status</th>\n",
              "      <th>admit_status</th>\n",
              "      <th>admit_status_id</th>\n",
              "      <th>service</th>\n",
              "      <th>service_id</th>\n",
              "      <th>admit_date</th>\n",
              "      <th>month</th>\n",
              "      <th>month_id</th>\n",
              "      <th>year</th>\n",
              "      <th>discharge_date</th>\n",
              "      <th>encounter_dept</th>\n",
              "      <th>dept_id</th>\n",
              "      <th>encounter_type</th>\n",
              "      <th>encounter_type_id</th>\n",
              "      <th>component</th>\n",
              "      <th>procedure</th>\n",
              "      <th>lab_id</th>\n",
              "      <th>infection_status</th>\n",
              "      <th>value</th>\n",
              "      <th>value_id</th>\n",
              "      <th>specimen_type</th>\n",
              "      <th>collected_date</th>\n",
              "      <th>result_date</th>\n",
              "      <th>los</th>\n",
              "      <th>los_num</th>\n",
              "    </tr>\n",
              "  </thead>\n",
              "  <tbody>\n",
              "    <tr>\n",
              "      <th>834</th>\n",
              "      <td>HARLEM HOSPITAL CENTER</td>\n",
              "      <td>1</td>\n",
              "      <td>1</td>\n",
              "      <td>835</td>\n",
              "      <td>19.0</td>\n",
              "      <td>F</td>\n",
              "      <td>1</td>\n",
              "      <td>10027</td>\n",
              "      <td>None</td>\n",
              "      <td>Not reported</td>\n",
              "      <td>No</td>\n",
              "      <td>0</td>\n",
              "      <td>Emergency</td>\n",
              "      <td>123</td>\n",
              "      <td>2020-07-29</td>\n",
              "      <td>July</td>\n",
              "      <td>7</td>\n",
              "      <td>2020</td>\n",
              "      <td>2020-07-29</td>\n",
              "      <td>HA ED PEDIATRIC</td>\n",
              "      <td>1012006020</td>\n",
              "      <td>ED Discharged</td>\n",
              "      <td>200</td>\n",
              "      <td>COVID-19 BIOREFERENCE LAB</td>\n",
              "      <td>BIOREFERENCE COVID-19 PCR(SO) [LABC1925]</td>\n",
              "      <td>LABC1925</td>\n",
              "      <td>COVID-19 (confirmed)</td>\n",
              "      <td>Positive</td>\n",
              "      <td>1</td>\n",
              "      <td>Nasopharyngeal</td>\n",
              "      <td>2020-07-29</td>\n",
              "      <td>2020-08-02</td>\n",
              "      <td>0 days</td>\n",
              "      <td>1</td>\n",
              "    </tr>\n",
              "    <tr>\n",
              "      <th>836</th>\n",
              "      <td>HARLEM HOSPITAL CENTER</td>\n",
              "      <td>1</td>\n",
              "      <td>1</td>\n",
              "      <td>837</td>\n",
              "      <td>55.0</td>\n",
              "      <td>F</td>\n",
              "      <td>1</td>\n",
              "      <td>10030</td>\n",
              "      <td>Lactic acidosis (Additional Hospital Problems)</td>\n",
              "      <td>Contact and Droplet</td>\n",
              "      <td>No</td>\n",
              "      <td>0</td>\n",
              "      <td>Medicine</td>\n",
              "      <td>122</td>\n",
              "      <td>2020-08-03</td>\n",
              "      <td>August</td>\n",
              "      <td>8</td>\n",
              "      <td>2020</td>\n",
              "      <td>2020-08-04</td>\n",
              "      <td>HA ED ADULT</td>\n",
              "      <td>1012006030</td>\n",
              "      <td>Discharged</td>\n",
              "      <td>300</td>\n",
              "      <td>SARS-COV 2 PCR</td>\n",
              "      <td>CEPHEID COVID-19 PCR [LABC1930]</td>\n",
              "      <td>LABC1930</td>\n",
              "      <td>COVID-19 (confirmed)</td>\n",
              "      <td>Positive</td>\n",
              "      <td>1</td>\n",
              "      <td>Nasopharyngeal Swab</td>\n",
              "      <td>2020-08-03</td>\n",
              "      <td>2020-08-03</td>\n",
              "      <td>1 days</td>\n",
              "      <td>2</td>\n",
              "    </tr>\n",
              "    <tr>\n",
              "      <th>838</th>\n",
              "      <td>HARLEM HOSPITAL CENTER</td>\n",
              "      <td>4</td>\n",
              "      <td>1</td>\n",
              "      <td>839</td>\n",
              "      <td>35.0</td>\n",
              "      <td>M</td>\n",
              "      <td>2</td>\n",
              "      <td>10031</td>\n",
              "      <td>None</td>\n",
              "      <td>Not reported</td>\n",
              "      <td>No</td>\n",
              "      <td>0</td>\n",
              "      <td>Emergency</td>\n",
              "      <td>123</td>\n",
              "      <td>2020-03-15</td>\n",
              "      <td>March</td>\n",
              "      <td>3</td>\n",
              "      <td>2020</td>\n",
              "      <td>2020-03-15</td>\n",
              "      <td>HA ED ADULT</td>\n",
              "      <td>1012006030</td>\n",
              "      <td>ED Dismissed</td>\n",
              "      <td>800</td>\n",
              "      <td>NOVEL CORONAVIRUS (COVID-19)</td>\n",
              "      <td>LABCORP COVID-19 TEST (SEND OUT) [LABC1923]</td>\n",
              "      <td>LABC1923</td>\n",
              "      <td>COVID-19 (confirmed)</td>\n",
              "      <td>Positive</td>\n",
              "      <td>1</td>\n",
              "      <td>NP/OP Swab</td>\n",
              "      <td>2020-03-15</td>\n",
              "      <td>2020-03-18</td>\n",
              "      <td>0 days</td>\n",
              "      <td>1</td>\n",
              "    </tr>\n",
              "  </tbody>\n",
              "</table>\n",
              "</div>"
            ],
            "text/plain": [
              "                   facility  sum_cases  visit_count  ...  result_date    los los_num\n",
              "834  HARLEM HOSPITAL CENTER          1            1  ...   2020-08-02 0 days       1\n",
              "836  HARLEM HOSPITAL CENTER          1            1  ...   2020-08-03 1 days       2\n",
              "838  HARLEM HOSPITAL CENTER          4            1  ...   2020-03-18 0 days       1\n",
              "\n",
              "[3 rows x 34 columns]"
            ]
          },
          "metadata": {
            "tags": []
          },
          "execution_count": 293
        }
      ]
    },
    {
      "cell_type": "code",
      "metadata": {
        "id": "j-L8XpUEEwLM",
        "colab_type": "code",
        "colab": {
          "base_uri": "https://localhost:8080/",
          "height": 315
        },
        "outputId": "751f1f73-1e82-44c1-bf3b-a9c0a01dde94"
      },
      "source": [
        "# Determining lab result turnaround time (collected_date - result_date)\n",
        "ha_df['lab_time'] = ha_df['result_date'] - ha_df['collected_date']\n",
        "ha_df.head(3)"
      ],
      "execution_count": 294,
      "outputs": [
        {
          "output_type": "execute_result",
          "data": {
            "text/html": [
              "<div>\n",
              "<style scoped>\n",
              "    .dataframe tbody tr th:only-of-type {\n",
              "        vertical-align: middle;\n",
              "    }\n",
              "\n",
              "    .dataframe tbody tr th {\n",
              "        vertical-align: top;\n",
              "    }\n",
              "\n",
              "    .dataframe thead th {\n",
              "        text-align: right;\n",
              "    }\n",
              "</style>\n",
              "<table border=\"1\" class=\"dataframe\">\n",
              "  <thead>\n",
              "    <tr style=\"text-align: right;\">\n",
              "      <th></th>\n",
              "      <th>facility</th>\n",
              "      <th>sum_cases</th>\n",
              "      <th>visit_count</th>\n",
              "      <th>mrn</th>\n",
              "      <th>age</th>\n",
              "      <th>gender</th>\n",
              "      <th>gender_id</th>\n",
              "      <th>zip_code</th>\n",
              "      <th>primary_problem</th>\n",
              "      <th>isolation_status</th>\n",
              "      <th>admit_status</th>\n",
              "      <th>admit_status_id</th>\n",
              "      <th>service</th>\n",
              "      <th>service_id</th>\n",
              "      <th>admit_date</th>\n",
              "      <th>month</th>\n",
              "      <th>month_id</th>\n",
              "      <th>year</th>\n",
              "      <th>discharge_date</th>\n",
              "      <th>encounter_dept</th>\n",
              "      <th>dept_id</th>\n",
              "      <th>encounter_type</th>\n",
              "      <th>encounter_type_id</th>\n",
              "      <th>component</th>\n",
              "      <th>procedure</th>\n",
              "      <th>lab_id</th>\n",
              "      <th>infection_status</th>\n",
              "      <th>value</th>\n",
              "      <th>value_id</th>\n",
              "      <th>specimen_type</th>\n",
              "      <th>collected_date</th>\n",
              "      <th>result_date</th>\n",
              "      <th>los</th>\n",
              "      <th>los_num</th>\n",
              "      <th>lab_time</th>\n",
              "    </tr>\n",
              "  </thead>\n",
              "  <tbody>\n",
              "    <tr>\n",
              "      <th>0</th>\n",
              "      <td>HARLEM HOSPITAL CENTER</td>\n",
              "      <td>1</td>\n",
              "      <td>1</td>\n",
              "      <td>1</td>\n",
              "      <td>83.0</td>\n",
              "      <td>F</td>\n",
              "      <td>1</td>\n",
              "      <td>10026</td>\n",
              "      <td>Atrial flutter (HCC) (Additional Hospital Prob...</td>\n",
              "      <td>Not reported</td>\n",
              "      <td>No</td>\n",
              "      <td>0</td>\n",
              "      <td>Medicine</td>\n",
              "      <td>122</td>\n",
              "      <td>2018-12-22</td>\n",
              "      <td>December</td>\n",
              "      <td>12</td>\n",
              "      <td>2018</td>\n",
              "      <td>2020-04-10</td>\n",
              "      <td>HA IP 11SU</td>\n",
              "      <td>1012007020</td>\n",
              "      <td>Discharged</td>\n",
              "      <td>300</td>\n",
              "      <td>SCANNED REPORT\\r\\nCOVID-19 BIOREFERENCE LAB</td>\n",
              "      <td>BIOREFERENCE COVID-19 PCR(SO) [LABC1925]</td>\n",
              "      <td>LABC1925</td>\n",
              "      <td>COVID-19 (confirmed)</td>\n",
              "      <td>Positive</td>\n",
              "      <td>1</td>\n",
              "      <td>Nasopharyngeal</td>\n",
              "      <td>2020-04-06</td>\n",
              "      <td>2020-04-15</td>\n",
              "      <td>475 days</td>\n",
              "      <td>475.0</td>\n",
              "      <td>9 days</td>\n",
              "    </tr>\n",
              "    <tr>\n",
              "      <th>1</th>\n",
              "      <td>HARLEM HOSPITAL CENTER</td>\n",
              "      <td>1</td>\n",
              "      <td>1</td>\n",
              "      <td>2</td>\n",
              "      <td>81.0</td>\n",
              "      <td>M</td>\n",
              "      <td>2</td>\n",
              "      <td>10031</td>\n",
              "      <td>COVID-19 virus detected (Principal Hospital Pr...</td>\n",
              "      <td>Not reported</td>\n",
              "      <td>No</td>\n",
              "      <td>0</td>\n",
              "      <td>Medicine</td>\n",
              "      <td>122</td>\n",
              "      <td>2019-11-13</td>\n",
              "      <td>November</td>\n",
              "      <td>11</td>\n",
              "      <td>2019</td>\n",
              "      <td>2020-04-25</td>\n",
              "      <td>HA IP 13MD</td>\n",
              "      <td>1012007040</td>\n",
              "      <td>Discharged</td>\n",
              "      <td>300</td>\n",
              "      <td>SCANNED REPORT\\r\\nCOVID-19 BIOREFERENCE LAB</td>\n",
              "      <td>BIOREFERENCE COVID-19 PCR(SO) [LABC1925]</td>\n",
              "      <td>LABC1925</td>\n",
              "      <td>COVID-19 (confirmed)</td>\n",
              "      <td>Positive</td>\n",
              "      <td>1</td>\n",
              "      <td>Nasopharyngeal</td>\n",
              "      <td>2020-03-23</td>\n",
              "      <td>2020-03-30</td>\n",
              "      <td>164 days</td>\n",
              "      <td>164.0</td>\n",
              "      <td>7 days</td>\n",
              "    </tr>\n",
              "    <tr>\n",
              "      <th>2</th>\n",
              "      <td>HARLEM HOSPITAL CENTER</td>\n",
              "      <td>2</td>\n",
              "      <td>1</td>\n",
              "      <td>3</td>\n",
              "      <td>84.0</td>\n",
              "      <td>F</td>\n",
              "      <td>1</td>\n",
              "      <td>10037</td>\n",
              "      <td>COVID-19 virus detected (Principal Hospital Pr...</td>\n",
              "      <td>Not reported</td>\n",
              "      <td>No</td>\n",
              "      <td>0</td>\n",
              "      <td>Medicine</td>\n",
              "      <td>122</td>\n",
              "      <td>2020-01-21</td>\n",
              "      <td>January</td>\n",
              "      <td>1</td>\n",
              "      <td>2020</td>\n",
              "      <td>2020-04-11</td>\n",
              "      <td>HA IP 13MD</td>\n",
              "      <td>1012007040</td>\n",
              "      <td>Discharged</td>\n",
              "      <td>300</td>\n",
              "      <td>NOVEL CORONAVIRUS (COVID-19)</td>\n",
              "      <td>LABCORP COVID-19 TEST (SEND OUT) [LABC1923]</td>\n",
              "      <td>LABC1923</td>\n",
              "      <td>COVID-19 (confirmed)</td>\n",
              "      <td>Positive</td>\n",
              "      <td>1</td>\n",
              "      <td>NP/OP Swab</td>\n",
              "      <td>2020-03-19</td>\n",
              "      <td>2020-03-26</td>\n",
              "      <td>81 days</td>\n",
              "      <td>81.0</td>\n",
              "      <td>7 days</td>\n",
              "    </tr>\n",
              "  </tbody>\n",
              "</table>\n",
              "</div>"
            ],
            "text/plain": [
              "                 facility  sum_cases  visit_count  ...      los  los_num lab_time\n",
              "0  HARLEM HOSPITAL CENTER          1            1  ... 475 days    475.0   9 days\n",
              "1  HARLEM HOSPITAL CENTER          1            1  ... 164 days    164.0   7 days\n",
              "2  HARLEM HOSPITAL CENTER          2            1  ...  81 days     81.0   7 days\n",
              "\n",
              "[3 rows x 35 columns]"
            ]
          },
          "metadata": {
            "tags": []
          },
          "execution_count": 294
        }
      ]
    },
    {
      "cell_type": "code",
      "metadata": {
        "id": "Q4m-pL95V4Ix",
        "colab_type": "code",
        "colab": {
          "base_uri": "https://localhost:8080/",
          "height": 315
        },
        "outputId": "534f64d4-a041-4335-9a8a-3b8961f0dd07"
      },
      "source": [
        "ha_df['lab_time_num'] = ha_df.lab_time.apply(lambda x: x.days)\n",
        "ha_df.head(3)"
      ],
      "execution_count": 295,
      "outputs": [
        {
          "output_type": "execute_result",
          "data": {
            "text/html": [
              "<div>\n",
              "<style scoped>\n",
              "    .dataframe tbody tr th:only-of-type {\n",
              "        vertical-align: middle;\n",
              "    }\n",
              "\n",
              "    .dataframe tbody tr th {\n",
              "        vertical-align: top;\n",
              "    }\n",
              "\n",
              "    .dataframe thead th {\n",
              "        text-align: right;\n",
              "    }\n",
              "</style>\n",
              "<table border=\"1\" class=\"dataframe\">\n",
              "  <thead>\n",
              "    <tr style=\"text-align: right;\">\n",
              "      <th></th>\n",
              "      <th>facility</th>\n",
              "      <th>sum_cases</th>\n",
              "      <th>visit_count</th>\n",
              "      <th>mrn</th>\n",
              "      <th>age</th>\n",
              "      <th>gender</th>\n",
              "      <th>gender_id</th>\n",
              "      <th>zip_code</th>\n",
              "      <th>primary_problem</th>\n",
              "      <th>isolation_status</th>\n",
              "      <th>admit_status</th>\n",
              "      <th>admit_status_id</th>\n",
              "      <th>service</th>\n",
              "      <th>service_id</th>\n",
              "      <th>admit_date</th>\n",
              "      <th>month</th>\n",
              "      <th>month_id</th>\n",
              "      <th>year</th>\n",
              "      <th>discharge_date</th>\n",
              "      <th>encounter_dept</th>\n",
              "      <th>dept_id</th>\n",
              "      <th>encounter_type</th>\n",
              "      <th>encounter_type_id</th>\n",
              "      <th>component</th>\n",
              "      <th>procedure</th>\n",
              "      <th>lab_id</th>\n",
              "      <th>infection_status</th>\n",
              "      <th>value</th>\n",
              "      <th>value_id</th>\n",
              "      <th>specimen_type</th>\n",
              "      <th>collected_date</th>\n",
              "      <th>result_date</th>\n",
              "      <th>los</th>\n",
              "      <th>los_num</th>\n",
              "      <th>lab_time</th>\n",
              "      <th>lab_time_num</th>\n",
              "    </tr>\n",
              "  </thead>\n",
              "  <tbody>\n",
              "    <tr>\n",
              "      <th>0</th>\n",
              "      <td>HARLEM HOSPITAL CENTER</td>\n",
              "      <td>1</td>\n",
              "      <td>1</td>\n",
              "      <td>1</td>\n",
              "      <td>83.0</td>\n",
              "      <td>F</td>\n",
              "      <td>1</td>\n",
              "      <td>10026</td>\n",
              "      <td>Atrial flutter (HCC) (Additional Hospital Prob...</td>\n",
              "      <td>Not reported</td>\n",
              "      <td>No</td>\n",
              "      <td>0</td>\n",
              "      <td>Medicine</td>\n",
              "      <td>122</td>\n",
              "      <td>2018-12-22</td>\n",
              "      <td>December</td>\n",
              "      <td>12</td>\n",
              "      <td>2018</td>\n",
              "      <td>2020-04-10</td>\n",
              "      <td>HA IP 11SU</td>\n",
              "      <td>1012007020</td>\n",
              "      <td>Discharged</td>\n",
              "      <td>300</td>\n",
              "      <td>SCANNED REPORT\\r\\nCOVID-19 BIOREFERENCE LAB</td>\n",
              "      <td>BIOREFERENCE COVID-19 PCR(SO) [LABC1925]</td>\n",
              "      <td>LABC1925</td>\n",
              "      <td>COVID-19 (confirmed)</td>\n",
              "      <td>Positive</td>\n",
              "      <td>1</td>\n",
              "      <td>Nasopharyngeal</td>\n",
              "      <td>2020-04-06</td>\n",
              "      <td>2020-04-15</td>\n",
              "      <td>475 days</td>\n",
              "      <td>475.0</td>\n",
              "      <td>9 days</td>\n",
              "      <td>9</td>\n",
              "    </tr>\n",
              "    <tr>\n",
              "      <th>1</th>\n",
              "      <td>HARLEM HOSPITAL CENTER</td>\n",
              "      <td>1</td>\n",
              "      <td>1</td>\n",
              "      <td>2</td>\n",
              "      <td>81.0</td>\n",
              "      <td>M</td>\n",
              "      <td>2</td>\n",
              "      <td>10031</td>\n",
              "      <td>COVID-19 virus detected (Principal Hospital Pr...</td>\n",
              "      <td>Not reported</td>\n",
              "      <td>No</td>\n",
              "      <td>0</td>\n",
              "      <td>Medicine</td>\n",
              "      <td>122</td>\n",
              "      <td>2019-11-13</td>\n",
              "      <td>November</td>\n",
              "      <td>11</td>\n",
              "      <td>2019</td>\n",
              "      <td>2020-04-25</td>\n",
              "      <td>HA IP 13MD</td>\n",
              "      <td>1012007040</td>\n",
              "      <td>Discharged</td>\n",
              "      <td>300</td>\n",
              "      <td>SCANNED REPORT\\r\\nCOVID-19 BIOREFERENCE LAB</td>\n",
              "      <td>BIOREFERENCE COVID-19 PCR(SO) [LABC1925]</td>\n",
              "      <td>LABC1925</td>\n",
              "      <td>COVID-19 (confirmed)</td>\n",
              "      <td>Positive</td>\n",
              "      <td>1</td>\n",
              "      <td>Nasopharyngeal</td>\n",
              "      <td>2020-03-23</td>\n",
              "      <td>2020-03-30</td>\n",
              "      <td>164 days</td>\n",
              "      <td>164.0</td>\n",
              "      <td>7 days</td>\n",
              "      <td>7</td>\n",
              "    </tr>\n",
              "    <tr>\n",
              "      <th>2</th>\n",
              "      <td>HARLEM HOSPITAL CENTER</td>\n",
              "      <td>2</td>\n",
              "      <td>1</td>\n",
              "      <td>3</td>\n",
              "      <td>84.0</td>\n",
              "      <td>F</td>\n",
              "      <td>1</td>\n",
              "      <td>10037</td>\n",
              "      <td>COVID-19 virus detected (Principal Hospital Pr...</td>\n",
              "      <td>Not reported</td>\n",
              "      <td>No</td>\n",
              "      <td>0</td>\n",
              "      <td>Medicine</td>\n",
              "      <td>122</td>\n",
              "      <td>2020-01-21</td>\n",
              "      <td>January</td>\n",
              "      <td>1</td>\n",
              "      <td>2020</td>\n",
              "      <td>2020-04-11</td>\n",
              "      <td>HA IP 13MD</td>\n",
              "      <td>1012007040</td>\n",
              "      <td>Discharged</td>\n",
              "      <td>300</td>\n",
              "      <td>NOVEL CORONAVIRUS (COVID-19)</td>\n",
              "      <td>LABCORP COVID-19 TEST (SEND OUT) [LABC1923]</td>\n",
              "      <td>LABC1923</td>\n",
              "      <td>COVID-19 (confirmed)</td>\n",
              "      <td>Positive</td>\n",
              "      <td>1</td>\n",
              "      <td>NP/OP Swab</td>\n",
              "      <td>2020-03-19</td>\n",
              "      <td>2020-03-26</td>\n",
              "      <td>81 days</td>\n",
              "      <td>81.0</td>\n",
              "      <td>7 days</td>\n",
              "      <td>7</td>\n",
              "    </tr>\n",
              "  </tbody>\n",
              "</table>\n",
              "</div>"
            ],
            "text/plain": [
              "                 facility  sum_cases  ...  lab_time  lab_time_num\n",
              "0  HARLEM HOSPITAL CENTER          1  ...    9 days             9\n",
              "1  HARLEM HOSPITAL CENTER          1  ...    7 days             7\n",
              "2  HARLEM HOSPITAL CENTER          2  ...    7 days             7\n",
              "\n",
              "[3 rows x 36 columns]"
            ]
          },
          "metadata": {
            "tags": []
          },
          "execution_count": 295
        }
      ]
    },
    {
      "cell_type": "code",
      "metadata": {
        "id": "VWynnf6wV4Mt",
        "colab_type": "code",
        "colab": {
          "base_uri": "https://localhost:8080/",
          "height": 315
        },
        "outputId": "4404b803-33bd-46e6-82f5-276aa78639b8"
      },
      "source": [
        "ha_df_lab_df = ha_df[ha_df['lab_time_num'].isnull()==False]\n",
        "ha_df_lab_df.head(3)"
      ],
      "execution_count": 296,
      "outputs": [
        {
          "output_type": "execute_result",
          "data": {
            "text/html": [
              "<div>\n",
              "<style scoped>\n",
              "    .dataframe tbody tr th:only-of-type {\n",
              "        vertical-align: middle;\n",
              "    }\n",
              "\n",
              "    .dataframe tbody tr th {\n",
              "        vertical-align: top;\n",
              "    }\n",
              "\n",
              "    .dataframe thead th {\n",
              "        text-align: right;\n",
              "    }\n",
              "</style>\n",
              "<table border=\"1\" class=\"dataframe\">\n",
              "  <thead>\n",
              "    <tr style=\"text-align: right;\">\n",
              "      <th></th>\n",
              "      <th>facility</th>\n",
              "      <th>sum_cases</th>\n",
              "      <th>visit_count</th>\n",
              "      <th>mrn</th>\n",
              "      <th>age</th>\n",
              "      <th>gender</th>\n",
              "      <th>gender_id</th>\n",
              "      <th>zip_code</th>\n",
              "      <th>primary_problem</th>\n",
              "      <th>isolation_status</th>\n",
              "      <th>admit_status</th>\n",
              "      <th>admit_status_id</th>\n",
              "      <th>service</th>\n",
              "      <th>service_id</th>\n",
              "      <th>admit_date</th>\n",
              "      <th>month</th>\n",
              "      <th>month_id</th>\n",
              "      <th>year</th>\n",
              "      <th>discharge_date</th>\n",
              "      <th>encounter_dept</th>\n",
              "      <th>dept_id</th>\n",
              "      <th>encounter_type</th>\n",
              "      <th>encounter_type_id</th>\n",
              "      <th>component</th>\n",
              "      <th>procedure</th>\n",
              "      <th>lab_id</th>\n",
              "      <th>infection_status</th>\n",
              "      <th>value</th>\n",
              "      <th>value_id</th>\n",
              "      <th>specimen_type</th>\n",
              "      <th>collected_date</th>\n",
              "      <th>result_date</th>\n",
              "      <th>los</th>\n",
              "      <th>los_num</th>\n",
              "      <th>lab_time</th>\n",
              "      <th>lab_time_num</th>\n",
              "    </tr>\n",
              "  </thead>\n",
              "  <tbody>\n",
              "    <tr>\n",
              "      <th>0</th>\n",
              "      <td>HARLEM HOSPITAL CENTER</td>\n",
              "      <td>1</td>\n",
              "      <td>1</td>\n",
              "      <td>1</td>\n",
              "      <td>83.0</td>\n",
              "      <td>F</td>\n",
              "      <td>1</td>\n",
              "      <td>10026</td>\n",
              "      <td>Atrial flutter (HCC) (Additional Hospital Prob...</td>\n",
              "      <td>Not reported</td>\n",
              "      <td>No</td>\n",
              "      <td>0</td>\n",
              "      <td>Medicine</td>\n",
              "      <td>122</td>\n",
              "      <td>2018-12-22</td>\n",
              "      <td>December</td>\n",
              "      <td>12</td>\n",
              "      <td>2018</td>\n",
              "      <td>2020-04-10</td>\n",
              "      <td>HA IP 11SU</td>\n",
              "      <td>1012007020</td>\n",
              "      <td>Discharged</td>\n",
              "      <td>300</td>\n",
              "      <td>SCANNED REPORT\\r\\nCOVID-19 BIOREFERENCE LAB</td>\n",
              "      <td>BIOREFERENCE COVID-19 PCR(SO) [LABC1925]</td>\n",
              "      <td>LABC1925</td>\n",
              "      <td>COVID-19 (confirmed)</td>\n",
              "      <td>Positive</td>\n",
              "      <td>1</td>\n",
              "      <td>Nasopharyngeal</td>\n",
              "      <td>2020-04-06</td>\n",
              "      <td>2020-04-15</td>\n",
              "      <td>475 days</td>\n",
              "      <td>475.0</td>\n",
              "      <td>9 days</td>\n",
              "      <td>9</td>\n",
              "    </tr>\n",
              "    <tr>\n",
              "      <th>1</th>\n",
              "      <td>HARLEM HOSPITAL CENTER</td>\n",
              "      <td>1</td>\n",
              "      <td>1</td>\n",
              "      <td>2</td>\n",
              "      <td>81.0</td>\n",
              "      <td>M</td>\n",
              "      <td>2</td>\n",
              "      <td>10031</td>\n",
              "      <td>COVID-19 virus detected (Principal Hospital Pr...</td>\n",
              "      <td>Not reported</td>\n",
              "      <td>No</td>\n",
              "      <td>0</td>\n",
              "      <td>Medicine</td>\n",
              "      <td>122</td>\n",
              "      <td>2019-11-13</td>\n",
              "      <td>November</td>\n",
              "      <td>11</td>\n",
              "      <td>2019</td>\n",
              "      <td>2020-04-25</td>\n",
              "      <td>HA IP 13MD</td>\n",
              "      <td>1012007040</td>\n",
              "      <td>Discharged</td>\n",
              "      <td>300</td>\n",
              "      <td>SCANNED REPORT\\r\\nCOVID-19 BIOREFERENCE LAB</td>\n",
              "      <td>BIOREFERENCE COVID-19 PCR(SO) [LABC1925]</td>\n",
              "      <td>LABC1925</td>\n",
              "      <td>COVID-19 (confirmed)</td>\n",
              "      <td>Positive</td>\n",
              "      <td>1</td>\n",
              "      <td>Nasopharyngeal</td>\n",
              "      <td>2020-03-23</td>\n",
              "      <td>2020-03-30</td>\n",
              "      <td>164 days</td>\n",
              "      <td>164.0</td>\n",
              "      <td>7 days</td>\n",
              "      <td>7</td>\n",
              "    </tr>\n",
              "    <tr>\n",
              "      <th>2</th>\n",
              "      <td>HARLEM HOSPITAL CENTER</td>\n",
              "      <td>2</td>\n",
              "      <td>1</td>\n",
              "      <td>3</td>\n",
              "      <td>84.0</td>\n",
              "      <td>F</td>\n",
              "      <td>1</td>\n",
              "      <td>10037</td>\n",
              "      <td>COVID-19 virus detected (Principal Hospital Pr...</td>\n",
              "      <td>Not reported</td>\n",
              "      <td>No</td>\n",
              "      <td>0</td>\n",
              "      <td>Medicine</td>\n",
              "      <td>122</td>\n",
              "      <td>2020-01-21</td>\n",
              "      <td>January</td>\n",
              "      <td>1</td>\n",
              "      <td>2020</td>\n",
              "      <td>2020-04-11</td>\n",
              "      <td>HA IP 13MD</td>\n",
              "      <td>1012007040</td>\n",
              "      <td>Discharged</td>\n",
              "      <td>300</td>\n",
              "      <td>NOVEL CORONAVIRUS (COVID-19)</td>\n",
              "      <td>LABCORP COVID-19 TEST (SEND OUT) [LABC1923]</td>\n",
              "      <td>LABC1923</td>\n",
              "      <td>COVID-19 (confirmed)</td>\n",
              "      <td>Positive</td>\n",
              "      <td>1</td>\n",
              "      <td>NP/OP Swab</td>\n",
              "      <td>2020-03-19</td>\n",
              "      <td>2020-03-26</td>\n",
              "      <td>81 days</td>\n",
              "      <td>81.0</td>\n",
              "      <td>7 days</td>\n",
              "      <td>7</td>\n",
              "    </tr>\n",
              "  </tbody>\n",
              "</table>\n",
              "</div>"
            ],
            "text/plain": [
              "                 facility  sum_cases  ...  lab_time  lab_time_num\n",
              "0  HARLEM HOSPITAL CENTER          1  ...    9 days             9\n",
              "1  HARLEM HOSPITAL CENTER          1  ...    7 days             7\n",
              "2  HARLEM HOSPITAL CENTER          2  ...    7 days             7\n",
              "\n",
              "[3 rows x 36 columns]"
            ]
          },
          "metadata": {
            "tags": []
          },
          "execution_count": 296
        }
      ]
    },
    {
      "cell_type": "code",
      "metadata": {
        "id": "GNRXwTNCV4Ra",
        "colab_type": "code",
        "colab": {
          "base_uri": "https://localhost:8080/",
          "height": 34
        },
        "outputId": "0fbbb74c-4c37-4dd5-abe8-b95790f5e62e"
      },
      "source": [
        "ha_df_lab_df.lab_time_num.dtype"
      ],
      "execution_count": 297,
      "outputs": [
        {
          "output_type": "execute_result",
          "data": {
            "text/plain": [
              "dtype('int64')"
            ]
          },
          "metadata": {
            "tags": []
          },
          "execution_count": 297
        }
      ]
    },
    {
      "cell_type": "code",
      "metadata": {
        "id": "whJLZqPVV4jh",
        "colab_type": "code",
        "colab": {}
      },
      "source": [
        "ha_df_lab_df['lab_time_num'] = ha_df_lab_df['lab_time_num'].astype(int)"
      ],
      "execution_count": 298,
      "outputs": []
    },
    {
      "cell_type": "code",
      "metadata": {
        "id": "pI8V6bOZV4XR",
        "colab_type": "code",
        "colab": {}
      },
      "source": [
        "ha_df_lab_df['lab_time_num'] = ha_df_lab_df.lab_time_num.apply(lambda x: x+1)"
      ],
      "execution_count": 299,
      "outputs": []
    },
    {
      "cell_type": "code",
      "metadata": {
        "id": "Uze1Z87rWB_T",
        "colab_type": "code",
        "colab": {
          "base_uri": "https://localhost:8080/",
          "height": 34
        },
        "outputId": "8b18eab4-d4a6-44d6-8364-47922b2a3aed"
      },
      "source": [
        "ha_df_lab_df.lab_time_num.dtype"
      ],
      "execution_count": 300,
      "outputs": [
        {
          "output_type": "execute_result",
          "data": {
            "text/plain": [
              "dtype('int64')"
            ]
          },
          "metadata": {
            "tags": []
          },
          "execution_count": 300
        }
      ]
    },
    {
      "cell_type": "code",
      "metadata": {
        "id": "Gj7MNAbdWEjT",
        "colab_type": "code",
        "colab": {
          "base_uri": "https://localhost:8080/",
          "height": 349
        },
        "outputId": "d814ca0f-11bb-4307-9a40-f23b8fe2b8e7"
      },
      "source": [
        "ha_df_lab_df.tail(3)"
      ],
      "execution_count": 301,
      "outputs": [
        {
          "output_type": "execute_result",
          "data": {
            "text/html": [
              "<div>\n",
              "<style scoped>\n",
              "    .dataframe tbody tr th:only-of-type {\n",
              "        vertical-align: middle;\n",
              "    }\n",
              "\n",
              "    .dataframe tbody tr th {\n",
              "        vertical-align: top;\n",
              "    }\n",
              "\n",
              "    .dataframe thead th {\n",
              "        text-align: right;\n",
              "    }\n",
              "</style>\n",
              "<table border=\"1\" class=\"dataframe\">\n",
              "  <thead>\n",
              "    <tr style=\"text-align: right;\">\n",
              "      <th></th>\n",
              "      <th>facility</th>\n",
              "      <th>sum_cases</th>\n",
              "      <th>visit_count</th>\n",
              "      <th>mrn</th>\n",
              "      <th>age</th>\n",
              "      <th>gender</th>\n",
              "      <th>gender_id</th>\n",
              "      <th>zip_code</th>\n",
              "      <th>primary_problem</th>\n",
              "      <th>isolation_status</th>\n",
              "      <th>admit_status</th>\n",
              "      <th>admit_status_id</th>\n",
              "      <th>service</th>\n",
              "      <th>service_id</th>\n",
              "      <th>admit_date</th>\n",
              "      <th>month</th>\n",
              "      <th>month_id</th>\n",
              "      <th>year</th>\n",
              "      <th>discharge_date</th>\n",
              "      <th>encounter_dept</th>\n",
              "      <th>dept_id</th>\n",
              "      <th>encounter_type</th>\n",
              "      <th>encounter_type_id</th>\n",
              "      <th>component</th>\n",
              "      <th>procedure</th>\n",
              "      <th>lab_id</th>\n",
              "      <th>infection_status</th>\n",
              "      <th>value</th>\n",
              "      <th>value_id</th>\n",
              "      <th>specimen_type</th>\n",
              "      <th>collected_date</th>\n",
              "      <th>result_date</th>\n",
              "      <th>los</th>\n",
              "      <th>los_num</th>\n",
              "      <th>lab_time</th>\n",
              "      <th>lab_time_num</th>\n",
              "    </tr>\n",
              "  </thead>\n",
              "  <tbody>\n",
              "    <tr>\n",
              "      <th>836</th>\n",
              "      <td>HARLEM HOSPITAL CENTER</td>\n",
              "      <td>1</td>\n",
              "      <td>1</td>\n",
              "      <td>837</td>\n",
              "      <td>55.0</td>\n",
              "      <td>F</td>\n",
              "      <td>1</td>\n",
              "      <td>10030</td>\n",
              "      <td>Lactic acidosis (Additional Hospital Problems)</td>\n",
              "      <td>Contact and Droplet</td>\n",
              "      <td>No</td>\n",
              "      <td>0</td>\n",
              "      <td>Medicine</td>\n",
              "      <td>122</td>\n",
              "      <td>2020-08-03</td>\n",
              "      <td>August</td>\n",
              "      <td>8</td>\n",
              "      <td>2020</td>\n",
              "      <td>2020-08-04</td>\n",
              "      <td>HA ED ADULT</td>\n",
              "      <td>1012006030</td>\n",
              "      <td>Discharged</td>\n",
              "      <td>300</td>\n",
              "      <td>SARS-COV 2 PCR</td>\n",
              "      <td>CEPHEID COVID-19 PCR [LABC1930]</td>\n",
              "      <td>LABC1930</td>\n",
              "      <td>COVID-19 (confirmed)</td>\n",
              "      <td>Positive</td>\n",
              "      <td>1</td>\n",
              "      <td>Nasopharyngeal Swab</td>\n",
              "      <td>2020-08-03</td>\n",
              "      <td>2020-08-03</td>\n",
              "      <td>1 days</td>\n",
              "      <td>1.0</td>\n",
              "      <td>0 days</td>\n",
              "      <td>1</td>\n",
              "    </tr>\n",
              "    <tr>\n",
              "      <th>837</th>\n",
              "      <td>HARLEM HOSPITAL CENTER</td>\n",
              "      <td>1</td>\n",
              "      <td>1</td>\n",
              "      <td>838</td>\n",
              "      <td>30.0</td>\n",
              "      <td>M</td>\n",
              "      <td>2</td>\n",
              "      <td>10029</td>\n",
              "      <td>Lung abnormality</td>\n",
              "      <td>Contact and Airborne</td>\n",
              "      <td>Yes</td>\n",
              "      <td>1</td>\n",
              "      <td>Medicine</td>\n",
              "      <td>122</td>\n",
              "      <td>2020-08-07</td>\n",
              "      <td>August</td>\n",
              "      <td>8</td>\n",
              "      <td>2020</td>\n",
              "      <td>NaT</td>\n",
              "      <td>HA ED ADULT</td>\n",
              "      <td>1012006030</td>\n",
              "      <td>Admitted</td>\n",
              "      <td>100</td>\n",
              "      <td>SARS-COV 2 PCR</td>\n",
              "      <td>CEPHEID COVID-19 PCR [LABC1930]</td>\n",
              "      <td>LABC1930</td>\n",
              "      <td>COVID-19 (confirmed)</td>\n",
              "      <td>Positive</td>\n",
              "      <td>1</td>\n",
              "      <td>Nasopharyngeal Swab</td>\n",
              "      <td>2020-08-07</td>\n",
              "      <td>2020-08-07</td>\n",
              "      <td>NaT</td>\n",
              "      <td>NaN</td>\n",
              "      <td>0 days</td>\n",
              "      <td>1</td>\n",
              "    </tr>\n",
              "    <tr>\n",
              "      <th>838</th>\n",
              "      <td>HARLEM HOSPITAL CENTER</td>\n",
              "      <td>4</td>\n",
              "      <td>1</td>\n",
              "      <td>839</td>\n",
              "      <td>35.0</td>\n",
              "      <td>M</td>\n",
              "      <td>2</td>\n",
              "      <td>10031</td>\n",
              "      <td>None</td>\n",
              "      <td>Not reported</td>\n",
              "      <td>No</td>\n",
              "      <td>0</td>\n",
              "      <td>Emergency</td>\n",
              "      <td>123</td>\n",
              "      <td>2020-03-15</td>\n",
              "      <td>March</td>\n",
              "      <td>3</td>\n",
              "      <td>2020</td>\n",
              "      <td>2020-03-15</td>\n",
              "      <td>HA ED ADULT</td>\n",
              "      <td>1012006030</td>\n",
              "      <td>ED Dismissed</td>\n",
              "      <td>800</td>\n",
              "      <td>NOVEL CORONAVIRUS (COVID-19)</td>\n",
              "      <td>LABCORP COVID-19 TEST (SEND OUT) [LABC1923]</td>\n",
              "      <td>LABC1923</td>\n",
              "      <td>COVID-19 (confirmed)</td>\n",
              "      <td>Positive</td>\n",
              "      <td>1</td>\n",
              "      <td>NP/OP Swab</td>\n",
              "      <td>2020-03-15</td>\n",
              "      <td>2020-03-18</td>\n",
              "      <td>0 days</td>\n",
              "      <td>0.0</td>\n",
              "      <td>3 days</td>\n",
              "      <td>4</td>\n",
              "    </tr>\n",
              "  </tbody>\n",
              "</table>\n",
              "</div>"
            ],
            "text/plain": [
              "                   facility  sum_cases  ...  lab_time  lab_time_num\n",
              "836  HARLEM HOSPITAL CENTER          1  ...    0 days             1\n",
              "837  HARLEM HOSPITAL CENTER          1  ...    0 days             1\n",
              "838  HARLEM HOSPITAL CENTER          4  ...    3 days             4\n",
              "\n",
              "[3 rows x 36 columns]"
            ]
          },
          "metadata": {
            "tags": []
          },
          "execution_count": 301
        }
      ]
    },
    {
      "cell_type": "code",
      "metadata": {
        "id": "xECxsF9AFW1z",
        "colab_type": "code",
        "colab": {
          "base_uri": "https://localhost:8080/",
          "height": 450
        },
        "outputId": "9681391f-c0a9-4b94-fac5-8cec002a6ddc"
      },
      "source": [
        "# Deteriming number of positive patients by date\n",
        "ha_df.pivot_table(index='admit_date',values='visit_count',aggfunc='count')"
      ],
      "execution_count": 302,
      "outputs": [
        {
          "output_type": "execute_result",
          "data": {
            "text/html": [
              "<div>\n",
              "<style scoped>\n",
              "    .dataframe tbody tr th:only-of-type {\n",
              "        vertical-align: middle;\n",
              "    }\n",
              "\n",
              "    .dataframe tbody tr th {\n",
              "        vertical-align: top;\n",
              "    }\n",
              "\n",
              "    .dataframe thead th {\n",
              "        text-align: right;\n",
              "    }\n",
              "</style>\n",
              "<table border=\"1\" class=\"dataframe\">\n",
              "  <thead>\n",
              "    <tr style=\"text-align: right;\">\n",
              "      <th></th>\n",
              "      <th>visit_count</th>\n",
              "    </tr>\n",
              "    <tr>\n",
              "      <th>admit_date</th>\n",
              "      <th></th>\n",
              "    </tr>\n",
              "  </thead>\n",
              "  <tbody>\n",
              "    <tr>\n",
              "      <th>2018-12-22</th>\n",
              "      <td>1</td>\n",
              "    </tr>\n",
              "    <tr>\n",
              "      <th>2019-11-13</th>\n",
              "      <td>1</td>\n",
              "    </tr>\n",
              "    <tr>\n",
              "      <th>2020-01-21</th>\n",
              "      <td>2</td>\n",
              "    </tr>\n",
              "    <tr>\n",
              "      <th>2020-02-13</th>\n",
              "      <td>1</td>\n",
              "    </tr>\n",
              "    <tr>\n",
              "      <th>2020-02-26</th>\n",
              "      <td>2</td>\n",
              "    </tr>\n",
              "    <tr>\n",
              "      <th>...</th>\n",
              "      <td>...</td>\n",
              "    </tr>\n",
              "    <tr>\n",
              "      <th>2020-07-27</th>\n",
              "      <td>1</td>\n",
              "    </tr>\n",
              "    <tr>\n",
              "      <th>2020-07-29</th>\n",
              "      <td>1</td>\n",
              "    </tr>\n",
              "    <tr>\n",
              "      <th>2020-08-02</th>\n",
              "      <td>1</td>\n",
              "    </tr>\n",
              "    <tr>\n",
              "      <th>2020-08-03</th>\n",
              "      <td>1</td>\n",
              "    </tr>\n",
              "    <tr>\n",
              "      <th>2020-08-07</th>\n",
              "      <td>1</td>\n",
              "    </tr>\n",
              "  </tbody>\n",
              "</table>\n",
              "<p>118 rows × 1 columns</p>\n",
              "</div>"
            ],
            "text/plain": [
              "            visit_count\n",
              "admit_date             \n",
              "2018-12-22            1\n",
              "2019-11-13            1\n",
              "2020-01-21            2\n",
              "2020-02-13            1\n",
              "2020-02-26            2\n",
              "...                 ...\n",
              "2020-07-27            1\n",
              "2020-07-29            1\n",
              "2020-08-02            1\n",
              "2020-08-03            1\n",
              "2020-08-07            1\n",
              "\n",
              "[118 rows x 1 columns]"
            ]
          },
          "metadata": {
            "tags": []
          },
          "execution_count": 302
        }
      ]
    },
    {
      "cell_type": "code",
      "metadata": {
        "id": "bQnF-GqEEK7W",
        "colab_type": "code",
        "colab": {
          "base_uri": "https://localhost:8080/",
          "height": 315
        },
        "outputId": "c1d285da-1c77-49ae-c5b9-7958cd69a9c6"
      },
      "source": [
        "# Sort columns in desired order\n",
        "ha_df = ha_df[['facility', 'sum_cases', 'visit_count', 'mrn', 'age', 'gender', 'gender_id','zip_code', 'primary_problem', 'isolation_status', 'admit_status','admit_status_id', 'service', \n",
        "              'service_id', 'admit_date', 'month', 'month_id', 'year', 'discharge_date', 'los', 'los_num', 'encounter_dept', 'dept_id', 'encounter_type', \n",
        "              'encounter_type_id', 'component ', 'procedure', 'lab_id', 'infection_status', 'value', 'value_id', \n",
        "              'specimen_type', 'collected_date', 'result_date']]\n",
        "ha_df.head(3)"
      ],
      "execution_count": 303,
      "outputs": [
        {
          "output_type": "execute_result",
          "data": {
            "text/html": [
              "<div>\n",
              "<style scoped>\n",
              "    .dataframe tbody tr th:only-of-type {\n",
              "        vertical-align: middle;\n",
              "    }\n",
              "\n",
              "    .dataframe tbody tr th {\n",
              "        vertical-align: top;\n",
              "    }\n",
              "\n",
              "    .dataframe thead th {\n",
              "        text-align: right;\n",
              "    }\n",
              "</style>\n",
              "<table border=\"1\" class=\"dataframe\">\n",
              "  <thead>\n",
              "    <tr style=\"text-align: right;\">\n",
              "      <th></th>\n",
              "      <th>facility</th>\n",
              "      <th>sum_cases</th>\n",
              "      <th>visit_count</th>\n",
              "      <th>mrn</th>\n",
              "      <th>age</th>\n",
              "      <th>gender</th>\n",
              "      <th>gender_id</th>\n",
              "      <th>zip_code</th>\n",
              "      <th>primary_problem</th>\n",
              "      <th>isolation_status</th>\n",
              "      <th>admit_status</th>\n",
              "      <th>admit_status_id</th>\n",
              "      <th>service</th>\n",
              "      <th>service_id</th>\n",
              "      <th>admit_date</th>\n",
              "      <th>month</th>\n",
              "      <th>month_id</th>\n",
              "      <th>year</th>\n",
              "      <th>discharge_date</th>\n",
              "      <th>los</th>\n",
              "      <th>los_num</th>\n",
              "      <th>encounter_dept</th>\n",
              "      <th>dept_id</th>\n",
              "      <th>encounter_type</th>\n",
              "      <th>encounter_type_id</th>\n",
              "      <th>component</th>\n",
              "      <th>procedure</th>\n",
              "      <th>lab_id</th>\n",
              "      <th>infection_status</th>\n",
              "      <th>value</th>\n",
              "      <th>value_id</th>\n",
              "      <th>specimen_type</th>\n",
              "      <th>collected_date</th>\n",
              "      <th>result_date</th>\n",
              "    </tr>\n",
              "  </thead>\n",
              "  <tbody>\n",
              "    <tr>\n",
              "      <th>0</th>\n",
              "      <td>HARLEM HOSPITAL CENTER</td>\n",
              "      <td>1</td>\n",
              "      <td>1</td>\n",
              "      <td>1</td>\n",
              "      <td>83.0</td>\n",
              "      <td>F</td>\n",
              "      <td>1</td>\n",
              "      <td>10026</td>\n",
              "      <td>Atrial flutter (HCC) (Additional Hospital Prob...</td>\n",
              "      <td>Not reported</td>\n",
              "      <td>No</td>\n",
              "      <td>0</td>\n",
              "      <td>Medicine</td>\n",
              "      <td>122</td>\n",
              "      <td>2018-12-22</td>\n",
              "      <td>December</td>\n",
              "      <td>12</td>\n",
              "      <td>2018</td>\n",
              "      <td>2020-04-10</td>\n",
              "      <td>475 days</td>\n",
              "      <td>475.0</td>\n",
              "      <td>HA IP 11SU</td>\n",
              "      <td>1012007020</td>\n",
              "      <td>Discharged</td>\n",
              "      <td>300</td>\n",
              "      <td>SCANNED REPORT\\r\\nCOVID-19 BIOREFERENCE LAB</td>\n",
              "      <td>BIOREFERENCE COVID-19 PCR(SO) [LABC1925]</td>\n",
              "      <td>LABC1925</td>\n",
              "      <td>COVID-19 (confirmed)</td>\n",
              "      <td>Positive</td>\n",
              "      <td>1</td>\n",
              "      <td>Nasopharyngeal</td>\n",
              "      <td>2020-04-06</td>\n",
              "      <td>2020-04-15</td>\n",
              "    </tr>\n",
              "    <tr>\n",
              "      <th>1</th>\n",
              "      <td>HARLEM HOSPITAL CENTER</td>\n",
              "      <td>1</td>\n",
              "      <td>1</td>\n",
              "      <td>2</td>\n",
              "      <td>81.0</td>\n",
              "      <td>M</td>\n",
              "      <td>2</td>\n",
              "      <td>10031</td>\n",
              "      <td>COVID-19 virus detected (Principal Hospital Pr...</td>\n",
              "      <td>Not reported</td>\n",
              "      <td>No</td>\n",
              "      <td>0</td>\n",
              "      <td>Medicine</td>\n",
              "      <td>122</td>\n",
              "      <td>2019-11-13</td>\n",
              "      <td>November</td>\n",
              "      <td>11</td>\n",
              "      <td>2019</td>\n",
              "      <td>2020-04-25</td>\n",
              "      <td>164 days</td>\n",
              "      <td>164.0</td>\n",
              "      <td>HA IP 13MD</td>\n",
              "      <td>1012007040</td>\n",
              "      <td>Discharged</td>\n",
              "      <td>300</td>\n",
              "      <td>SCANNED REPORT\\r\\nCOVID-19 BIOREFERENCE LAB</td>\n",
              "      <td>BIOREFERENCE COVID-19 PCR(SO) [LABC1925]</td>\n",
              "      <td>LABC1925</td>\n",
              "      <td>COVID-19 (confirmed)</td>\n",
              "      <td>Positive</td>\n",
              "      <td>1</td>\n",
              "      <td>Nasopharyngeal</td>\n",
              "      <td>2020-03-23</td>\n",
              "      <td>2020-03-30</td>\n",
              "    </tr>\n",
              "    <tr>\n",
              "      <th>2</th>\n",
              "      <td>HARLEM HOSPITAL CENTER</td>\n",
              "      <td>2</td>\n",
              "      <td>1</td>\n",
              "      <td>3</td>\n",
              "      <td>84.0</td>\n",
              "      <td>F</td>\n",
              "      <td>1</td>\n",
              "      <td>10037</td>\n",
              "      <td>COVID-19 virus detected (Principal Hospital Pr...</td>\n",
              "      <td>Not reported</td>\n",
              "      <td>No</td>\n",
              "      <td>0</td>\n",
              "      <td>Medicine</td>\n",
              "      <td>122</td>\n",
              "      <td>2020-01-21</td>\n",
              "      <td>January</td>\n",
              "      <td>1</td>\n",
              "      <td>2020</td>\n",
              "      <td>2020-04-11</td>\n",
              "      <td>81 days</td>\n",
              "      <td>81.0</td>\n",
              "      <td>HA IP 13MD</td>\n",
              "      <td>1012007040</td>\n",
              "      <td>Discharged</td>\n",
              "      <td>300</td>\n",
              "      <td>NOVEL CORONAVIRUS (COVID-19)</td>\n",
              "      <td>LABCORP COVID-19 TEST (SEND OUT) [LABC1923]</td>\n",
              "      <td>LABC1923</td>\n",
              "      <td>COVID-19 (confirmed)</td>\n",
              "      <td>Positive</td>\n",
              "      <td>1</td>\n",
              "      <td>NP/OP Swab</td>\n",
              "      <td>2020-03-19</td>\n",
              "      <td>2020-03-26</td>\n",
              "    </tr>\n",
              "  </tbody>\n",
              "</table>\n",
              "</div>"
            ],
            "text/plain": [
              "                 facility  sum_cases  ...  collected_date  result_date\n",
              "0  HARLEM HOSPITAL CENTER          1  ...      2020-04-06   2020-04-15\n",
              "1  HARLEM HOSPITAL CENTER          1  ...      2020-03-23   2020-03-30\n",
              "2  HARLEM HOSPITAL CENTER          2  ...      2020-03-19   2020-03-26\n",
              "\n",
              "[3 rows x 34 columns]"
            ]
          },
          "metadata": {
            "tags": []
          },
          "execution_count": 303
        }
      ]
    },
    {
      "cell_type": "code",
      "metadata": {
        "id": "PWYMkAlB-00G",
        "colab_type": "code",
        "colab": {
          "base_uri": "https://localhost:8080/",
          "height": 34
        },
        "outputId": "1b496404-fe12-4239-e92b-ade5d763a1cb"
      },
      "source": [
        "# Determining sum total of column 'visit_count'\n",
        "ha_df['visit_count'].sum()"
      ],
      "execution_count": 304,
      "outputs": [
        {
          "output_type": "execute_result",
          "data": {
            "text/plain": [
              "839"
            ]
          },
          "metadata": {
            "tags": []
          },
          "execution_count": 304
        }
      ]
    },
    {
      "cell_type": "code",
      "metadata": {
        "id": "0CPjwKEOAMAk",
        "colab_type": "code",
        "colab": {
          "base_uri": "https://localhost:8080/",
          "height": 142
        },
        "outputId": "a8e95192-abe7-4547-98ce-5ed0ae83176f"
      },
      "source": [
        "# Data is sorted by 'gender' column to analyze how many patients were male or female\n",
        "ha_df.pivot_table(index='gender',values='visit_count',aggfunc='count')"
      ],
      "execution_count": 305,
      "outputs": [
        {
          "output_type": "execute_result",
          "data": {
            "text/html": [
              "<div>\n",
              "<style scoped>\n",
              "    .dataframe tbody tr th:only-of-type {\n",
              "        vertical-align: middle;\n",
              "    }\n",
              "\n",
              "    .dataframe tbody tr th {\n",
              "        vertical-align: top;\n",
              "    }\n",
              "\n",
              "    .dataframe thead th {\n",
              "        text-align: right;\n",
              "    }\n",
              "</style>\n",
              "<table border=\"1\" class=\"dataframe\">\n",
              "  <thead>\n",
              "    <tr style=\"text-align: right;\">\n",
              "      <th></th>\n",
              "      <th>visit_count</th>\n",
              "    </tr>\n",
              "    <tr>\n",
              "      <th>gender</th>\n",
              "      <th></th>\n",
              "    </tr>\n",
              "  </thead>\n",
              "  <tbody>\n",
              "    <tr>\n",
              "      <th>F</th>\n",
              "      <td>360</td>\n",
              "    </tr>\n",
              "    <tr>\n",
              "      <th>M</th>\n",
              "      <td>479</td>\n",
              "    </tr>\n",
              "  </tbody>\n",
              "</table>\n",
              "</div>"
            ],
            "text/plain": [
              "        visit_count\n",
              "gender             \n",
              "F               360\n",
              "M               479"
            ]
          },
          "metadata": {
            "tags": []
          },
          "execution_count": 305
        }
      ]
    },
    {
      "cell_type": "code",
      "metadata": {
        "id": "uy-kDN15Abu7",
        "colab_type": "code",
        "colab": {
          "base_uri": "https://localhost:8080/",
          "height": 204
        },
        "outputId": "e3efb0d3-6a8e-4b7d-fd7b-0d082d77289e"
      },
      "source": [
        "# Data is sorted by Specimen type taken from each patient\n",
        "ha_df.pivot_table(index='specimen_type',values='visit_count',aggfunc='count')"
      ],
      "execution_count": 306,
      "outputs": [
        {
          "output_type": "execute_result",
          "data": {
            "text/html": [
              "<div>\n",
              "<style scoped>\n",
              "    .dataframe tbody tr th:only-of-type {\n",
              "        vertical-align: middle;\n",
              "    }\n",
              "\n",
              "    .dataframe tbody tr th {\n",
              "        vertical-align: top;\n",
              "    }\n",
              "\n",
              "    .dataframe thead th {\n",
              "        text-align: right;\n",
              "    }\n",
              "</style>\n",
              "<table border=\"1\" class=\"dataframe\">\n",
              "  <thead>\n",
              "    <tr style=\"text-align: right;\">\n",
              "      <th></th>\n",
              "      <th>visit_count</th>\n",
              "    </tr>\n",
              "    <tr>\n",
              "      <th>specimen_type</th>\n",
              "      <th></th>\n",
              "    </tr>\n",
              "  </thead>\n",
              "  <tbody>\n",
              "    <tr>\n",
              "      <th>Anterior Nares</th>\n",
              "      <td>1</td>\n",
              "    </tr>\n",
              "    <tr>\n",
              "      <th>NP/OP Swab</th>\n",
              "      <td>36</td>\n",
              "    </tr>\n",
              "    <tr>\n",
              "      <th>Nasopharyngeal</th>\n",
              "      <td>655</td>\n",
              "    </tr>\n",
              "    <tr>\n",
              "      <th>Nasopharyngeal Swab</th>\n",
              "      <td>147</td>\n",
              "    </tr>\n",
              "  </tbody>\n",
              "</table>\n",
              "</div>"
            ],
            "text/plain": [
              "                     visit_count\n",
              "specimen_type                   \n",
              "Anterior Nares                 1\n",
              "NP/OP Swab                    36\n",
              "Nasopharyngeal               655\n",
              "Nasopharyngeal Swab          147"
            ]
          },
          "metadata": {
            "tags": []
          },
          "execution_count": 306
        }
      ]
    },
    {
      "cell_type": "code",
      "metadata": {
        "id": "IY-ZIAfyAoEK",
        "colab_type": "code",
        "colab": {
          "base_uri": "https://localhost:8080/",
          "height": 576
        },
        "outputId": "4e519261-dd8a-4d62-9065-2211b7a6169c"
      },
      "source": [
        "# Determining number of patients using column 'visit_count' by 'encounter_dept' column\n",
        "ha_df.pivot_table(index='encounter_dept',values='visit_count',aggfunc='count')"
      ],
      "execution_count": 307,
      "outputs": [
        {
          "output_type": "execute_result",
          "data": {
            "text/html": [
              "<div>\n",
              "<style scoped>\n",
              "    .dataframe tbody tr th:only-of-type {\n",
              "        vertical-align: middle;\n",
              "    }\n",
              "\n",
              "    .dataframe tbody tr th {\n",
              "        vertical-align: top;\n",
              "    }\n",
              "\n",
              "    .dataframe thead th {\n",
              "        text-align: right;\n",
              "    }\n",
              "</style>\n",
              "<table border=\"1\" class=\"dataframe\">\n",
              "  <thead>\n",
              "    <tr style=\"text-align: right;\">\n",
              "      <th></th>\n",
              "      <th>visit_count</th>\n",
              "    </tr>\n",
              "    <tr>\n",
              "      <th>encounter_dept</th>\n",
              "      <th></th>\n",
              "    </tr>\n",
              "  </thead>\n",
              "  <tbody>\n",
              "    <tr>\n",
              "      <th>HA ED ADULT</th>\n",
              "      <td>634</td>\n",
              "    </tr>\n",
              "    <tr>\n",
              "      <th>HA ED PEDIATRIC</th>\n",
              "      <td>11</td>\n",
              "    </tr>\n",
              "    <tr>\n",
              "      <th>HA ED PSYCH</th>\n",
              "      <td>2</td>\n",
              "    </tr>\n",
              "    <tr>\n",
              "      <th>HA INTRA-OP</th>\n",
              "      <td>3</td>\n",
              "    </tr>\n",
              "    <tr>\n",
              "      <th>HA IP 11SU</th>\n",
              "      <td>24</td>\n",
              "    </tr>\n",
              "    <tr>\n",
              "      <th>HA IP 12MD</th>\n",
              "      <td>16</td>\n",
              "    </tr>\n",
              "    <tr>\n",
              "      <th>HA IP 13MD</th>\n",
              "      <td>46</td>\n",
              "    </tr>\n",
              "    <tr>\n",
              "      <th>HA IP 14MD</th>\n",
              "      <td>29</td>\n",
              "    </tr>\n",
              "    <tr>\n",
              "      <th>HA IP 15CC</th>\n",
              "      <td>5</td>\n",
              "    </tr>\n",
              "    <tr>\n",
              "      <th>HA IP 17PD</th>\n",
              "      <td>9</td>\n",
              "    </tr>\n",
              "    <tr>\n",
              "      <th>HA IP 3MED</th>\n",
              "      <td>6</td>\n",
              "    </tr>\n",
              "    <tr>\n",
              "      <th>HA IP 4NW MOTHER BABY</th>\n",
              "      <td>2</td>\n",
              "    </tr>\n",
              "    <tr>\n",
              "      <th>HA IP 4S LABOR &amp; DLVRY</th>\n",
              "      <td>21</td>\n",
              "    </tr>\n",
              "    <tr>\n",
              "      <th>HA IP 6BCU</th>\n",
              "      <td>1</td>\n",
              "    </tr>\n",
              "    <tr>\n",
              "      <th>HA IP 6ICU</th>\n",
              "      <td>17</td>\n",
              "    </tr>\n",
              "    <tr>\n",
              "      <th>HA IP MP3 ICU</th>\n",
              "      <td>13</td>\n",
              "    </tr>\n",
              "  </tbody>\n",
              "</table>\n",
              "</div>"
            ],
            "text/plain": [
              "                         visit_count\n",
              "encounter_dept                      \n",
              "HA ED ADULT                      634\n",
              "HA ED PEDIATRIC                   11\n",
              "HA ED PSYCH                        2\n",
              "HA INTRA-OP                        3\n",
              "HA IP 11SU                        24\n",
              "HA IP 12MD                        16\n",
              "HA IP 13MD                        46\n",
              "HA IP 14MD                        29\n",
              "HA IP 15CC                         5\n",
              "HA IP 17PD                         9\n",
              "HA IP 3MED                         6\n",
              "HA IP 4NW MOTHER BABY              2\n",
              "HA IP 4S LABOR & DLVRY            21\n",
              "HA IP 6BCU                         1\n",
              "HA IP 6ICU                        17\n",
              "HA IP MP3 ICU                     13"
            ]
          },
          "metadata": {
            "tags": []
          },
          "execution_count": 307
        }
      ]
    },
    {
      "cell_type": "code",
      "metadata": {
        "id": "ue1h5TMAjgST",
        "colab_type": "code",
        "colab": {
          "base_uri": "https://localhost:8080/",
          "height": 221
        },
        "outputId": "6f2604e3-090c-4a8e-c3a0-2daffdb169be"
      },
      "source": [
        "# Number of positive cases per month\n",
        "ha_df.groupby('month_id')['visit_count'].sum()"
      ],
      "execution_count": 308,
      "outputs": [
        {
          "output_type": "execute_result",
          "data": {
            "text/plain": [
              "month_id\n",
              "1       2\n",
              "2       3\n",
              "3     263\n",
              "4     441\n",
              "5      73\n",
              "6      36\n",
              "7      16\n",
              "8       3\n",
              "11      1\n",
              "12      1\n",
              "Name: visit_count, dtype: int64"
            ]
          },
          "metadata": {
            "tags": []
          },
          "execution_count": 308
        }
      ]
    },
    {
      "cell_type": "code",
      "metadata": {
        "id": "jn9qY46MmCXz",
        "colab_type": "code",
        "colab": {
          "base_uri": "https://localhost:8080/",
          "height": 85
        },
        "outputId": "fb1e65c3-50c7-41f9-a9a4-0da2e337c387"
      },
      "source": [
        "# Data is sorted by 'gender_id' column to analyze how many patients were male or female\n",
        "ha_df1 = ha_df.groupby('gender_id')['visit_count'].sum()\n",
        "print(ha_df1)"
      ],
      "execution_count": 309,
      "outputs": [
        {
          "output_type": "stream",
          "text": [
            "gender_id\n",
            "1    360\n",
            "2    479\n",
            "Name: visit_count, dtype: int64\n"
          ],
          "name": "stdout"
        }
      ]
    },
    {
      "cell_type": "code",
      "metadata": {
        "id": "faOSgXYMDUIf",
        "colab_type": "code",
        "colab": {
          "base_uri": "https://localhost:8080/",
          "height": 450
        },
        "outputId": "d3f7c7d1-7610-473a-ecad-c2cfcc851e72"
      },
      "source": [
        "# Determining number of positive patients by age\n",
        "ha_df.pivot_table(index='age',values='visit_count',aggfunc='count')"
      ],
      "execution_count": 310,
      "outputs": [
        {
          "output_type": "execute_result",
          "data": {
            "text/html": [
              "<div>\n",
              "<style scoped>\n",
              "    .dataframe tbody tr th:only-of-type {\n",
              "        vertical-align: middle;\n",
              "    }\n",
              "\n",
              "    .dataframe tbody tr th {\n",
              "        vertical-align: top;\n",
              "    }\n",
              "\n",
              "    .dataframe thead th {\n",
              "        text-align: right;\n",
              "    }\n",
              "</style>\n",
              "<table border=\"1\" class=\"dataframe\">\n",
              "  <thead>\n",
              "    <tr style=\"text-align: right;\">\n",
              "      <th></th>\n",
              "      <th>visit_count</th>\n",
              "    </tr>\n",
              "    <tr>\n",
              "      <th>age</th>\n",
              "      <th></th>\n",
              "    </tr>\n",
              "  </thead>\n",
              "  <tbody>\n",
              "    <tr>\n",
              "      <th>0.92</th>\n",
              "      <td>1</td>\n",
              "    </tr>\n",
              "    <tr>\n",
              "      <th>1.17</th>\n",
              "      <td>1</td>\n",
              "    </tr>\n",
              "    <tr>\n",
              "      <th>9.00</th>\n",
              "      <td>2</td>\n",
              "    </tr>\n",
              "    <tr>\n",
              "      <th>14.00</th>\n",
              "      <td>1</td>\n",
              "    </tr>\n",
              "    <tr>\n",
              "      <th>17.00</th>\n",
              "      <td>1</td>\n",
              "    </tr>\n",
              "    <tr>\n",
              "      <th>...</th>\n",
              "      <td>...</td>\n",
              "    </tr>\n",
              "    <tr>\n",
              "      <th>93.00</th>\n",
              "      <td>5</td>\n",
              "    </tr>\n",
              "    <tr>\n",
              "      <th>94.00</th>\n",
              "      <td>9</td>\n",
              "    </tr>\n",
              "    <tr>\n",
              "      <th>95.00</th>\n",
              "      <td>4</td>\n",
              "    </tr>\n",
              "    <tr>\n",
              "      <th>96.00</th>\n",
              "      <td>1</td>\n",
              "    </tr>\n",
              "    <tr>\n",
              "      <th>97.00</th>\n",
              "      <td>1</td>\n",
              "    </tr>\n",
              "  </tbody>\n",
              "</table>\n",
              "<p>84 rows × 1 columns</p>\n",
              "</div>"
            ],
            "text/plain": [
              "       visit_count\n",
              "age               \n",
              "0.92             1\n",
              "1.17             1\n",
              "9.00             2\n",
              "14.00            1\n",
              "17.00            1\n",
              "...            ...\n",
              "93.00            5\n",
              "94.00            9\n",
              "95.00            4\n",
              "96.00            1\n",
              "97.00            1\n",
              "\n",
              "[84 rows x 1 columns]"
            ]
          },
          "metadata": {
            "tags": []
          },
          "execution_count": 310
        }
      ]
    },
    {
      "cell_type": "code",
      "metadata": {
        "id": "x0lYz2ENGLr8",
        "colab_type": "code",
        "colab": {
          "base_uri": "https://localhost:8080/",
          "height": 34
        },
        "outputId": "61d8e916-1e08-487f-be8f-4e76d8005286"
      },
      "source": [
        "# Determining the mean of 'age' column\n",
        "ha_df['age'].mean()"
      ],
      "execution_count": 311,
      "outputs": [
        {
          "output_type": "execute_result",
          "data": {
            "text/plain": [
              "63.16578069129916"
            ]
          },
          "metadata": {
            "tags": []
          },
          "execution_count": 311
        }
      ]
    },
    {
      "cell_type": "code",
      "metadata": {
        "id": "aXHsILdQXLp9",
        "colab_type": "code",
        "colab": {
          "base_uri": "https://localhost:8080/",
          "height": 34
        },
        "outputId": "e4a914e8-45ff-4de3-e641-364b0cea2675"
      },
      "source": [
        "# What is the standard deviation by \"age\"\n",
        "ha_df['age'].std()"
      ],
      "execution_count": 312,
      "outputs": [
        {
          "output_type": "execute_result",
          "data": {
            "text/plain": [
              "17.69028213953049"
            ]
          },
          "metadata": {
            "tags": []
          },
          "execution_count": 312
        }
      ]
    },
    {
      "cell_type": "code",
      "metadata": {
        "id": "gKfK6cnlGWS-",
        "colab_type": "code",
        "colab": {
          "base_uri": "https://localhost:8080/",
          "height": 34
        },
        "outputId": "1b93aa57-a3d3-4871-c3a6-060e0843477a"
      },
      "source": [
        "# what is the age of the oldest patient that tested positive in Harlem to date\n",
        "ha_df['age'].max()"
      ],
      "execution_count": 313,
      "outputs": [
        {
          "output_type": "execute_result",
          "data": {
            "text/plain": [
              "97.0"
            ]
          },
          "metadata": {
            "tags": []
          },
          "execution_count": 313
        }
      ]
    },
    {
      "cell_type": "code",
      "metadata": {
        "id": "_4mMMuBpGgtT",
        "colab_type": "code",
        "colab": {
          "base_uri": "https://localhost:8080/",
          "height": 34
        },
        "outputId": "0c81ab34-0c50-4e68-f6d4-c65e4dec1f89"
      },
      "source": [
        "# what is the age of the youngest patient that tested positive in Harlem to date\n",
        "ha_df['age'].min()"
      ],
      "execution_count": 314,
      "outputs": [
        {
          "output_type": "execute_result",
          "data": {
            "text/plain": [
              "0.92"
            ]
          },
          "metadata": {
            "tags": []
          },
          "execution_count": 314
        }
      ]
    },
    {
      "cell_type": "code",
      "metadata": {
        "id": "FkkLX3g5HD37",
        "colab_type": "code",
        "colab": {
          "base_uri": "https://localhost:8080/",
          "height": 450
        },
        "outputId": "ff23a923-dc9a-44e0-d56d-7faca2f81cfa"
      },
      "source": [
        "# How many positive patients have primary problems at the time they were admitted?\n",
        "ha_df.pivot_table(index='primary_problem',values='visit_count',aggfunc='count')"
      ],
      "execution_count": 315,
      "outputs": [
        {
          "output_type": "execute_result",
          "data": {
            "text/html": [
              "<div>\n",
              "<style scoped>\n",
              "    .dataframe tbody tr th:only-of-type {\n",
              "        vertical-align: middle;\n",
              "    }\n",
              "\n",
              "    .dataframe tbody tr th {\n",
              "        vertical-align: top;\n",
              "    }\n",
              "\n",
              "    .dataframe thead th {\n",
              "        text-align: right;\n",
              "    }\n",
              "</style>\n",
              "<table border=\"1\" class=\"dataframe\">\n",
              "  <thead>\n",
              "    <tr style=\"text-align: right;\">\n",
              "      <th></th>\n",
              "      <th>visit_count</th>\n",
              "    </tr>\n",
              "    <tr>\n",
              "      <th>primary_problem</th>\n",
              "      <th></th>\n",
              "    </tr>\n",
              "  </thead>\n",
              "  <tbody>\n",
              "    <tr>\n",
              "      <th>2019 novel coronavirus detected (Principal Hospital Problem)</th>\n",
              "      <td>1</td>\n",
              "    </tr>\n",
              "    <tr>\n",
              "      <th>2019 novel coronavirus disease (COVID-19) (Principal Hospital Problem)</th>\n",
              "      <td>2</td>\n",
              "    </tr>\n",
              "    <tr>\n",
              "      <th>40 weeks gestation of pregnancy (Additional Hospital Problems)</th>\n",
              "      <td>1</td>\n",
              "    </tr>\n",
              "    <tr>\n",
              "      <th>?COPD/Asthma</th>\n",
              "      <td>1</td>\n",
              "    </tr>\n",
              "    <tr>\n",
              "      <th>A-fib (HCC) (Additional Hospital Problems)</th>\n",
              "      <td>1</td>\n",
              "    </tr>\n",
              "    <tr>\n",
              "      <th>...</th>\n",
              "      <td>...</td>\n",
              "    </tr>\n",
              "    <tr>\n",
              "      <th>Unsteady gait</th>\n",
              "      <td>1</td>\n",
              "    </tr>\n",
              "    <tr>\n",
              "      <th>Upper respiratory tract infection (Additional Hospital Problems)</th>\n",
              "      <td>1</td>\n",
              "    </tr>\n",
              "    <tr>\n",
              "      <th>Viral pneumonia (Additional Hospital Problems)</th>\n",
              "      <td>2</td>\n",
              "    </tr>\n",
              "    <tr>\n",
              "      <th>Vitamin D deficiency</th>\n",
              "      <td>1</td>\n",
              "    </tr>\n",
              "    <tr>\n",
              "      <th>rule out CVA (cerebral vascular accident) (HCC) (Additional Hospital Problems)</th>\n",
              "      <td>1</td>\n",
              "    </tr>\n",
              "  </tbody>\n",
              "</table>\n",
              "<p>271 rows × 1 columns</p>\n",
              "</div>"
            ],
            "text/plain": [
              "                                                    visit_count\n",
              "primary_problem                                                \n",
              "2019 novel coronavirus detected (Principal Hosp...            1\n",
              "2019 novel coronavirus disease (COVID-19) (Prin...            2\n",
              "40 weeks gestation of pregnancy (Additional Hos...            1\n",
              "?COPD/Asthma                                                  1\n",
              "A-fib (HCC) (Additional Hospital Problems)                    1\n",
              "...                                                         ...\n",
              "Unsteady gait                                                 1\n",
              "Upper respiratory tract infection (Additional H...            1\n",
              "Viral pneumonia (Additional Hospital Problems)                2\n",
              "Vitamin D deficiency                                          1\n",
              "rule out CVA (cerebral vascular accident) (HCC)...            1\n",
              "\n",
              "[271 rows x 1 columns]"
            ]
          },
          "metadata": {
            "tags": []
          },
          "execution_count": 315
        }
      ]
    },
    {
      "cell_type": "code",
      "metadata": {
        "id": "lNjg83JIMlKR",
        "colab_type": "code",
        "colab": {
          "base_uri": "https://localhost:8080/",
          "height": 102
        },
        "outputId": "ba5f87b8-9aa7-4722-a9f0-40f6397dfd74"
      },
      "source": [
        "# Total number of cases by admission date\n",
        "total_cases = ha_df.groupby('admit_date').sum()['sum_cases']\n",
        "total_cases.head(3)"
      ],
      "execution_count": 316,
      "outputs": [
        {
          "output_type": "execute_result",
          "data": {
            "text/plain": [
              "admit_date\n",
              "2018-12-22    1\n",
              "2019-11-13    1\n",
              "2020-01-21    4\n",
              "Name: sum_cases, dtype: int64"
            ]
          },
          "metadata": {
            "tags": []
          },
          "execution_count": 316
        }
      ]
    },
    {
      "cell_type": "markdown",
      "metadata": {
        "id": "91SqvsvuCOXF",
        "colab_type": "text"
      },
      "source": [
        "# **DATA ANALYSIS - Part 2**"
      ]
    },
    {
      "cell_type": "markdown",
      "metadata": {
        "id": "dSPB1biRc_Kk",
        "colab_type": "text"
      },
      "source": [
        "### *Setting up Data Frames for EDA*"
      ]
    },
    {
      "cell_type": "code",
      "metadata": {
        "id": "dt_UgdBZcrQd",
        "colab_type": "code",
        "colab": {
          "base_uri": "https://localhost:8080/",
          "height": 612
        },
        "outputId": "397ae68a-b3db-45f0-98d2-b1a88d81d2d3"
      },
      "source": [
        "ha_df.dtypes"
      ],
      "execution_count": 317,
      "outputs": [
        {
          "output_type": "execute_result",
          "data": {
            "text/plain": [
              "facility                      object\n",
              "sum_cases                      int64\n",
              "visit_count                    int64\n",
              "mrn                            int64\n",
              "age                          float64\n",
              "gender                        object\n",
              "gender_id                      int64\n",
              "zip_code                       int64\n",
              "primary_problem               object\n",
              "isolation_status              object\n",
              "admit_status                  object\n",
              "admit_status_id                int64\n",
              "service                       object\n",
              "service_id                     int64\n",
              "admit_date            datetime64[ns]\n",
              "month                         object\n",
              "month_id                       int64\n",
              "year                           int64\n",
              "discharge_date        datetime64[ns]\n",
              "los                  timedelta64[ns]\n",
              "los_num                      float64\n",
              "encounter_dept                object\n",
              "dept_id                        int64\n",
              "encounter_type                object\n",
              "encounter_type_id              int64\n",
              "component                     object\n",
              "procedure                     object\n",
              "lab_id                        object\n",
              "infection_status              object\n",
              "value                         object\n",
              "value_id                       int64\n",
              "specimen_type                 object\n",
              "collected_date        datetime64[ns]\n",
              "result_date           datetime64[ns]\n",
              "dtype: object"
            ]
          },
          "metadata": {
            "tags": []
          },
          "execution_count": 317
        }
      ]
    },
    {
      "cell_type": "code",
      "metadata": {
        "id": "LrK47QvMc9jD",
        "colab_type": "code",
        "colab": {}
      },
      "source": [
        "ha_cases = ha_df['sum_cases']\n",
        "ha_dates = ha_df['month_id']\n",
        "ha_age = ha_df['age']\n",
        "ha_gender = ha_df['gender']\n",
        "ha_genderid = ha_df['gender_id']\n",
        "ha_visitcount = ha_df['visit_count']\n",
        "ha_month = ha_df['month_id']\n",
        "ha_losnum = ha_df['los_num']\n",
        "ha_zip = ha_df['zip_code']\n",
        "ha_encid = ha_df['encounter_type_id']\n",
        "ha_deptid = ha_df['dept_id']\n",
        "ha_svcid = ha_df['service_id']\n",
        "ha_value = ha_df['value_id']"
      ],
      "execution_count": 318,
      "outputs": []
    },
    {
      "cell_type": "markdown",
      "metadata": {
        "id": "zJFbFxkkcr2a",
        "colab_type": "text"
      },
      "source": [
        "### *Exploratory Data Analysis - Scatter Plots*"
      ]
    },
    {
      "cell_type": "code",
      "metadata": {
        "id": "13a7SZIZIH57",
        "colab_type": "code",
        "colab": {
          "base_uri": "https://localhost:8080/",
          "height": 382
        },
        "outputId": "2d626089-21e4-4930-dab4-9812b00f11be"
      },
      "source": [
        "# Regression Analysis showing corelation between age, gender and patient service department:\n",
        "sns.lmplot(data=ha_df, x='service_id', y='age', hue='gender')"
      ],
      "execution_count": 319,
      "outputs": [
        {
          "output_type": "execute_result",
          "data": {
            "text/plain": [
              "<seaborn.axisgrid.FacetGrid at 0x7ffb126f03c8>"
            ]
          },
          "metadata": {
            "tags": []
          },
          "execution_count": 319
        },
        {
          "output_type": "display_data",
          "data": {
            "image/png": "[encoded data removed]",
            "text/plain": [
              "<Figure size 411.425x360 with 1 Axes>"
            ]
          },
          "metadata": {
            "tags": []
          }
        }
      ]
    },
    {
      "cell_type": "code",
      "metadata": {
        "id": "F4T-YXaBIW0x",
        "colab_type": "code",
        "colab": {
          "base_uri": "https://localhost:8080/",
          "height": 382
        },
        "outputId": "2e84e74d-28e3-467c-a03e-70af10cf01c3"
      },
      "source": [
        "# Regression Analysis showing corelation between age, month, and year:\n",
        "sns.lmplot(data=ha_df, x='month_id', y='age', hue='year')"
      ],
      "execution_count": 320,
      "outputs": [
        {
          "output_type": "execute_result",
          "data": {
            "text/plain": [
              "<seaborn.axisgrid.FacetGrid at 0x7ffb1283a7f0>"
            ]
          },
          "metadata": {
            "tags": []
          },
          "execution_count": 320
        },
        {
          "output_type": "display_data",
          "data": {
            "image/png": "[encoded data removed]",
            "text/plain": [
              "<Figure size 427.475x360 with 1 Axes>"
            ]
          },
          "metadata": {
            "tags": []
          }
        }
      ]
    },
    {
      "cell_type": "code",
      "metadata": {
        "id": "Qt90-DY3JDEq",
        "colab_type": "code",
        "colab": {
          "base_uri": "https://localhost:8080/",
          "height": 302
        },
        "outputId": "4576fb92-df54-4113-e160-690f1f1dc6c2"
      },
      "source": [
        "# Regression Analysis showing corelation between age and month:\n",
        "sns.regplot(x='month_id',y='age', data=ha_df)"
      ],
      "execution_count": 147,
      "outputs": [
        {
          "output_type": "execute_result",
          "data": {
            "text/plain": [
              "<matplotlib.axes._subplots.AxesSubplot at 0x7ffb15ebe898>"
            ]
          },
          "metadata": {
            "tags": []
          },
          "execution_count": 147
        },
        {
          "output_type": "display_data",
          "data": {
            "image/png": "[encoded data removed]",
            "text/plain": [
              "<Figure size 432x288 with 1 Axes>"
            ]
          },
          "metadata": {
            "tags": [],
            "needs_background": "light"
          }
        }
      ]
    },
    {
      "cell_type": "code",
      "metadata": {
        "id": "Dct297NuYt2Y",
        "colab_type": "code",
        "colab": {
          "base_uri": "https://localhost:8080/",
          "height": 285
        },
        "outputId": "8cf36ab6-4904-4fd3-f876-559fe03a3c0a"
      },
      "source": [
        "ax = sns.scatterplot(x=\"month_id\", y=\"sum_cases\",hue=\"specimen_type\",data=ha_df)"
      ],
      "execution_count": 187,
      "outputs": [
        {
          "output_type": "display_data",
          "data": {
            "image/png": "[encoded data removed]",
            "text/plain": [
              "<Figure size 432x288 with 1 Axes>"
            ]
          },
          "metadata": {
            "tags": [],
            "needs_background": "light"
          }
        }
      ]
    },
    {
      "cell_type": "code",
      "metadata": {
        "id": "gKcxFzCyYyrN",
        "colab_type": "code",
        "colab": {
          "base_uri": "https://localhost:8080/",
          "height": 285
        },
        "outputId": "bb3ea875-6001-47d1-abff-82fb23641ff1"
      },
      "source": [
        "ax = sns.scatterplot(x=\"lab_id\", y=\"sum_cases\", hue=\"infection_status\",\n",
        "                     data=ha_df)"
      ],
      "execution_count": 188,
      "outputs": [
        {
          "output_type": "display_data",
          "data": {
            "image/png": "[encoded data removed]",
            "text/plain": [
              "<Figure size 432x288 with 1 Axes>"
            ]
          },
          "metadata": {
            "tags": [],
            "needs_background": "light"
          }
        }
      ]
    },
    {
      "cell_type": "code",
      "metadata": {
        "id": "ER92uprmY1S-",
        "colab_type": "code",
        "colab": {
          "base_uri": "https://localhost:8080/",
          "height": 1000
        },
        "outputId": "1f442433-6417-4510-b615-8b78fa1ee82d"
      },
      "source": [
        "cmap = sns.cubehelix_palette(dark=.3, light=.8, as_cmap=True)\n",
        "ax = sns.scatterplot(x=\"month_id\", y=\"sum_cases\", hue=\"zip_code\", size=\"gender\",\n",
        "                     palette=\"Set3\",\n",
        "                     data=ha_df)"
      ],
      "execution_count": 189,
      "outputs": [
        {
          "output_type": "display_data",
          "data": {
            "image/png": "[encoded data removed]",
            "text/plain": [
              "<Figure size 432x288 with 1 Axes>"
            ]
          },
          "metadata": {
            "tags": [],
            "needs_background": "light"
          }
        }
      ]
    },
    {
      "cell_type": "markdown",
      "metadata": {
        "id": "8xTrQOwxZBTg",
        "colab_type": "text"
      },
      "source": [
        "### *Exploratory Data Analysis - Box Plots*\n",
        "\n",
        "\n"
      ]
    },
    {
      "cell_type": "code",
      "metadata": {
        "id": "pClPH3qcY9_I",
        "colab_type": "code",
        "colab": {
          "base_uri": "https://localhost:8080/",
          "height": 285
        },
        "outputId": "93dac554-245f-4d42-b48f-c8b5c0fb5876"
      },
      "source": [
        "ax = sns.boxplot(x=ha_df[\"sum_cases\"])"
      ],
      "execution_count": 191,
      "outputs": [
        {
          "output_type": "display_data",
          "data": {
            "image/png": "[encoded data removed]",
            "text/plain": [
              "<Figure size 432x288 with 1 Axes>"
            ]
          },
          "metadata": {
            "tags": [],
            "needs_background": "light"
          }
        }
      ]
    },
    {
      "cell_type": "code",
      "metadata": {
        "id": "5VEsonydZLDg",
        "colab_type": "code",
        "colab": {
          "base_uri": "https://localhost:8080/",
          "height": 285
        },
        "outputId": "075ae8c8-9f4e-4fd1-9f1b-3eaccf3cd1c6"
      },
      "source": [
        "ax = sns.boxplot(x=\"month_id\", y=\"sum_cases\", data=ha_df)"
      ],
      "execution_count": 192,
      "outputs": [
        {
          "output_type": "display_data",
          "data": {
            "image/png": "[encoded data removed]",
            "text/plain": [
              "<Figure size 432x288 with 1 Axes>"
            ]
          },
          "metadata": {
            "tags": [],
            "needs_background": "light"
          }
        }
      ]
    },
    {
      "cell_type": "code",
      "metadata": {
        "id": "eaupd_zmZPU6",
        "colab_type": "code",
        "colab": {
          "base_uri": "https://localhost:8080/",
          "height": 285
        },
        "outputId": "faa437d2-4bab-421d-bed5-23a720e2a85a"
      },
      "source": [
        "ax = sns.boxplot(x=\"month_id\", y=\"sum_cases\", hue=\"gender\", data=ha_df, palette=\"Set3\")"
      ],
      "execution_count": 193,
      "outputs": [
        {
          "output_type": "display_data",
          "data": {
            "image/png": "[encoded data removed]",
            "text/plain": [
              "<Figure size 432x288 with 1 Axes>"
            ]
          },
          "metadata": {
            "tags": [],
            "needs_background": "light"
          }
        }
      ]
    },
    {
      "cell_type": "code",
      "metadata": {
        "id": "Cn76KymAZT4E",
        "colab_type": "code",
        "colab": {
          "base_uri": "https://localhost:8080/",
          "height": 285
        },
        "outputId": "18e7d73b-f1d5-4d1b-a4f0-076ad6163fb7"
      },
      "source": [
        "ax = sns.boxplot(x=\"month_id\", y=\"sum_cases\", hue=\"gender\", data=ha_df)"
      ],
      "execution_count": 194,
      "outputs": [
        {
          "output_type": "display_data",
          "data": {
            "image/png": "[encoded data removed]",
            "text/plain": [
              "<Figure size 432x288 with 1 Axes>"
            ]
          },
          "metadata": {
            "tags": [],
            "needs_background": "light"
          }
        }
      ]
    },
    {
      "cell_type": "markdown",
      "metadata": {
        "id": "b6f0POISZbar",
        "colab_type": "text"
      },
      "source": [
        "### *Exploratory Data Analysis - Joint Plots*"
      ]
    },
    {
      "cell_type": "code",
      "metadata": {
        "id": "RS03F9eKZXlH",
        "colab_type": "code",
        "colab": {}
      },
      "source": [
        "import numpy as np; np.random.seed(0)\n",
        "import seaborn as sns; sns.set()"
      ],
      "execution_count": null,
      "outputs": []
    },
    {
      "cell_type": "code",
      "metadata": {
        "id": "Cd7waUhEZuWa",
        "colab_type": "code",
        "colab": {
          "base_uri": "https://localhost:8080/",
          "height": 441
        },
        "outputId": "bcaff12e-7e7a-4a71-bd95-90c906e4f57c"
      },
      "source": [
        "ax = sns.jointplot(x=\"sum_cases\", y=\"month_id\", data=ha_df)"
      ],
      "execution_count": 195,
      "outputs": [
        {
          "output_type": "display_data",
          "data": {
            "image/png": "[encoded data removed]",
            "text/plain": [
              "<Figure size 432x432 with 3 Axes>"
            ]
          },
          "metadata": {
            "tags": [],
            "needs_background": "light"
          }
        }
      ]
    },
    {
      "cell_type": "code",
      "metadata": {
        "id": "2T4_ntO6Z7yu",
        "colab_type": "code",
        "colab": {
          "base_uri": "https://localhost:8080/",
          "height": 441
        },
        "outputId": "61c06661-7677-4cb6-b1f2-fb1091a18a7f"
      },
      "source": [
        "ax = sns.jointplot(\"month_id\",\"sum_cases\", data=ha_df, kind=\"reg\")"
      ],
      "execution_count": 197,
      "outputs": [
        {
          "output_type": "display_data",
          "data": {
            "image/png": "[encoded data removed]",
            "text/plain": [
              "<Figure size 432x432 with 3 Axes>"
            ]
          },
          "metadata": {
            "tags": [],
            "needs_background": "light"
          }
        }
      ]
    },
    {
      "cell_type": "code",
      "metadata": {
        "id": "d1hPdrzdaAcf",
        "colab_type": "code",
        "colab": {
          "base_uri": "https://localhost:8080/",
          "height": 441
        },
        "outputId": "4feb6ba6-5f40-4bba-c751-68a12d605040"
      },
      "source": [
        "ax = sns.jointplot(\"month_id\",\"sum_cases\", data=ha_df, kind=\"hex\")"
      ],
      "execution_count": 198,
      "outputs": [
        {
          "output_type": "display_data",
          "data": {
            "image/png": "[encoded data removed]",
            "text/plain": [
              "<Figure size 432x432 with 3 Axes>"
            ]
          },
          "metadata": {
            "tags": [],
            "needs_background": "light"
          }
        }
      ]
    },
    {
      "cell_type": "code",
      "metadata": {
        "id": "N-JJvEmLaEYO",
        "colab_type": "code",
        "colab": {
          "base_uri": "https://localhost:8080/",
          "height": 441
        },
        "outputId": "16c80208-7b0b-4172-a153-d112e37b99bb"
      },
      "source": [
        "ax = sns.jointplot(\"month_id\",\"sum_cases\", data=ha_df, kind=\"kde\")"
      ],
      "execution_count": 199,
      "outputs": [
        {
          "output_type": "display_data",
          "data": {
            "image/png": "[encoded data removed]",
            "text/plain": [
              "<Figure size 432x432 with 3 Axes>"
            ]
          },
          "metadata": {
            "tags": [],
            "needs_background": "light"
          }
        }
      ]
    },
    {
      "cell_type": "code",
      "metadata": {
        "id": "bKwGorncaHVa",
        "colab_type": "code",
        "colab": {
          "base_uri": "https://localhost:8080/",
          "height": 1000
        },
        "outputId": "4632a912-f527-4c64-f940-7dea76eff10e"
      },
      "source": [
        "ax = (sns.jointplot(\"sum_cases\",\"dept_id\", data=ha_df).plot_joint(sns.kdeplot,n_levels=6))"
      ],
      "execution_count": 208,
      "outputs": [
        {
          "output_type": "stream",
          "text": [
            "/usr/local/lib/python3.6/dist-packages/statsmodels/nonparametric/kernels.py:128: RuntimeWarning:\n",
            "\n",
            "divide by zero encountered in true_divide\n",
            "\n",
            "/usr/local/lib/python3.6/dist-packages/statsmodels/nonparametric/kernels.py:128: RuntimeWarning:\n",
            "\n",
            "invalid value encountered in true_divide\n",
            "\n",
            "/usr/local/lib/python3.6/dist-packages/statsmodels/nonparametric/_kernel_base.py:516: RuntimeWarning:\n",
            "\n",
            "invalid value encountered in true_divide\n",
            "\n",
            "/usr/local/lib/python3.6/dist-packages/matplotlib/contour.py:1483: UserWarning:\n",
            "\n",
            "Warning: converting a masked element to nan.\n",
            "\n",
            "/usr/local/lib/python3.6/dist-packages/matplotlib/contour.py:1484: UserWarning:\n",
            "\n",
            "Warning: converting a masked element to nan.\n",
            "\n",
            "/usr/local/lib/python3.6/dist-packages/matplotlib/contour.py:1132: RuntimeWarning:\n",
            "\n",
            "invalid value encountered in less\n",
            "\n",
            "/usr/local/lib/python3.6/dist-packages/matplotlib/contour.py:1134: RuntimeWarning:\n",
            "\n",
            "invalid value encountered in greater\n",
            "\n",
            "/usr/local/lib/python3.6/dist-packages/matplotlib/contour.py:1163: RuntimeWarning:\n",
            "\n",
            "invalid value encountered in greater\n",
            "\n",
            "/usr/local/lib/python3.6/dist-packages/matplotlib/contour.py:1163: RuntimeWarning:\n",
            "\n",
            "invalid value encountered in less\n",
            "\n",
            "/usr/local/lib/python3.6/dist-packages/seaborn/distributions.py:434: UserWarning:\n",
            "\n",
            "No contour levels were found within the data range.\n",
            "\n"
          ],
          "name": "stderr"
        },
        {
          "output_type": "display_data",
          "data": {
            "image/png": "[encoded data removed]",
            "text/plain": [
              "<Figure size 432x432 with 3 Axes>"
            ]
          },
          "metadata": {
            "tags": [],
            "needs_background": "light"
          }
        }
      ]
    },
    {
      "cell_type": "markdown",
      "metadata": {
        "id": "uaMbQ2n2SrY5",
        "colab_type": "text"
      },
      "source": [
        "### *Exploratory Data Analysis - Bar Plots 1*"
      ]
    },
    {
      "cell_type": "code",
      "metadata": {
        "id": "amZZ_KrCL6lJ",
        "colab_type": "code",
        "colab": {
          "base_uri": "https://localhost:8080/",
          "height": 435
        },
        "outputId": "7cb930dd-f5c9-4090-b977-ff77cf934400"
      },
      "source": [
        "plt.figure(figsize=(15,7))\n",
        "plt.bar(x=ha_dates, height=ha_cases, color='blue')\n",
        "plt.xticks(rotation=90)\n",
        "plt.xlim(1,12)\n",
        "plt.show()"
      ],
      "execution_count": 148,
      "outputs": [
        {
          "output_type": "display_data",
          "data": {
            "image/png": "[encoded data removed]",
            "text/plain": [
              "<Figure size 1080x504 with 1 Axes>"
            ]
          },
          "metadata": {
            "tags": [],
            "needs_background": "light"
          }
        }
      ]
    },
    {
      "cell_type": "markdown",
      "metadata": {
        "id": "EmBc8x9zTTxn",
        "colab_type": "text"
      },
      "source": [
        "### *Exploratory Data Analysis - Bar Plots 2*"
      ]
    },
    {
      "cell_type": "code",
      "metadata": {
        "id": "vL2xQTx-R_N4",
        "colab_type": "code",
        "colab": {}
      },
      "source": [
        "pt_data_discharge = ha_df_dis_df.los_num.value_counts()"
      ],
      "execution_count": 152,
      "outputs": []
    },
    {
      "cell_type": "code",
      "metadata": {
        "id": "MAYvdHp0SIBQ",
        "colab_type": "code",
        "colab": {}
      },
      "source": [
        "type(pt_data_discharge)"
      ],
      "execution_count": null,
      "outputs": []
    },
    {
      "cell_type": "code",
      "metadata": {
        "id": "pANyH0xCSKMr",
        "colab_type": "code",
        "colab": {}
      },
      "source": [
        "pt_discharge_df = pd.DataFrame(pt_data_dischage)\n",
        "pt_discharge_df.head()"
      ],
      "execution_count": null,
      "outputs": []
    },
    {
      "cell_type": "code",
      "metadata": {
        "id": "vhs3P4eGSRyF",
        "colab_type": "code",
        "colab": {}
      },
      "source": [
        "pt_discharge_df = pt_discharge_df.reset_index()"
      ],
      "execution_count": 229,
      "outputs": []
    },
    {
      "cell_type": "code",
      "metadata": {
        "id": "zEJQz6QZSS00",
        "colab_type": "code",
        "colab": {}
      },
      "source": [
        "pt_discharge_df_final = pt_discharge_df.rename(columns={'index':'los_days'})"
      ],
      "execution_count": 230,
      "outputs": []
    },
    {
      "cell_type": "code",
      "metadata": {
        "id": "QmwqxyBQSbYI",
        "colab_type": "code",
        "colab": {
          "base_uri": "https://localhost:8080/",
          "height": 628
        },
        "outputId": "242cf8f6-c732-4ccb-da31-cb912e1cee79"
      },
      "source": [
        "plt.figure(figsize=(15,10))\n",
        "sns.barplot(data=pt_discharge_df_final,x='los_days', y='los_num')"
      ],
      "execution_count": 157,
      "outputs": [
        {
          "output_type": "execute_result",
          "data": {
            "text/plain": [
              "<matplotlib.axes._subplots.AxesSubplot at 0x7ffb12268f60>"
            ]
          },
          "metadata": {
            "tags": []
          },
          "execution_count": 157
        },
        {
          "output_type": "display_data",
          "data": {
            "image/png": "[encoded data removed]",
            "text/plain": [
              "<Figure size 1080x720 with 1 Axes>"
            ]
          },
          "metadata": {
            "tags": [],
            "needs_background": "light"
          }
        }
      ]
    },
    {
      "cell_type": "markdown",
      "metadata": {
        "id": "lMRMLkw5Zxvg",
        "colab_type": "text"
      },
      "source": [
        "### *Exploratory Data Analysis - Scatterplot*"
      ]
    },
    {
      "cell_type": "code",
      "metadata": {
        "id": "-G_3r1dnXoLN",
        "colab_type": "code",
        "colab": {}
      },
      "source": [
        "import numpy\n",
        "import matplotlib.pyplot as pl"
      ],
      "execution_count": 162,
      "outputs": []
    },
    {
      "cell_type": "code",
      "metadata": {
        "id": "lg6ZcItHaiq5",
        "colab_type": "code",
        "colab": {
          "base_uri": "https://localhost:8080/",
          "height": 268
        },
        "outputId": "9361ca9a-b9d1-46e6-bafb-d9189466d328"
      },
      "source": [
        "# LOS and Sum of cases\n",
        "plt.scatter(ha_losnum, ha_cases)\n",
        "plt.show()"
      ],
      "execution_count": 159,
      "outputs": [
        {
          "output_type": "display_data",
          "data": {
            "image/png": "[encoded data removed]",
            "text/plain": [
              "<Figure size 432x288 with 1 Axes>"
            ]
          },
          "metadata": {
            "tags": [],
            "needs_background": "light"
          }
        }
      ]
    },
    {
      "cell_type": "code",
      "metadata": {
        "id": "_53tYIWKeG2k",
        "colab_type": "code",
        "colab": {
          "base_uri": "https://localhost:8080/",
          "height": 268
        },
        "outputId": "bb6f683d-994f-469a-9162-96571e20cdb4"
      },
      "source": [
        "# LOS and Zip\n",
        "plt.scatter(ha_losnum, ha_zip)\n",
        "plt.show()"
      ],
      "execution_count": 160,
      "outputs": [
        {
          "output_type": "display_data",
          "data": {
            "image/png": "[encoded data removed]",
            "text/plain": [
              "<Figure size 432x288 with 1 Axes>"
            ]
          },
          "metadata": {
            "tags": [],
            "needs_background": "light"
          }
        }
      ]
    },
    {
      "cell_type": "code",
      "metadata": {
        "id": "sFTeV-8BfkOu",
        "colab_type": "code",
        "colab": {}
      },
      "source": [
        "ha_df['los_num'].mean()"
      ],
      "execution_count": null,
      "outputs": []
    },
    {
      "cell_type": "code",
      "metadata": {
        "id": "I08Y-A-wf14x",
        "colab_type": "code",
        "colab": {}
      },
      "source": [
        "ha_df['los_num'].std()"
      ],
      "execution_count": null,
      "outputs": []
    },
    {
      "cell_type": "code",
      "metadata": {
        "id": "O0s2ndH_f5yr",
        "colab_type": "code",
        "colab": {}
      },
      "source": [
        "ha_df['los_num'].max()"
      ],
      "execution_count": null,
      "outputs": []
    },
    {
      "cell_type": "code",
      "metadata": {
        "id": "ZMUFV-76fGPi",
        "colab_type": "code",
        "colab": {
          "base_uri": "https://localhost:8080/",
          "height": 268
        },
        "outputId": "116a0715-bc61-4cb2-c48f-a6f7eaf4bc9f"
      },
      "source": [
        "ha_losnum = numpy.random.normal(475.0, 11.74, 475)\n",
        "\n",
        "plt.hist(ha_losnum, 500, color='black')\n",
        "plt.show()"
      ],
      "execution_count": 166,
      "outputs": [
        {
          "output_type": "display_data",
          "data": {
            "image/png": "[encoded data removed]",
            "text/plain": [
              "<Figure size 432x288 with 1 Axes>"
            ]
          },
          "metadata": {
            "tags": [],
            "needs_background": "light"
          }
        }
      ]
    },
    {
      "cell_type": "code",
      "metadata": {
        "id": "haawtG-7hd6p",
        "colab_type": "code",
        "colab": {
          "base_uri": "https://localhost:8080/",
          "height": 285
        },
        "outputId": "2378b43e-c22b-4607-c98f-2315600563cd"
      },
      "source": [
        "df = pd.DataFrame(ha_df, columns=['gender_id', 'age', 'los_num'])\n",
        "df.plot.area()"
      ],
      "execution_count": 168,
      "outputs": [
        {
          "output_type": "execute_result",
          "data": {
            "text/plain": [
              "<matplotlib.axes._subplots.AxesSubplot at 0x7ffb12675128>"
            ]
          },
          "metadata": {
            "tags": []
          },
          "execution_count": 168
        },
        {
          "output_type": "display_data",
          "data": {
            "image/png": "[encoded data removed]",
            "text/plain": [
              "<Figure size 432x288 with 1 Axes>"
            ]
          },
          "metadata": {
            "tags": [],
            "needs_background": "light"
          }
        }
      ]
    },
    {
      "cell_type": "code",
      "metadata": {
        "id": "_YubX32yiy71",
        "colab_type": "code",
        "colab": {
          "base_uri": "https://localhost:8080/",
          "height": 302
        },
        "outputId": "7f510c6d-6a9d-4fc6-8b3c-5fa65d2602bf"
      },
      "source": [
        "ha_df.plot.scatter(x='los_num', y='mrn', color='DarkBlue', label='Group 1')"
      ],
      "execution_count": 169,
      "outputs": [
        {
          "output_type": "execute_result",
          "data": {
            "text/plain": [
              "<matplotlib.axes._subplots.AxesSubplot at 0x7ffb122c4748>"
            ]
          },
          "metadata": {
            "tags": []
          },
          "execution_count": 169
        },
        {
          "output_type": "display_data",
          "data": {
            "image/png": "[encoded data removed]",
            "text/plain": [
              "<Figure size 432x288 with 1 Axes>"
            ]
          },
          "metadata": {
            "tags": [],
            "needs_background": "light"
          }
        }
      ]
    },
    {
      "cell_type": "code",
      "metadata": {
        "id": "__UVSsHcx1xY",
        "colab_type": "code",
        "colab": {}
      },
      "source": [
        "df1 = ha_df.pivot_table(index='gender',values='visit_count',aggfunc='count')\n",
        "df1"
      ],
      "execution_count": null,
      "outputs": []
    },
    {
      "cell_type": "code",
      "metadata": {
        "id": "TsjBXHnLwu1a",
        "colab_type": "code",
        "colab": {
          "base_uri": "https://localhost:8080/",
          "height": 304
        },
        "outputId": "e0d77946-b471-44b2-90b6-d6add560c2a6"
      },
      "source": [
        "df1.plot(kind='bar')"
      ],
      "execution_count": 171,
      "outputs": [
        {
          "output_type": "execute_result",
          "data": {
            "text/plain": [
              "<matplotlib.axes._subplots.AxesSubplot at 0x7ffb12799cc0>"
            ]
          },
          "metadata": {
            "tags": []
          },
          "execution_count": 171
        },
        {
          "output_type": "display_data",
          "data": {
            "image/png": "[encoded data removed]",
            "text/plain": [
              "<Figure size 432x288 with 1 Axes>"
            ]
          },
          "metadata": {
            "tags": [],
            "needs_background": "light"
          }
        }
      ]
    },
    {
      "cell_type": "code",
      "metadata": {
        "id": "9BFpY6yXymNJ",
        "colab_type": "code",
        "colab": {}
      },
      "source": [
        "df2 = ha_df.pivot_table(index='encounter_dept',values='visit_count',aggfunc='count')\n",
        "df2"
      ],
      "execution_count": null,
      "outputs": []
    },
    {
      "cell_type": "code",
      "metadata": {
        "id": "mr6SHKkVyxgJ",
        "colab_type": "code",
        "colab": {
          "base_uri": "https://localhost:8080/",
          "height": 450
        },
        "outputId": "a5b84361-210c-445f-c498-83e3e3189aee"
      },
      "source": [
        "df2.plot(kind='bar')\n",
        "plt.xticks(rotation=90)"
      ],
      "execution_count": 231,
      "outputs": [
        {
          "output_type": "execute_result",
          "data": {
            "text/plain": [
              "(array([-2.,  0.,  2.,  4.,  6.,  8., 10., 12., 14., 16.]),\n",
              " <a list of 10 Text major ticklabel objects>)"
            ]
          },
          "metadata": {
            "tags": []
          },
          "execution_count": 231
        },
        {
          "output_type": "display_data",
          "data": {
            "image/png": "[encoded data removed]",
            "text/plain": [
              "<Figure size 432x288 with 1 Axes>"
            ]
          },
          "metadata": {
            "tags": [],
            "needs_background": "light"
          }
        }
      ]
    },
    {
      "cell_type": "code",
      "metadata": {
        "id": "4D--oOvnznd7",
        "colab_type": "code",
        "colab": {}
      },
      "source": [
        "df3 = ha_df.groupby('month_id')['value_id'].sum()\n",
        "df3"
      ],
      "execution_count": null,
      "outputs": []
    },
    {
      "cell_type": "code",
      "metadata": {
        "id": "TkTiLgBEzywx",
        "colab_type": "code",
        "colab": {
          "base_uri": "https://localhost:8080/",
          "height": 285
        },
        "outputId": "e37d1681-ecd0-4302-ac31-b6716516f601"
      },
      "source": [
        "df3.plot(kind='line')\n",
        "plt.show()"
      ],
      "execution_count": 175,
      "outputs": [
        {
          "output_type": "display_data",
          "data": {
            "image/png": "[encoded data removed]",
            "text/plain": [
              "<Figure size 432x288 with 1 Axes>"
            ]
          },
          "metadata": {
            "tags": [],
            "needs_background": "light"
          }
        }
      ]
    },
    {
      "cell_type": "code",
      "metadata": {
        "id": "Qnr1EnPB3iy5",
        "colab_type": "code",
        "colab": {
          "base_uri": "https://localhost:8080/",
          "height": 465
        },
        "outputId": "d90ff658-980f-469f-98d3-1d8959f68c05"
      },
      "source": [
        "fig, ax = plt.subplots(figsize=(15,7))\n",
        "ha_df.groupby(['age','gender']).count()['los_num'].unstack().plot(ax=ax)"
      ],
      "execution_count": 176,
      "outputs": [
        {
          "output_type": "execute_result",
          "data": {
            "text/plain": [
              "<matplotlib.axes._subplots.AxesSubplot at 0x7ffb158b8d30>"
            ]
          },
          "metadata": {
            "tags": []
          },
          "execution_count": 176
        },
        {
          "output_type": "display_data",
          "data": {
            "image/png": "[encoded data removed]",
            "text/plain": [
              "<Figure size 1080x504 with 1 Axes>"
            ]
          },
          "metadata": {
            "tags": [],
            "needs_background": "light"
          }
        }
      ]
    },
    {
      "cell_type": "code",
      "metadata": {
        "id": "y5sg5Zn-4t3T",
        "colab_type": "code",
        "colab": {
          "base_uri": "https://localhost:8080/",
          "height": 465
        },
        "outputId": "b4d79b7b-3c26-4d00-bcc2-eb312f8c0c61"
      },
      "source": [
        "fig, ax = plt.subplots(figsize=(15,7))\n",
        "ha_df.groupby(['sum_cases','gender']).count()['month'].unstack().plot(ax=ax)"
      ],
      "execution_count": 178,
      "outputs": [
        {
          "output_type": "execute_result",
          "data": {
            "text/plain": [
              "<matplotlib.axes._subplots.AxesSubplot at 0x7ffb1596d6d8>"
            ]
          },
          "metadata": {
            "tags": []
          },
          "execution_count": 178
        },
        {
          "output_type": "display_data",
          "data": {
            "image/png": "[encoded data removed]",
            "text/plain": [
              "<Figure size 1080x504 with 1 Axes>"
            ]
          },
          "metadata": {
            "tags": [],
            "needs_background": "light"
          }
        }
      ]
    },
    {
      "cell_type": "code",
      "metadata": {
        "id": "-CMIeCxT7HxU",
        "colab_type": "code",
        "colab": {}
      },
      "source": [
        "import matplotlib.pyplot as plt\n",
        "%matplotlib inline"
      ],
      "execution_count": 95,
      "outputs": []
    },
    {
      "cell_type": "code",
      "metadata": {
        "id": "_tuXAuJr7CQ4",
        "colab_type": "code",
        "colab": {
          "base_uri": "https://localhost:8080/",
          "height": 285
        },
        "outputId": "c85dd01f-6b67-4ed2-c4c8-c23599d327bb"
      },
      "source": [
        "ha_df['age'].plot.hist()"
      ],
      "execution_count": 179,
      "outputs": [
        {
          "output_type": "execute_result",
          "data": {
            "text/plain": [
              "<matplotlib.axes._subplots.AxesSubplot at 0x7ffb15a711d0>"
            ]
          },
          "metadata": {
            "tags": []
          },
          "execution_count": 179
        },
        {
          "output_type": "display_data",
          "data": {
            "image/png": "[encoded data removed]",
            "text/plain": [
              "<Figure size 432x288 with 1 Axes>"
            ]
          },
          "metadata": {
            "tags": [],
            "needs_background": "light"
          }
        }
      ]
    },
    {
      "cell_type": "code",
      "metadata": {
        "id": "ZzHcvrNu7NJt",
        "colab_type": "code",
        "colab": {}
      },
      "source": [
        "correlations = ha_df.corr()\n",
        "correlations = correlations['value_id']\n",
        "print(correlations)"
      ],
      "execution_count": null,
      "outputs": []
    },
    {
      "cell_type": "code",
      "metadata": {
        "id": "ck-V41UQ8cWa",
        "colab_type": "code",
        "colab": {
          "base_uri": "https://localhost:8080/",
          "height": 339
        },
        "outputId": "896f9f0a-d067-4dd5-c03b-dae081d5d585"
      },
      "source": [
        "ha_df.plot.scatter(x='sum_cases', y='los_num')"
      ],
      "execution_count": 181,
      "outputs": [
        {
          "output_type": "stream",
          "text": [
            "*c* argument looks like a single numeric RGB or RGBA sequence, which should be avoided as value-mapping will have precedence in case its length matches with *x* & *y*.  Please use the *color* keyword-argument or provide a 2-D array with a single row if you intend to specify the same RGB or RGBA value for all points.\n"
          ],
          "name": "stderr"
        },
        {
          "output_type": "execute_result",
          "data": {
            "text/plain": [
              "<matplotlib.axes._subplots.AxesSubplot at 0x7ffb122084a8>"
            ]
          },
          "metadata": {
            "tags": []
          },
          "execution_count": 181
        },
        {
          "output_type": "display_data",
          "data": {
            "image/png": "[encoded data removed]",
            "text/plain": [
              "<Figure size 432x288 with 1 Axes>"
            ]
          },
          "metadata": {
            "tags": [],
            "needs_background": "light"
          }
        }
      ]
    },
    {
      "cell_type": "code",
      "metadata": {
        "id": "MN_PjvBZB0zG",
        "colab_type": "code",
        "colab": {
          "base_uri": "https://localhost:8080/",
          "height": 339
        },
        "outputId": "f990b5f5-ddd9-498f-a88a-5e788f8ef0ff"
      },
      "source": [
        "ha_df.plot.scatter(x='age', y='los_num')"
      ],
      "execution_count": 182,
      "outputs": [
        {
          "output_type": "stream",
          "text": [
            "*c* argument looks like a single numeric RGB or RGBA sequence, which should be avoided as value-mapping will have precedence in case its length matches with *x* & *y*.  Please use the *color* keyword-argument or provide a 2-D array with a single row if you intend to specify the same RGB or RGBA value for all points.\n"
          ],
          "name": "stderr"
        },
        {
          "output_type": "execute_result",
          "data": {
            "text/plain": [
              "<matplotlib.axes._subplots.AxesSubplot at 0x7ffb11f6f438>"
            ]
          },
          "metadata": {
            "tags": []
          },
          "execution_count": 182
        },
        {
          "output_type": "display_data",
          "data": {
            "image/png": "[encoded data removed]",
            "text/plain": [
              "<Figure size 432x288 with 1 Axes>"
            ]
          },
          "metadata": {
            "tags": [],
            "needs_background": "light"
          }
        }
      ]
    }
  ]
}